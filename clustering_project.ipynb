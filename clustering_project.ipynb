{
 "cells": [
  {
   "cell_type": "code",
   "execution_count": 1,
   "metadata": {},
   "outputs": [
    {
     "name": "stdout",
     "output_type": "stream",
     "text": [
      "acquire.py functions loaded successfully\n",
      "prep.py functions loaded successfully\n",
      "wrangle.py functions loaded successfully\n"
     ]
    }
   ],
   "source": [
    "import acquire\n",
    "import prep\n",
    "import warnings\n",
    "warnings.filterwarnings(\"ignore\")\n",
    "\n",
    "import pandas as pd\n",
    "import numpy as np\n",
    "from sklearn.model_selection import train_test_split\n",
    "\n",
    "import scipy.stats as stats\n",
    "\n",
    "import matplotlib.pyplot as plt\n",
    "from matplotlib import cm\n",
    "import seaborn as sns\n",
    "import wrangle\n",
    "from sklearn.preprocessing import MinMaxScaler, RobustScaler, StandardScaler\n",
    "from sklearn.metrics import mean_squared_error, explained_variance_score\n",
    "\n",
    "pd.set_option('display.max_columns', None)\n",
    "pd.set_option('float_format', '{:f}'.format)"
   ]
  },
  {
   "cell_type": "markdown",
   "metadata": {},
   "source": [
    "After creating the Acquire and Prep files, I imported them to assess the data further"
   ]
  },
  {
   "cell_type": "code",
   "execution_count": 2,
   "metadata": {},
   "outputs": [
    {
     "data": {
      "text/html": [
       "<div>\n",
       "<style scoped>\n",
       "    .dataframe tbody tr th:only-of-type {\n",
       "        vertical-align: middle;\n",
       "    }\n",
       "\n",
       "    .dataframe tbody tr th {\n",
       "        vertical-align: top;\n",
       "    }\n",
       "\n",
       "    .dataframe thead th {\n",
       "        text-align: right;\n",
       "    }\n",
       "</style>\n",
       "<table border=\"1\" class=\"dataframe\">\n",
       "  <thead>\n",
       "    <tr style=\"text-align: right;\">\n",
       "      <th></th>\n",
       "      <th>parcelid</th>\n",
       "      <th>propertylandusetypeid</th>\n",
       "      <th>bathroomcnt</th>\n",
       "      <th>bedroomcnt</th>\n",
       "      <th>calculatedbathnbr</th>\n",
       "      <th>calculatedfinishedsquarefeet</th>\n",
       "      <th>finishedsquarefeet12</th>\n",
       "      <th>fips</th>\n",
       "      <th>fullbathcnt</th>\n",
       "      <th>latitude</th>\n",
       "      <th>longitude</th>\n",
       "      <th>lotsizesquarefeet</th>\n",
       "      <th>propertycountylandusecode</th>\n",
       "      <th>rawcensustractandblock</th>\n",
       "      <th>regionidcity</th>\n",
       "      <th>regionidcounty</th>\n",
       "      <th>regionidzip</th>\n",
       "      <th>roomcnt</th>\n",
       "      <th>yearbuilt</th>\n",
       "      <th>structuretaxvaluedollarcnt</th>\n",
       "      <th>taxvaluedollarcnt</th>\n",
       "      <th>assessmentyear</th>\n",
       "      <th>landtaxvaluedollarcnt</th>\n",
       "      <th>taxamount</th>\n",
       "      <th>censustractandblock</th>\n",
       "      <th>logerror</th>\n",
       "      <th>tdate</th>\n",
       "      <th>propertylandusedesc</th>\n",
       "      <th>is_la_county</th>\n",
       "      <th>is_orange_county</th>\n",
       "      <th>is_ventura_county</th>\n",
       "    </tr>\n",
       "  </thead>\n",
       "  <tbody>\n",
       "    <tr>\n",
       "      <th>0</th>\n",
       "      <td>14297519</td>\n",
       "      <td>261.000000</td>\n",
       "      <td>3.500000</td>\n",
       "      <td>4.000000</td>\n",
       "      <td>3.500000</td>\n",
       "      <td>3100.000000</td>\n",
       "      <td>3100.000000</td>\n",
       "      <td>6059.000000</td>\n",
       "      <td>3.000000</td>\n",
       "      <td>33634931.000000</td>\n",
       "      <td>-117869207.000000</td>\n",
       "      <td>4506.000000</td>\n",
       "      <td>122</td>\n",
       "      <td>60590630.072012</td>\n",
       "      <td>53571.000000</td>\n",
       "      <td>1286.000000</td>\n",
       "      <td>96978.000000</td>\n",
       "      <td>0.000000</td>\n",
       "      <td>1998.000000</td>\n",
       "      <td>485713.000000</td>\n",
       "      <td>1023282.000000</td>\n",
       "      <td>2016.000000</td>\n",
       "      <td>537569.000000</td>\n",
       "      <td>11013.720000</td>\n",
       "      <td>60590630072012.000000</td>\n",
       "      <td>0.025595</td>\n",
       "      <td>2017-01-01</td>\n",
       "      <td>Single Family Residential</td>\n",
       "      <td>0</td>\n",
       "      <td>1</td>\n",
       "      <td>0</td>\n",
       "    </tr>\n",
       "    <tr>\n",
       "      <th>1</th>\n",
       "      <td>17052889</td>\n",
       "      <td>261.000000</td>\n",
       "      <td>1.000000</td>\n",
       "      <td>2.000000</td>\n",
       "      <td>1.000000</td>\n",
       "      <td>1465.000000</td>\n",
       "      <td>1465.000000</td>\n",
       "      <td>6111.000000</td>\n",
       "      <td>1.000000</td>\n",
       "      <td>34449266.000000</td>\n",
       "      <td>-119281531.000000</td>\n",
       "      <td>12647.000000</td>\n",
       "      <td>1110</td>\n",
       "      <td>61110010.023006</td>\n",
       "      <td>13091.000000</td>\n",
       "      <td>2061.000000</td>\n",
       "      <td>97099.000000</td>\n",
       "      <td>5.000000</td>\n",
       "      <td>1967.000000</td>\n",
       "      <td>88000.000000</td>\n",
       "      <td>464000.000000</td>\n",
       "      <td>2016.000000</td>\n",
       "      <td>376000.000000</td>\n",
       "      <td>5672.480000</td>\n",
       "      <td>61110010023006.000000</td>\n",
       "      <td>0.055619</td>\n",
       "      <td>2017-01-01</td>\n",
       "      <td>Single Family Residential</td>\n",
       "      <td>0</td>\n",
       "      <td>0</td>\n",
       "      <td>1</td>\n",
       "    </tr>\n",
       "    <tr>\n",
       "      <th>2</th>\n",
       "      <td>14186244</td>\n",
       "      <td>261.000000</td>\n",
       "      <td>2.000000</td>\n",
       "      <td>3.000000</td>\n",
       "      <td>2.000000</td>\n",
       "      <td>1243.000000</td>\n",
       "      <td>1243.000000</td>\n",
       "      <td>6059.000000</td>\n",
       "      <td>2.000000</td>\n",
       "      <td>33886168.000000</td>\n",
       "      <td>-117823170.000000</td>\n",
       "      <td>8432.000000</td>\n",
       "      <td>122</td>\n",
       "      <td>60590218.022012</td>\n",
       "      <td>21412.000000</td>\n",
       "      <td>1286.000000</td>\n",
       "      <td>97078.000000</td>\n",
       "      <td>6.000000</td>\n",
       "      <td>1962.000000</td>\n",
       "      <td>85289.000000</td>\n",
       "      <td>564778.000000</td>\n",
       "      <td>2016.000000</td>\n",
       "      <td>479489.000000</td>\n",
       "      <td>6488.300000</td>\n",
       "      <td>60590218022012.000000</td>\n",
       "      <td>0.005383</td>\n",
       "      <td>2017-01-01</td>\n",
       "      <td>Single Family Residential</td>\n",
       "      <td>0</td>\n",
       "      <td>1</td>\n",
       "      <td>0</td>\n",
       "    </tr>\n",
       "    <tr>\n",
       "      <th>3</th>\n",
       "      <td>12177905</td>\n",
       "      <td>261.000000</td>\n",
       "      <td>3.000000</td>\n",
       "      <td>4.000000</td>\n",
       "      <td>3.000000</td>\n",
       "      <td>2376.000000</td>\n",
       "      <td>2376.000000</td>\n",
       "      <td>6037.000000</td>\n",
       "      <td>3.000000</td>\n",
       "      <td>34245180.000000</td>\n",
       "      <td>-118240722.000000</td>\n",
       "      <td>13038.000000</td>\n",
       "      <td>0101</td>\n",
       "      <td>60373001.001006</td>\n",
       "      <td>396551.000000</td>\n",
       "      <td>3101.000000</td>\n",
       "      <td>96330.000000</td>\n",
       "      <td>0.000000</td>\n",
       "      <td>1970.000000</td>\n",
       "      <td>108918.000000</td>\n",
       "      <td>145143.000000</td>\n",
       "      <td>2016.000000</td>\n",
       "      <td>36225.000000</td>\n",
       "      <td>1777.510000</td>\n",
       "      <td>60373001001006.000000</td>\n",
       "      <td>-0.103410</td>\n",
       "      <td>2017-01-01</td>\n",
       "      <td>Single Family Residential</td>\n",
       "      <td>1</td>\n",
       "      <td>0</td>\n",
       "      <td>0</td>\n",
       "    </tr>\n",
       "    <tr>\n",
       "      <th>4</th>\n",
       "      <td>10887214</td>\n",
       "      <td>266.000000</td>\n",
       "      <td>3.000000</td>\n",
       "      <td>3.000000</td>\n",
       "      <td>3.000000</td>\n",
       "      <td>1312.000000</td>\n",
       "      <td>1312.000000</td>\n",
       "      <td>6037.000000</td>\n",
       "      <td>3.000000</td>\n",
       "      <td>34185120.000000</td>\n",
       "      <td>-118414640.000000</td>\n",
       "      <td>278581.000000</td>\n",
       "      <td>010C</td>\n",
       "      <td>60371236.012000</td>\n",
       "      <td>12447.000000</td>\n",
       "      <td>3101.000000</td>\n",
       "      <td>96451.000000</td>\n",
       "      <td>0.000000</td>\n",
       "      <td>1964.000000</td>\n",
       "      <td>73681.000000</td>\n",
       "      <td>119407.000000</td>\n",
       "      <td>2016.000000</td>\n",
       "      <td>45726.000000</td>\n",
       "      <td>1533.890000</td>\n",
       "      <td>60371236012000.000000</td>\n",
       "      <td>0.006940</td>\n",
       "      <td>2017-01-01</td>\n",
       "      <td>Condominium</td>\n",
       "      <td>1</td>\n",
       "      <td>0</td>\n",
       "      <td>0</td>\n",
       "    </tr>\n",
       "  </tbody>\n",
       "</table>\n",
       "</div>"
      ],
      "text/plain": [
       "   parcelid  propertylandusetypeid  bathroomcnt  bedroomcnt  \\\n",
       "0  14297519             261.000000     3.500000    4.000000   \n",
       "1  17052889             261.000000     1.000000    2.000000   \n",
       "2  14186244             261.000000     2.000000    3.000000   \n",
       "3  12177905             261.000000     3.000000    4.000000   \n",
       "4  10887214             266.000000     3.000000    3.000000   \n",
       "\n",
       "   calculatedbathnbr  calculatedfinishedsquarefeet  finishedsquarefeet12  \\\n",
       "0           3.500000                   3100.000000           3100.000000   \n",
       "1           1.000000                   1465.000000           1465.000000   \n",
       "2           2.000000                   1243.000000           1243.000000   \n",
       "3           3.000000                   2376.000000           2376.000000   \n",
       "4           3.000000                   1312.000000           1312.000000   \n",
       "\n",
       "         fips  fullbathcnt        latitude         longitude  \\\n",
       "0 6059.000000     3.000000 33634931.000000 -117869207.000000   \n",
       "1 6111.000000     1.000000 34449266.000000 -119281531.000000   \n",
       "2 6059.000000     2.000000 33886168.000000 -117823170.000000   \n",
       "3 6037.000000     3.000000 34245180.000000 -118240722.000000   \n",
       "4 6037.000000     3.000000 34185120.000000 -118414640.000000   \n",
       "\n",
       "   lotsizesquarefeet propertycountylandusecode  rawcensustractandblock  \\\n",
       "0        4506.000000                       122         60590630.072012   \n",
       "1       12647.000000                      1110         61110010.023006   \n",
       "2        8432.000000                       122         60590218.022012   \n",
       "3       13038.000000                      0101         60373001.001006   \n",
       "4      278581.000000                      010C         60371236.012000   \n",
       "\n",
       "   regionidcity  regionidcounty  regionidzip  roomcnt   yearbuilt  \\\n",
       "0  53571.000000     1286.000000 96978.000000 0.000000 1998.000000   \n",
       "1  13091.000000     2061.000000 97099.000000 5.000000 1967.000000   \n",
       "2  21412.000000     1286.000000 97078.000000 6.000000 1962.000000   \n",
       "3 396551.000000     3101.000000 96330.000000 0.000000 1970.000000   \n",
       "4  12447.000000     3101.000000 96451.000000 0.000000 1964.000000   \n",
       "\n",
       "   structuretaxvaluedollarcnt  taxvaluedollarcnt  assessmentyear  \\\n",
       "0               485713.000000     1023282.000000     2016.000000   \n",
       "1                88000.000000      464000.000000     2016.000000   \n",
       "2                85289.000000      564778.000000     2016.000000   \n",
       "3               108918.000000      145143.000000     2016.000000   \n",
       "4                73681.000000      119407.000000     2016.000000   \n",
       "\n",
       "   landtaxvaluedollarcnt    taxamount   censustractandblock  logerror  \\\n",
       "0          537569.000000 11013.720000 60590630072012.000000  0.025595   \n",
       "1          376000.000000  5672.480000 61110010023006.000000  0.055619   \n",
       "2          479489.000000  6488.300000 60590218022012.000000  0.005383   \n",
       "3           36225.000000  1777.510000 60373001001006.000000 -0.103410   \n",
       "4           45726.000000  1533.890000 60371236012000.000000  0.006940   \n",
       "\n",
       "        tdate        propertylandusedesc  is_la_county  is_orange_county  \\\n",
       "0  2017-01-01  Single Family Residential             0                 1   \n",
       "1  2017-01-01  Single Family Residential             0                 0   \n",
       "2  2017-01-01  Single Family Residential             0                 1   \n",
       "3  2017-01-01  Single Family Residential             1                 0   \n",
       "4  2017-01-01                Condominium             1                 0   \n",
       "\n",
       "   is_ventura_county  \n",
       "0                  0  \n",
       "1                  1  \n",
       "2                  0  \n",
       "3                  0  \n",
       "4                  0  "
      ]
     },
     "execution_count": 2,
     "metadata": {},
     "output_type": "execute_result"
    }
   ],
   "source": [
    "df = prep.prep_zillow_data()\n",
    "df.head()"
   ]
  },
  {
   "cell_type": "code",
   "execution_count": 3,
   "metadata": {},
   "outputs": [
    {
     "data": {
      "text/plain": [
       "is_ventura_county               0\n",
       "regionidcity                    0\n",
       "propertylandusetypeid           0\n",
       "bathroomcnt                     0\n",
       "bedroomcnt                      0\n",
       "calculatedbathnbr               0\n",
       "calculatedfinishedsquarefeet    0\n",
       "finishedsquarefeet12            0\n",
       "fips                            0\n",
       "fullbathcnt                     0\n",
       "latitude                        0\n",
       "longitude                       0\n",
       "lotsizesquarefeet               0\n",
       "propertycountylandusecode       0\n",
       "rawcensustractandblock          0\n",
       "regionidcounty                  0\n",
       "is_orange_county                0\n",
       "regionidzip                     0\n",
       "roomcnt                         0\n",
       "yearbuilt                       0\n",
       "structuretaxvaluedollarcnt      0\n",
       "taxvaluedollarcnt               0\n",
       "assessmentyear                  0\n",
       "landtaxvaluedollarcnt           0\n",
       "taxamount                       0\n",
       "censustractandblock             0\n",
       "logerror                        0\n",
       "tdate                           0\n",
       "propertylandusedesc             0\n",
       "is_la_county                    0\n",
       "parcelid                        0\n",
       "dtype: int64"
      ]
     },
     "execution_count": 3,
     "metadata": {},
     "output_type": "execute_result"
    }
   ],
   "source": [
    "#Check for nulls in the data\n",
    "df.isnull().sum().sort_values(ascending = False)"
   ]
  },
  {
   "cell_type": "code",
   "execution_count": 4,
   "metadata": {},
   "outputs": [],
   "source": [
    "X_train, y_train, X_validate, y_validate, X_test, y_test = wrangle.train_validate_test(df)"
   ]
  },
  {
   "cell_type": "code",
   "execution_count": 5,
   "metadata": {},
   "outputs": [
    {
     "data": {
      "text/plain": [
       "(75538, 31)"
      ]
     },
     "execution_count": 5,
     "metadata": {},
     "output_type": "execute_result"
    }
   ],
   "source": [
    "df.shape"
   ]
  },
  {
   "cell_type": "markdown",
   "metadata": {},
   "source": [
    "# Explore the Data"
   ]
  },
  {
   "cell_type": "code",
   "execution_count": 6,
   "metadata": {},
   "outputs": [
    {
     "data": {
      "text/html": [
       "<div>\n",
       "<style scoped>\n",
       "    .dataframe tbody tr th:only-of-type {\n",
       "        vertical-align: middle;\n",
       "    }\n",
       "\n",
       "    .dataframe tbody tr th {\n",
       "        vertical-align: top;\n",
       "    }\n",
       "\n",
       "    .dataframe thead th {\n",
       "        text-align: right;\n",
       "    }\n",
       "</style>\n",
       "<table border=\"1\" class=\"dataframe\">\n",
       "  <thead>\n",
       "    <tr style=\"text-align: right;\">\n",
       "      <th></th>\n",
       "      <th>propertylandusetypeid</th>\n",
       "      <th>bathroomcnt</th>\n",
       "      <th>bedroomcnt</th>\n",
       "      <th>calculatedbathnbr</th>\n",
       "      <th>calculatedfinishedsquarefeet</th>\n",
       "      <th>fips</th>\n",
       "      <th>fullbathcnt</th>\n",
       "      <th>latitude</th>\n",
       "      <th>longitude</th>\n",
       "      <th>lotsizesquarefeet</th>\n",
       "      <th>regionidzip</th>\n",
       "      <th>roomcnt</th>\n",
       "      <th>yearbuilt</th>\n",
       "      <th>taxvaluedollarcnt</th>\n",
       "      <th>logerror</th>\n",
       "      <th>is_la_county</th>\n",
       "      <th>is_orange_county</th>\n",
       "      <th>is_ventura_county</th>\n",
       "    </tr>\n",
       "  </thead>\n",
       "  <tbody>\n",
       "    <tr>\n",
       "      <th>count</th>\n",
       "      <td>31725.000000</td>\n",
       "      <td>31725.000000</td>\n",
       "      <td>31725.000000</td>\n",
       "      <td>31725.000000</td>\n",
       "      <td>31725.000000</td>\n",
       "      <td>31725.000000</td>\n",
       "      <td>31725.000000</td>\n",
       "      <td>31725.000000</td>\n",
       "      <td>31725.000000</td>\n",
       "      <td>31725.000000</td>\n",
       "      <td>31725.000000</td>\n",
       "      <td>31725.000000</td>\n",
       "      <td>31725.000000</td>\n",
       "      <td>31725.000000</td>\n",
       "      <td>31725.000000</td>\n",
       "      <td>31725.000000</td>\n",
       "      <td>31725.000000</td>\n",
       "      <td>31725.000000</td>\n",
       "    </tr>\n",
       "    <tr>\n",
       "      <th>mean</th>\n",
       "      <td>261.988589</td>\n",
       "      <td>2.272656</td>\n",
       "      <td>3.044602</td>\n",
       "      <td>2.272704</td>\n",
       "      <td>1741.458797</td>\n",
       "      <td>6048.837541</td>\n",
       "      <td>2.205296</td>\n",
       "      <td>34008409.251505</td>\n",
       "      <td>-118201474.482427</td>\n",
       "      <td>30533.938631</td>\n",
       "      <td>96571.863128</td>\n",
       "      <td>1.500993</td>\n",
       "      <td>1968.701124</td>\n",
       "      <td>467521.202017</td>\n",
       "      <td>0.017180</td>\n",
       "      <td>0.651095</td>\n",
       "      <td>0.268873</td>\n",
       "      <td>0.080032</td>\n",
       "    </tr>\n",
       "    <tr>\n",
       "      <th>std</th>\n",
       "      <td>3.790895</td>\n",
       "      <td>0.872499</td>\n",
       "      <td>1.009816</td>\n",
       "      <td>0.872462</td>\n",
       "      <td>828.860765</td>\n",
       "      <td>20.694765</td>\n",
       "      <td>0.856940</td>\n",
       "      <td>266556.640894</td>\n",
       "      <td>358898.832066</td>\n",
       "      <td>131528.392810</td>\n",
       "      <td>2976.315180</td>\n",
       "      <td>2.838213</td>\n",
       "      <td>23.655378</td>\n",
       "      <td>519738.156024</td>\n",
       "      <td>0.166045</td>\n",
       "      <td>0.476631</td>\n",
       "      <td>0.443381</td>\n",
       "      <td>0.271346</td>\n",
       "    </tr>\n",
       "    <tr>\n",
       "      <th>min</th>\n",
       "      <td>246.000000</td>\n",
       "      <td>1.000000</td>\n",
       "      <td>1.000000</td>\n",
       "      <td>1.000000</td>\n",
       "      <td>242.000000</td>\n",
       "      <td>6037.000000</td>\n",
       "      <td>1.000000</td>\n",
       "      <td>33341224.000000</td>\n",
       "      <td>-119448392.000000</td>\n",
       "      <td>435.000000</td>\n",
       "      <td>95982.000000</td>\n",
       "      <td>0.000000</td>\n",
       "      <td>1824.000000</td>\n",
       "      <td>1000.000000</td>\n",
       "      <td>-2.317804</td>\n",
       "      <td>0.000000</td>\n",
       "      <td>0.000000</td>\n",
       "      <td>0.000000</td>\n",
       "    </tr>\n",
       "    <tr>\n",
       "      <th>25%</th>\n",
       "      <td>261.000000</td>\n",
       "      <td>2.000000</td>\n",
       "      <td>2.000000</td>\n",
       "      <td>2.000000</td>\n",
       "      <td>1180.000000</td>\n",
       "      <td>6037.000000</td>\n",
       "      <td>2.000000</td>\n",
       "      <td>33813927.000000</td>\n",
       "      <td>-118415320.000000</td>\n",
       "      <td>5937.000000</td>\n",
       "      <td>96193.000000</td>\n",
       "      <td>0.000000</td>\n",
       "      <td>1953.000000</td>\n",
       "      <td>206142.000000</td>\n",
       "      <td>-0.023959</td>\n",
       "      <td>0.000000</td>\n",
       "      <td>0.000000</td>\n",
       "      <td>0.000000</td>\n",
       "    </tr>\n",
       "    <tr>\n",
       "      <th>50%</th>\n",
       "      <td>261.000000</td>\n",
       "      <td>2.000000</td>\n",
       "      <td>3.000000</td>\n",
       "      <td>2.000000</td>\n",
       "      <td>1532.000000</td>\n",
       "      <td>6037.000000</td>\n",
       "      <td>2.000000</td>\n",
       "      <td>34021546.000000</td>\n",
       "      <td>-118178857.000000</td>\n",
       "      <td>7531.000000</td>\n",
       "      <td>96393.000000</td>\n",
       "      <td>0.000000</td>\n",
       "      <td>1970.000000</td>\n",
       "      <td>355336.000000</td>\n",
       "      <td>0.006386</td>\n",
       "      <td>1.000000</td>\n",
       "      <td>0.000000</td>\n",
       "      <td>0.000000</td>\n",
       "    </tr>\n",
       "    <tr>\n",
       "      <th>75%</th>\n",
       "      <td>266.000000</td>\n",
       "      <td>3.000000</td>\n",
       "      <td>4.000000</td>\n",
       "      <td>3.000000</td>\n",
       "      <td>2081.000000</td>\n",
       "      <td>6059.000000</td>\n",
       "      <td>3.000000</td>\n",
       "      <td>34175031.000000</td>\n",
       "      <td>-117925474.000000</td>\n",
       "      <td>21109.000000</td>\n",
       "      <td>96987.000000</td>\n",
       "      <td>0.000000</td>\n",
       "      <td>1987.000000</td>\n",
       "      <td>560306.000000</td>\n",
       "      <td>0.038625</td>\n",
       "      <td>1.000000</td>\n",
       "      <td>1.000000</td>\n",
       "      <td>0.000000</td>\n",
       "    </tr>\n",
       "    <tr>\n",
       "      <th>max</th>\n",
       "      <td>275.000000</td>\n",
       "      <td>5.500000</td>\n",
       "      <td>7.000000</td>\n",
       "      <td>5.500000</td>\n",
       "      <td>12616.000000</td>\n",
       "      <td>6111.000000</td>\n",
       "      <td>5.000000</td>\n",
       "      <td>34818767.000000</td>\n",
       "      <td>-117554636.000000</td>\n",
       "      <td>6971010.000000</td>\n",
       "      <td>399675.000000</td>\n",
       "      <td>13.000000</td>\n",
       "      <td>2016.000000</td>\n",
       "      <td>23858374.000000</td>\n",
       "      <td>3.123634</td>\n",
       "      <td>1.000000</td>\n",
       "      <td>1.000000</td>\n",
       "      <td>1.000000</td>\n",
       "    </tr>\n",
       "  </tbody>\n",
       "</table>\n",
       "</div>"
      ],
      "text/plain": [
       "       propertylandusetypeid  bathroomcnt   bedroomcnt  calculatedbathnbr  \\\n",
       "count           31725.000000 31725.000000 31725.000000       31725.000000   \n",
       "mean              261.988589     2.272656     3.044602           2.272704   \n",
       "std                 3.790895     0.872499     1.009816           0.872462   \n",
       "min               246.000000     1.000000     1.000000           1.000000   \n",
       "25%               261.000000     2.000000     2.000000           2.000000   \n",
       "50%               261.000000     2.000000     3.000000           2.000000   \n",
       "75%               266.000000     3.000000     4.000000           3.000000   \n",
       "max               275.000000     5.500000     7.000000           5.500000   \n",
       "\n",
       "       calculatedfinishedsquarefeet         fips  fullbathcnt        latitude  \\\n",
       "count                  31725.000000 31725.000000 31725.000000    31725.000000   \n",
       "mean                    1741.458797  6048.837541     2.205296 34008409.251505   \n",
       "std                      828.860765    20.694765     0.856940   266556.640894   \n",
       "min                      242.000000  6037.000000     1.000000 33341224.000000   \n",
       "25%                     1180.000000  6037.000000     2.000000 33813927.000000   \n",
       "50%                     1532.000000  6037.000000     2.000000 34021546.000000   \n",
       "75%                     2081.000000  6059.000000     3.000000 34175031.000000   \n",
       "max                    12616.000000  6111.000000     5.000000 34818767.000000   \n",
       "\n",
       "              longitude  lotsizesquarefeet   regionidzip      roomcnt  \\\n",
       "count      31725.000000       31725.000000  31725.000000 31725.000000   \n",
       "mean  -118201474.482427       30533.938631  96571.863128     1.500993   \n",
       "std       358898.832066      131528.392810   2976.315180     2.838213   \n",
       "min   -119448392.000000         435.000000  95982.000000     0.000000   \n",
       "25%   -118415320.000000        5937.000000  96193.000000     0.000000   \n",
       "50%   -118178857.000000        7531.000000  96393.000000     0.000000   \n",
       "75%   -117925474.000000       21109.000000  96987.000000     0.000000   \n",
       "max   -117554636.000000     6971010.000000 399675.000000    13.000000   \n",
       "\n",
       "         yearbuilt  taxvaluedollarcnt     logerror  is_la_county  \\\n",
       "count 31725.000000       31725.000000 31725.000000  31725.000000   \n",
       "mean   1968.701124      467521.202017     0.017180      0.651095   \n",
       "std      23.655378      519738.156024     0.166045      0.476631   \n",
       "min    1824.000000        1000.000000    -2.317804      0.000000   \n",
       "25%    1953.000000      206142.000000    -0.023959      0.000000   \n",
       "50%    1970.000000      355336.000000     0.006386      1.000000   \n",
       "75%    1987.000000      560306.000000     0.038625      1.000000   \n",
       "max    2016.000000    23858374.000000     3.123634      1.000000   \n",
       "\n",
       "       is_orange_county  is_ventura_county  \n",
       "count      31725.000000       31725.000000  \n",
       "mean           0.268873           0.080032  \n",
       "std            0.443381           0.271346  \n",
       "min            0.000000           0.000000  \n",
       "25%            0.000000           0.000000  \n",
       "50%            0.000000           0.000000  \n",
       "75%            1.000000           0.000000  \n",
       "max            1.000000           1.000000  "
      ]
     },
     "execution_count": 6,
     "metadata": {},
     "output_type": "execute_result"
    }
   ],
   "source": [
    "X_train.describe()"
   ]
  },
  {
   "cell_type": "code",
   "execution_count": 7,
   "metadata": {},
   "outputs": [
    {
     "data": {
      "image/png": "[encoded data removed]",
      "text/plain": [
       "<Figure size 576x432 with 1 Axes>"
      ]
     },
     "metadata": {
      "needs_background": "light"
     },
     "output_type": "display_data"
    },
    {
     "data": {
      "image/png": "[encoded data removed]",
      "text/plain": [
       "<Figure size 576x432 with 1 Axes>"
      ]
     },
     "metadata": {
      "needs_background": "light"
     },
     "output_type": "display_data"
    },
    {
     "data": {
      "image/png": "[encoded data removed]",
      "text/plain": [
       "<Figure size 576x432 with 1 Axes>"
      ]
     },
     "metadata": {
      "needs_background": "light"
     },
     "output_type": "display_data"
    },
    {
     "data": {
      "image/png": "[encoded data removed]",
      "text/plain": [
       "<Figure size 576x432 with 1 Axes>"
      ]
     },
     "metadata": {
      "needs_background": "light"
     },
     "output_type": "display_data"
    },
    {
     "data": {
      "image/png": "[encoded data removed]",
      "text/plain": [
       "<Figure size 576x432 with 1 Axes>"
      ]
     },
     "metadata": {
      "needs_background": "light"
     },
     "output_type": "display_data"
    },
    {
     "data": {
      "image/png": "[encoded data removed]",
      "text/plain": [
       "<Figure size 576x432 with 1 Axes>"
      ]
     },
     "metadata": {
      "needs_background": "light"
     },
     "output_type": "display_data"
    },
    {
     "data": {
      "image/png": "[encoded data removed]",
      "text/plain": [
       "<Figure size 576x432 with 1 Axes>"
      ]
     },
     "metadata": {
      "needs_background": "light"
     },
     "output_type": "display_data"
    },
    {
     "data": {
      "image/png": "[encoded data removed]",
      "text/plain": [
       "<Figure size 576x432 with 1 Axes>"
      ]
     },
     "metadata": {
      "needs_background": "light"
     },
     "output_type": "display_data"
    },
    {
     "data": {
      "image/png": "[encoded data removed]",
      "text/plain": [
       "<Figure size 576x432 with 1 Axes>"
      ]
     },
     "metadata": {
      "needs_background": "light"
     },
     "output_type": "display_data"
    },
    {
     "data": {
      "image/png": "[encoded data removed]",
      "text/plain": [
       "<Figure size 576x432 with 1 Axes>"
      ]
     },
     "metadata": {
      "needs_background": "light"
     },
     "output_type": "display_data"
    },
    {
     "data": {
      "image/png": "[encoded data removed]",
      "text/plain": [
       "<Figure size 576x432 with 1 Axes>"
      ]
     },
     "metadata": {
      "needs_background": "light"
     },
     "output_type": "display_data"
    },
    {
     "data": {
      "image/png": "[encoded data removed]",
      "text/plain": [
       "<Figure size 576x432 with 1 Axes>"
      ]
     },
     "metadata": {
      "needs_background": "light"
     },
     "output_type": "display_data"
    },
    {
     "data": {
      "image/png": "[encoded data removed]",
      "text/plain": [
       "<Figure size 576x432 with 1 Axes>"
      ]
     },
     "metadata": {
      "needs_background": "light"
     },
     "output_type": "display_data"
    },
    {
     "data": {
      "image/png": "[encoded data removed]",
      "text/plain": [
       "<Figure size 576x432 with 1 Axes>"
      ]
     },
     "metadata": {
      "needs_background": "light"
     },
     "output_type": "display_data"
    },
    {
     "data": {
      "image/png": "[encoded data removed]",
      "text/plain": [
       "<Figure size 576x432 with 1 Axes>"
      ]
     },
     "metadata": {
      "needs_background": "light"
     },
     "output_type": "display_data"
    },
    {
     "data": {
      "image/png": "[encoded data removed]",
      "text/plain": [
       "<Figure size 576x432 with 1 Axes>"
      ]
     },
     "metadata": {
      "needs_background": "light"
     },
     "output_type": "display_data"
    },
    {
     "data": {
      "image/png": "[encoded data removed]",
      "text/plain": [
       "<Figure size 576x432 with 1 Axes>"
      ]
     },
     "metadata": {
      "needs_background": "light"
     },
     "output_type": "display_data"
    },
    {
     "data": {
      "image/png": "[encoded data removed]",
      "text/plain": [
       "<Figure size 576x432 with 1 Axes>"
      ]
     },
     "metadata": {
      "needs_background": "light"
     },
     "output_type": "display_data"
    }
   ],
   "source": [
    "for column in X_train.columns:\n",
    "    plt.figure(figsize=(8,6))\n",
    "    plt.hist(X_train[column])\n",
    "    plt.title(column)\n",
    "    plt.gcf().axes[0].yaxis.get_major_formatter().set_scientific(False)\n",
    "    plt.show()"
   ]
  },
  {
   "cell_type": "markdown",
   "metadata": {},
   "source": [
    "# Takeaways\n",
    "- Log error is pretty accurate and only deviates about 2 from zero but overall very accurate.\n",
    "\n",
    "- There are fewer outliers present after I removed houses that have more than 8 bedrooms, since the buying market is very niche at those price points.\n",
    "\n",
    "- There are quite a lot of homes still being sold that were built before the 70's\n",
    "\n",
    "- There also appears to be a reduction in home production in the 2000's, unsure if this was due to market crash or lack of space.\n",
    "\n",
    "- Room count does not appear to be an accurate feature to use for our predictions\n",
    "\n",
    "- Fips would be a good feature to cluster on, this would aide in addressing the outliers\n",
    "\n",
    "- I still like bedroom, bathroom, full bathroom as features for my modeling. These features aided a lot in the\n",
    "\n",
    "- Calculated bath and bedroom count is redundant info based on the histograms"
   ]
  },
  {
   "cell_type": "code",
   "execution_count": 8,
   "metadata": {},
   "outputs": [
    {
     "data": {
      "text/html": [
       "<div>\n",
       "<style scoped>\n",
       "    .dataframe tbody tr th:only-of-type {\n",
       "        vertical-align: middle;\n",
       "    }\n",
       "\n",
       "    .dataframe tbody tr th {\n",
       "        vertical-align: top;\n",
       "    }\n",
       "\n",
       "    .dataframe thead th {\n",
       "        text-align: right;\n",
       "    }\n",
       "</style>\n",
       "<table border=\"1\" class=\"dataframe\">\n",
       "  <thead>\n",
       "    <tr style=\"text-align: right;\">\n",
       "      <th></th>\n",
       "      <th>propertylandusetypeid</th>\n",
       "      <th>bathroomcnt</th>\n",
       "      <th>bedroomcnt</th>\n",
       "      <th>calculatedbathnbr</th>\n",
       "      <th>calculatedfinishedsquarefeet</th>\n",
       "      <th>fips</th>\n",
       "      <th>fullbathcnt</th>\n",
       "      <th>latitude</th>\n",
       "      <th>longitude</th>\n",
       "      <th>lotsizesquarefeet</th>\n",
       "      <th>regionidzip</th>\n",
       "      <th>roomcnt</th>\n",
       "      <th>yearbuilt</th>\n",
       "      <th>taxvaluedollarcnt</th>\n",
       "      <th>logerror</th>\n",
       "      <th>is_la_county</th>\n",
       "      <th>is_orange_county</th>\n",
       "      <th>is_ventura_county</th>\n",
       "    </tr>\n",
       "  </thead>\n",
       "  <tbody>\n",
       "    <tr>\n",
       "      <th>30392</th>\n",
       "      <td>261.000000</td>\n",
       "      <td>2.000000</td>\n",
       "      <td>4.000000</td>\n",
       "      <td>2.000000</td>\n",
       "      <td>2399.000000</td>\n",
       "      <td>6059.000000</td>\n",
       "      <td>2.000000</td>\n",
       "      <td>33649079.000000</td>\n",
       "      <td>-117968922.000000</td>\n",
       "      <td>6002.000000</td>\n",
       "      <td>96964.000000</td>\n",
       "      <td>8.000000</td>\n",
       "      <td>1965.000000</td>\n",
       "      <td>461143.000000</td>\n",
       "      <td>0.007675</td>\n",
       "      <td>0</td>\n",
       "      <td>1</td>\n",
       "      <td>0</td>\n",
       "    </tr>\n",
       "    <tr>\n",
       "      <th>23301</th>\n",
       "      <td>261.000000</td>\n",
       "      <td>1.000000</td>\n",
       "      <td>2.000000</td>\n",
       "      <td>1.000000</td>\n",
       "      <td>990.000000</td>\n",
       "      <td>6037.000000</td>\n",
       "      <td>1.000000</td>\n",
       "      <td>34108171.000000</td>\n",
       "      <td>-118200436.000000</td>\n",
       "      <td>2402.000000</td>\n",
       "      <td>96023.000000</td>\n",
       "      <td>0.000000</td>\n",
       "      <td>1922.000000</td>\n",
       "      <td>187177.000000</td>\n",
       "      <td>-0.445277</td>\n",
       "      <td>1</td>\n",
       "      <td>0</td>\n",
       "      <td>0</td>\n",
       "    </tr>\n",
       "    <tr>\n",
       "      <th>45942</th>\n",
       "      <td>261.000000</td>\n",
       "      <td>2.000000</td>\n",
       "      <td>4.000000</td>\n",
       "      <td>2.000000</td>\n",
       "      <td>1992.000000</td>\n",
       "      <td>6037.000000</td>\n",
       "      <td>2.000000</td>\n",
       "      <td>34276990.000000</td>\n",
       "      <td>-118295164.000000</td>\n",
       "      <td>11047.000000</td>\n",
       "      <td>96284.000000</td>\n",
       "      <td>0.000000</td>\n",
       "      <td>1966.000000</td>\n",
       "      <td>605786.000000</td>\n",
       "      <td>-0.012347</td>\n",
       "      <td>1</td>\n",
       "      <td>0</td>\n",
       "      <td>0</td>\n",
       "    </tr>\n",
       "    <tr>\n",
       "      <th>43613</th>\n",
       "      <td>266.000000</td>\n",
       "      <td>4.000000</td>\n",
       "      <td>3.000000</td>\n",
       "      <td>4.000000</td>\n",
       "      <td>1969.000000</td>\n",
       "      <td>6037.000000</td>\n",
       "      <td>4.000000</td>\n",
       "      <td>33880447.000000</td>\n",
       "      <td>-118406090.000000</td>\n",
       "      <td>3334.000000</td>\n",
       "      <td>96117.000000</td>\n",
       "      <td>0.000000</td>\n",
       "      <td>1994.000000</td>\n",
       "      <td>2049072.000000</td>\n",
       "      <td>0.080601</td>\n",
       "      <td>1</td>\n",
       "      <td>0</td>\n",
       "      <td>0</td>\n",
       "    </tr>\n",
       "    <tr>\n",
       "      <th>64970</th>\n",
       "      <td>261.000000</td>\n",
       "      <td>1.000000</td>\n",
       "      <td>2.000000</td>\n",
       "      <td>1.000000</td>\n",
       "      <td>816.000000</td>\n",
       "      <td>6059.000000</td>\n",
       "      <td>1.000000</td>\n",
       "      <td>33838044.000000</td>\n",
       "      <td>-118043849.000000</td>\n",
       "      <td>1601.000000</td>\n",
       "      <td>96183.000000</td>\n",
       "      <td>5.000000</td>\n",
       "      <td>1970.000000</td>\n",
       "      <td>279839.000000</td>\n",
       "      <td>0.046406</td>\n",
       "      <td>0</td>\n",
       "      <td>1</td>\n",
       "      <td>0</td>\n",
       "    </tr>\n",
       "  </tbody>\n",
       "</table>\n",
       "</div>"
      ],
      "text/plain": [
       "       propertylandusetypeid  bathroomcnt  bedroomcnt  calculatedbathnbr  \\\n",
       "30392             261.000000     2.000000    4.000000           2.000000   \n",
       "23301             261.000000     1.000000    2.000000           1.000000   \n",
       "45942             261.000000     2.000000    4.000000           2.000000   \n",
       "43613             266.000000     4.000000    3.000000           4.000000   \n",
       "64970             261.000000     1.000000    2.000000           1.000000   \n",
       "\n",
       "       calculatedfinishedsquarefeet        fips  fullbathcnt        latitude  \\\n",
       "30392                   2399.000000 6059.000000     2.000000 33649079.000000   \n",
       "23301                    990.000000 6037.000000     1.000000 34108171.000000   \n",
       "45942                   1992.000000 6037.000000     2.000000 34276990.000000   \n",
       "43613                   1969.000000 6037.000000     4.000000 33880447.000000   \n",
       "64970                    816.000000 6059.000000     1.000000 33838044.000000   \n",
       "\n",
       "              longitude  lotsizesquarefeet  regionidzip  roomcnt   yearbuilt  \\\n",
       "30392 -117968922.000000        6002.000000 96964.000000 8.000000 1965.000000   \n",
       "23301 -118200436.000000        2402.000000 96023.000000 0.000000 1922.000000   \n",
       "45942 -118295164.000000       11047.000000 96284.000000 0.000000 1966.000000   \n",
       "43613 -118406090.000000        3334.000000 96117.000000 0.000000 1994.000000   \n",
       "64970 -118043849.000000        1601.000000 96183.000000 5.000000 1970.000000   \n",
       "\n",
       "       taxvaluedollarcnt  logerror  is_la_county  is_orange_county  \\\n",
       "30392      461143.000000  0.007675             0                 1   \n",
       "23301      187177.000000 -0.445277             1                 0   \n",
       "45942      605786.000000 -0.012347             1                 0   \n",
       "43613     2049072.000000  0.080601             1                 0   \n",
       "64970      279839.000000  0.046406             0                 1   \n",
       "\n",
       "       is_ventura_county  \n",
       "30392                  0  \n",
       "23301                  0  \n",
       "45942                  0  \n",
       "43613                  0  \n",
       "64970                  0  "
      ]
     },
     "execution_count": 8,
     "metadata": {},
     "output_type": "execute_result"
    }
   ],
   "source": [
    "X_train.head()"
   ]
  },
  {
   "cell_type": "code",
   "execution_count": 9,
   "metadata": {},
   "outputs": [
    {
     "data": {
      "image/png": "[encoded data removed]",
      "text/plain": [
       "<Figure size 576x432 with 1 Axes>"
      ]
     },
     "metadata": {
      "needs_background": "light"
     },
     "output_type": "display_data"
    }
   ],
   "source": [
    "plt.figure(figsize=(8,6))\n",
    "sns.barplot(X_train.is_la_county, X_train.logerror)\n",
    "plt.title(\"Is there more log error for houses in LA County?\")\n",
    "plt.gcf().axes[0].yaxis.get_major_formatter().set_scientific(False)\n",
    "plt.ylabel('Home Value')\n",
    "plt.xlabel('Is Home In Los Angeles County?')\n",
    "plt.show()"
   ]
  },
  {
   "cell_type": "code",
   "execution_count": 10,
   "metadata": {},
   "outputs": [
    {
     "data": {
      "image/png": "[encoded data removed]",
      "text/plain": [
       "<Figure size 576x432 with 1 Axes>"
      ]
     },
     "metadata": {
      "needs_background": "light"
     },
     "output_type": "display_data"
    }
   ],
   "source": [
    "plt.figure(figsize=(8,6))\n",
    "sns.barplot(X_train.is_orange_county, X_train.logerror)\n",
    "plt.title(\"Is there more log error for houses in Orange County?\")\n",
    "plt.gcf().axes[0].yaxis.get_major_formatter().set_scientific(False)\n",
    "plt.ylabel('Home Value')\n",
    "plt.xlabel('Is Home In Orange County?')\n",
    "plt.show()"
   ]
  },
  {
   "cell_type": "code",
   "execution_count": 11,
   "metadata": {},
   "outputs": [
    {
     "data": {
      "image/png": "[encoded data removed]",
      "text/plain": [
       "<Figure size 576x432 with 1 Axes>"
      ]
     },
     "metadata": {
      "needs_background": "light"
     },
     "output_type": "display_data"
    }
   ],
   "source": [
    "plt.figure(figsize=(8,6))\n",
    "sns.barplot(X_train.is_ventura_county, X_train.logerror)\n",
    "plt.title(\"Is there more log error for houses in Ventura County?\")\n",
    "plt.gcf().axes[0].yaxis.get_major_formatter().set_scientific(False)\n",
    "plt.ylabel('Home Value')\n",
    "plt.xlabel('Is Home In Ventura County?')\n",
    "plt.show()"
   ]
  },
  {
   "cell_type": "markdown",
   "metadata": {},
   "source": [
    "# Hypothesis Testing"
   ]
  },
  {
   "cell_type": "markdown",
   "metadata": {},
   "source": [
    "### Hypothesis Test 1\n",
    "\n",
    "$H$0 - There is no difference in log error between houses in Orange County and Los Angeles/Ventura Counties\n",
    "\n",
    "$H$a - There is a difference between log error in Orange County and Los Angeles/Ventura Counties"
   ]
  },
  {
   "cell_type": "code",
   "execution_count": 12,
   "metadata": {},
   "outputs": [
    {
     "data": {
      "text/plain": [
       "LeveneResult(statistic=30.602538043131446, pvalue=3.191754205269759e-08)"
      ]
     },
     "execution_count": 12,
     "metadata": {},
     "output_type": "execute_result"
    }
   ],
   "source": [
    "la_county = X_train[X_train.is_la_county == 1]\n",
    "not_la_county = X_train[X_train.is_la_county == 0]\n",
    "\n",
    "stats.levene(la_county.logerror, not_la_county.logerror)"
   ]
  },
  {
   "cell_type": "code",
   "execution_count": 13,
   "metadata": {},
   "outputs": [
    {
     "data": {
      "text/plain": [
       "Ttest_indResult(statistic=-3.003542057549895, pvalue=0.002670647323173988)"
      ]
     },
     "execution_count": 13,
     "metadata": {},
     "output_type": "execute_result"
    }
   ],
   "source": [
    "stats.ttest_ind(la_county.logerror, \n",
    "                not_la_county.logerror, \n",
    "                equal_var=True)"
   ]
  },
  {
   "cell_type": "markdown",
   "metadata": {},
   "source": [
    "## Conclusion\n",
    "- p < alpha of .05, we reject the null hypothesis and there is a difference in log error for homes in LA county"
   ]
  },
  {
   "cell_type": "code",
   "execution_count": 14,
   "metadata": {},
   "outputs": [
    {
     "name": "stdout",
     "output_type": "stream",
     "text": [
      "Is There A Relationship Between Home Value And Square Feet?\n"
     ]
    },
    {
     "data": {
      "image/png": "[encoded data removed]",
      "text/plain": [
       "<Figure size 432x432 with 3 Axes>"
      ]
     },
     "metadata": {
      "needs_background": "light"
     },
     "output_type": "display_data"
    }
   ],
   "source": [
    "print('Is There A Relationship Between Home Value And Square Feet?')\n",
    "sns.jointplot(x = 'calculatedfinishedsquarefeet', y = 'taxvaluedollarcnt', data=X_train)\n",
    "plt.xlabel(\"Square Feet Of Home\")\n",
    "plt.ylabel(\"Home Value\")\n",
    "plt.show()"
   ]
  },
  {
   "cell_type": "markdown",
   "metadata": {},
   "source": [
    "## Conclusion\n",
    "- There appears to be a linear relationship between square feet of home and the value of the home\n",
    "- This will be valueable when we begin our modeling and selecting best features"
   ]
  },
  {
   "cell_type": "code",
   "execution_count": 15,
   "metadata": {},
   "outputs": [
    {
     "data": {
      "image/png": "[encoded data removed]",
      "text/plain": [
       "<Figure size 432x288 with 1 Axes>"
      ]
     },
     "metadata": {
      "needs_background": "light"
     },
     "output_type": "display_data"
    }
   ],
   "source": [
    "sns.scatterplot(x='logerror', y='calculatedfinishedsquarefeet',\n",
    "               data=X_train[X_train.calculatedfinishedsquarefeet<2000], color='darkorange')\n",
    "sns.scatterplot(x='logerror', y='calculatedfinishedsquarefeet',\n",
    "               data=X_train[X_train.calculatedfinishedsquarefeet>=2000], \n",
    "                color='dodgerblue')\n",
    "plt.gcf().axes[0].yaxis.get_major_formatter().set_scientific(False)\n",
    "plt.title(\"Is there less log error for smaller homes or bigger ones?\")\n",
    "plt.ylabel('Home Value')\n",
    "plt.xlabel('Log Error')\n",
    "plt.show()"
   ]
  },
  {
   "cell_type": "markdown",
   "metadata": {},
   "source": [
    "## Conclusion\n",
    "- It appears that most of the error occurs in the homes smaller than 2000 square feet\n",
    "- This information will be very helpful to consider when we start assessing clusters"
   ]
  },
  {
   "cell_type": "markdown",
   "metadata": {},
   "source": [
    "### Hypothesis Test 2\n",
    "\n",
    "$H$0 - There is no difference in log error between houses with greater than 1500 square feet and houses with less than 1500 square feet.\n",
    "\n",
    "$H$a - There is a difference in log error between houses with greater than 1500 square feet and houses with less than 1500 square feet."
   ]
  },
  {
   "cell_type": "code",
   "execution_count": 16,
   "metadata": {},
   "outputs": [
    {
     "data": {
      "text/plain": [
       "LeveneResult(statistic=0.30922776536812535, pvalue=0.5781583683847642)"
      ]
     },
     "execution_count": 16,
     "metadata": {},
     "output_type": "execute_result"
    }
   ],
   "source": [
    "sqft_greater_than_1500 = X_train[X_train.calculatedfinishedsquarefeet >= 1500]\n",
    "sqft_less_than_1500 = X_train[X_train.calculatedfinishedsquarefeet < 1500]\n",
    "\n",
    "stats.levene(sqft_greater_than_1500.logerror, sqft_less_than_1500.logerror)"
   ]
  },
  {
   "cell_type": "markdown",
   "metadata": {},
   "source": [
    "## Conclusion\n",
    "- p > alpha of .05, we fail to reject the null and although the graph appears to show some correlation that log error is higher on houses that are less than 1500 sqft, it is not related."
   ]
  },
  {
   "cell_type": "code",
   "execution_count": 17,
   "metadata": {},
   "outputs": [
    {
     "data": {
      "image/png": "[encoded data removed]",
      "text/plain": [
       "<Figure size 432x288 with 1 Axes>"
      ]
     },
     "metadata": {
      "needs_background": "light"
     },
     "output_type": "display_data"
    }
   ],
   "source": [
    "sns.barplot(x='bedroomcnt', y='taxvaluedollarcnt',\n",
    "               data=X_train, hue='is_ventura_county')\n",
    "plt.title(\"Which county has the biggest variation in price?\")\n",
    "plt.ylabel('Home Value')\n",
    "plt.xlabel('Number Of Bedrooms')\n",
    "plt.show()"
   ]
  },
  {
   "cell_type": "code",
   "execution_count": 18,
   "metadata": {},
   "outputs": [
    {
     "data": {
      "image/png": "[encoded data removed]",
      "text/plain": [
       "<Figure size 432x288 with 1 Axes>"
      ]
     },
     "metadata": {
      "needs_background": "light"
     },
     "output_type": "display_data"
    }
   ],
   "source": [
    "sns.barplot(x='bedroomcnt', y='taxvaluedollarcnt',\n",
    "               data=X_train, hue='is_la_county')\n",
    "plt.title(\"Which county has the biggest variation in price?\")\n",
    "plt.ylabel('Home Value')\n",
    "plt.xlabel('Number Of Bedrooms')\n",
    "plt.show()"
   ]
  },
  {
   "cell_type": "code",
   "execution_count": 19,
   "metadata": {},
   "outputs": [
    {
     "data": {
      "image/png": "[encoded data removed]",
      "text/plain": [
       "<Figure size 432x288 with 1 Axes>"
      ]
     },
     "metadata": {
      "needs_background": "light"
     },
     "output_type": "display_data"
    }
   ],
   "source": [
    "sns.barplot(x='bedroomcnt', y='taxvaluedollarcnt',\n",
    "               data=X_train, hue='is_orange_county')\n",
    "plt.title(\"Which county has the biggest variation in price?\")\n",
    "plt.ylabel('Home Value')\n",
    "plt.xlabel('Number Of Bedrooms')\n",
    "plt.show()"
   ]
  },
  {
   "cell_type": "markdown",
   "metadata": {},
   "source": [
    "## Conclusion\n",
    "- The most variance in price valuation appears to be in orange which explains why the original model was innaccurate on bigger homes\n",
    "- The most consistent changes in price appears to be orange county\n",
    "- The most linear prices is going to be la county which the original model preformed best on those houses last time"
   ]
  },
  {
   "cell_type": "markdown",
   "metadata": {},
   "source": [
    "# Modeling"
   ]
  },
  {
   "cell_type": "code",
   "execution_count": 20,
   "metadata": {
    "scrolled": true
   },
   "outputs": [
    {
     "data": {
      "text/html": [
       "<div>\n",
       "<style scoped>\n",
       "    .dataframe tbody tr th:only-of-type {\n",
       "        vertical-align: middle;\n",
       "    }\n",
       "\n",
       "    .dataframe tbody tr th {\n",
       "        vertical-align: top;\n",
       "    }\n",
       "\n",
       "    .dataframe thead th {\n",
       "        text-align: right;\n",
       "    }\n",
       "</style>\n",
       "<table border=\"1\" class=\"dataframe\">\n",
       "  <thead>\n",
       "    <tr style=\"text-align: right;\">\n",
       "      <th></th>\n",
       "      <th>propertylandusetypeid</th>\n",
       "      <th>bathroomcnt</th>\n",
       "      <th>bedroomcnt</th>\n",
       "      <th>calculatedbathnbr</th>\n",
       "      <th>calculatedfinishedsquarefeet</th>\n",
       "      <th>fips</th>\n",
       "      <th>fullbathcnt</th>\n",
       "      <th>latitude</th>\n",
       "      <th>longitude</th>\n",
       "      <th>lotsizesquarefeet</th>\n",
       "      <th>regionidzip</th>\n",
       "      <th>roomcnt</th>\n",
       "      <th>yearbuilt</th>\n",
       "      <th>taxvaluedollarcnt</th>\n",
       "      <th>logerror</th>\n",
       "      <th>is_la_county</th>\n",
       "      <th>is_orange_county</th>\n",
       "      <th>is_ventura_county</th>\n",
       "    </tr>\n",
       "  </thead>\n",
       "  <tbody>\n",
       "    <tr>\n",
       "      <th>30392</th>\n",
       "      <td>261.000000</td>\n",
       "      <td>2.000000</td>\n",
       "      <td>4.000000</td>\n",
       "      <td>2.000000</td>\n",
       "      <td>2399.000000</td>\n",
       "      <td>6059.000000</td>\n",
       "      <td>2.000000</td>\n",
       "      <td>33649079.000000</td>\n",
       "      <td>-117968922.000000</td>\n",
       "      <td>6002.000000</td>\n",
       "      <td>96964.000000</td>\n",
       "      <td>8.000000</td>\n",
       "      <td>1965.000000</td>\n",
       "      <td>461143.000000</td>\n",
       "      <td>0.007675</td>\n",
       "      <td>0</td>\n",
       "      <td>1</td>\n",
       "      <td>0</td>\n",
       "    </tr>\n",
       "    <tr>\n",
       "      <th>23301</th>\n",
       "      <td>261.000000</td>\n",
       "      <td>1.000000</td>\n",
       "      <td>2.000000</td>\n",
       "      <td>1.000000</td>\n",
       "      <td>990.000000</td>\n",
       "      <td>6037.000000</td>\n",
       "      <td>1.000000</td>\n",
       "      <td>34108171.000000</td>\n",
       "      <td>-118200436.000000</td>\n",
       "      <td>2402.000000</td>\n",
       "      <td>96023.000000</td>\n",
       "      <td>0.000000</td>\n",
       "      <td>1922.000000</td>\n",
       "      <td>187177.000000</td>\n",
       "      <td>-0.445277</td>\n",
       "      <td>1</td>\n",
       "      <td>0</td>\n",
       "      <td>0</td>\n",
       "    </tr>\n",
       "    <tr>\n",
       "      <th>45942</th>\n",
       "      <td>261.000000</td>\n",
       "      <td>2.000000</td>\n",
       "      <td>4.000000</td>\n",
       "      <td>2.000000</td>\n",
       "      <td>1992.000000</td>\n",
       "      <td>6037.000000</td>\n",
       "      <td>2.000000</td>\n",
       "      <td>34276990.000000</td>\n",
       "      <td>-118295164.000000</td>\n",
       "      <td>11047.000000</td>\n",
       "      <td>96284.000000</td>\n",
       "      <td>0.000000</td>\n",
       "      <td>1966.000000</td>\n",
       "      <td>605786.000000</td>\n",
       "      <td>-0.012347</td>\n",
       "      <td>1</td>\n",
       "      <td>0</td>\n",
       "      <td>0</td>\n",
       "    </tr>\n",
       "    <tr>\n",
       "      <th>43613</th>\n",
       "      <td>266.000000</td>\n",
       "      <td>4.000000</td>\n",
       "      <td>3.000000</td>\n",
       "      <td>4.000000</td>\n",
       "      <td>1969.000000</td>\n",
       "      <td>6037.000000</td>\n",
       "      <td>4.000000</td>\n",
       "      <td>33880447.000000</td>\n",
       "      <td>-118406090.000000</td>\n",
       "      <td>3334.000000</td>\n",
       "      <td>96117.000000</td>\n",
       "      <td>0.000000</td>\n",
       "      <td>1994.000000</td>\n",
       "      <td>2049072.000000</td>\n",
       "      <td>0.080601</td>\n",
       "      <td>1</td>\n",
       "      <td>0</td>\n",
       "      <td>0</td>\n",
       "    </tr>\n",
       "    <tr>\n",
       "      <th>64970</th>\n",
       "      <td>261.000000</td>\n",
       "      <td>1.000000</td>\n",
       "      <td>2.000000</td>\n",
       "      <td>1.000000</td>\n",
       "      <td>816.000000</td>\n",
       "      <td>6059.000000</td>\n",
       "      <td>1.000000</td>\n",
       "      <td>33838044.000000</td>\n",
       "      <td>-118043849.000000</td>\n",
       "      <td>1601.000000</td>\n",
       "      <td>96183.000000</td>\n",
       "      <td>5.000000</td>\n",
       "      <td>1970.000000</td>\n",
       "      <td>279839.000000</td>\n",
       "      <td>0.046406</td>\n",
       "      <td>0</td>\n",
       "      <td>1</td>\n",
       "      <td>0</td>\n",
       "    </tr>\n",
       "  </tbody>\n",
       "</table>\n",
       "</div>"
      ],
      "text/plain": [
       "       propertylandusetypeid  bathroomcnt  bedroomcnt  calculatedbathnbr  \\\n",
       "30392             261.000000     2.000000    4.000000           2.000000   \n",
       "23301             261.000000     1.000000    2.000000           1.000000   \n",
       "45942             261.000000     2.000000    4.000000           2.000000   \n",
       "43613             266.000000     4.000000    3.000000           4.000000   \n",
       "64970             261.000000     1.000000    2.000000           1.000000   \n",
       "\n",
       "       calculatedfinishedsquarefeet        fips  fullbathcnt        latitude  \\\n",
       "30392                   2399.000000 6059.000000     2.000000 33649079.000000   \n",
       "23301                    990.000000 6037.000000     1.000000 34108171.000000   \n",
       "45942                   1992.000000 6037.000000     2.000000 34276990.000000   \n",
       "43613                   1969.000000 6037.000000     4.000000 33880447.000000   \n",
       "64970                    816.000000 6059.000000     1.000000 33838044.000000   \n",
       "\n",
       "              longitude  lotsizesquarefeet  regionidzip  roomcnt   yearbuilt  \\\n",
       "30392 -117968922.000000        6002.000000 96964.000000 8.000000 1965.000000   \n",
       "23301 -118200436.000000        2402.000000 96023.000000 0.000000 1922.000000   \n",
       "45942 -118295164.000000       11047.000000 96284.000000 0.000000 1966.000000   \n",
       "43613 -118406090.000000        3334.000000 96117.000000 0.000000 1994.000000   \n",
       "64970 -118043849.000000        1601.000000 96183.000000 5.000000 1970.000000   \n",
       "\n",
       "       taxvaluedollarcnt  logerror  is_la_county  is_orange_county  \\\n",
       "30392      461143.000000  0.007675             0                 1   \n",
       "23301      187177.000000 -0.445277             1                 0   \n",
       "45942      605786.000000 -0.012347             1                 0   \n",
       "43613     2049072.000000  0.080601             1                 0   \n",
       "64970      279839.000000  0.046406             0                 1   \n",
       "\n",
       "       is_ventura_county  \n",
       "30392                  0  \n",
       "23301                  0  \n",
       "45942                  0  \n",
       "43613                  0  \n",
       "64970                  0  "
      ]
     },
     "execution_count": 20,
     "metadata": {},
     "output_type": "execute_result"
    }
   ],
   "source": [
    "X_train.head()"
   ]
  },
  {
   "cell_type": "code",
   "execution_count": 21,
   "metadata": {},
   "outputs": [],
   "source": [
    "#Use the wrangle import to scale the data using the created function\n",
    "X_train_scaled, X_validate_scaled, X_test_scaled = wrangle.min_max_scale(X_train, X_validate, X_test)"
   ]
  },
  {
   "cell_type": "code",
   "execution_count": 22,
   "metadata": {},
   "outputs": [
    {
     "data": {
      "text/plain": [
       "KMeans(n_clusters=4)"
      ]
     },
     "execution_count": 22,
     "metadata": {},
     "output_type": "execute_result"
    }
   ],
   "source": [
    "#Import kmeans to create clusters on the selected features\n",
    "from sklearn.cluster import KMeans\n",
    "X1 = X_train_scaled[['bathroomcnt', 'bedroomcnt', 'calculatedbathnbr', \n",
    "                     'calculatedfinishedsquarefeet', 'fips', 'fullbathcnt',\n",
    "                     'lotsizesquarefeet', 'regionidzip', 'roomcnt', 'yearbuilt', \n",
    "                     'taxvaluedollarcnt']]\n",
    "X2 = X_validate_scaled[['bathroomcnt', 'bedroomcnt', 'calculatedbathnbr', \n",
    "                     'calculatedfinishedsquarefeet', 'fips', 'fullbathcnt',\n",
    "                     'lotsizesquarefeet', 'regionidzip', 'roomcnt', 'yearbuilt', \n",
    "                     'taxvaluedollarcnt']]\n",
    "X3 = X_test_scaled[['bathroomcnt', 'bedroomcnt', 'calculatedbathnbr', \n",
    "                     'calculatedfinishedsquarefeet', 'fips', 'fullbathcnt',\n",
    "                     'lotsizesquarefeet', 'regionidzip', 'roomcnt', 'yearbuilt', \n",
    "                     'taxvaluedollarcnt']]\n",
    "kmeans = KMeans(n_clusters=4)\n",
    "kmeans.fit(X1)"
   ]
  },
  {
   "cell_type": "markdown",
   "metadata": {},
   "source": [
    "### Notes\n",
    "- I selected these features based off of experience from my last project with a focus on location\n",
    "- My last model did not perform on high and low valued homes due to the lack of location included in the original model\n",
    "- This time I was more focused on solving that problem with my model so I clustered on location and home description features"
   ]
  },
  {
   "cell_type": "code",
   "execution_count": 23,
   "metadata": {},
   "outputs": [
    {
     "data": {
      "text/html": [
       "<div>\n",
       "<style scoped>\n",
       "    .dataframe tbody tr th:only-of-type {\n",
       "        vertical-align: middle;\n",
       "    }\n",
       "\n",
       "    .dataframe tbody tr th {\n",
       "        vertical-align: top;\n",
       "    }\n",
       "\n",
       "    .dataframe thead th {\n",
       "        text-align: right;\n",
       "    }\n",
       "</style>\n",
       "<table border=\"1\" class=\"dataframe\">\n",
       "  <thead>\n",
       "    <tr style=\"text-align: right;\">\n",
       "      <th></th>\n",
       "      <th>bathroomcnt</th>\n",
       "      <th>bedroomcnt</th>\n",
       "      <th>calculatedbathnbr</th>\n",
       "      <th>calculatedfinishedsquarefeet</th>\n",
       "      <th>fips</th>\n",
       "      <th>fullbathcnt</th>\n",
       "      <th>lotsizesquarefeet</th>\n",
       "      <th>regionidzip</th>\n",
       "      <th>roomcnt</th>\n",
       "      <th>yearbuilt</th>\n",
       "      <th>taxvaluedollarcnt</th>\n",
       "    </tr>\n",
       "  </thead>\n",
       "  <tbody>\n",
       "    <tr>\n",
       "      <th>0</th>\n",
       "      <td>0.263155</td>\n",
       "      <td>0.381452</td>\n",
       "      <td>0.263232</td>\n",
       "      <td>0.122186</td>\n",
       "      <td>0.297297</td>\n",
       "      <td>0.260384</td>\n",
       "      <td>0.001243</td>\n",
       "      <td>0.003059</td>\n",
       "      <td>0.510714</td>\n",
       "      <td>0.745280</td>\n",
       "      <td>0.018134</td>\n",
       "    </tr>\n",
       "    <tr>\n",
       "      <th>1</th>\n",
       "      <td>0.164155</td>\n",
       "      <td>0.270226</td>\n",
       "      <td>0.164155</td>\n",
       "      <td>0.088305</td>\n",
       "      <td>0.050622</td>\n",
       "      <td>0.173296</td>\n",
       "      <td>0.005052</td>\n",
       "      <td>0.001479</td>\n",
       "      <td>0.004185</td>\n",
       "      <td>0.719145</td>\n",
       "      <td>0.014372</td>\n",
       "    </tr>\n",
       "    <tr>\n",
       "      <th>2</th>\n",
       "      <td>0.300687</td>\n",
       "      <td>0.376067</td>\n",
       "      <td>0.300687</td>\n",
       "      <td>0.133672</td>\n",
       "      <td>1.000000</td>\n",
       "      <td>0.293324</td>\n",
       "      <td>0.001987</td>\n",
       "      <td>0.003072</td>\n",
       "      <td>0.496470</td>\n",
       "      <td>0.807583</td>\n",
       "      <td>0.018785</td>\n",
       "    </tr>\n",
       "    <tr>\n",
       "      <th>3</th>\n",
       "      <td>0.516595</td>\n",
       "      <td>0.444891</td>\n",
       "      <td>0.516595</td>\n",
       "      <td>0.180299</td>\n",
       "      <td>0.046566</td>\n",
       "      <td>0.572105</td>\n",
       "      <td>0.005213</td>\n",
       "      <td>0.001911</td>\n",
       "      <td>0.008490</td>\n",
       "      <td>0.808392</td>\n",
       "      <td>0.030526</td>\n",
       "    </tr>\n",
       "  </tbody>\n",
       "</table>\n",
       "</div>"
      ],
      "text/plain": [
       "   bathroomcnt  bedroomcnt  calculatedbathnbr  calculatedfinishedsquarefeet  \\\n",
       "0     0.263155    0.381452           0.263232                      0.122186   \n",
       "1     0.164155    0.270226           0.164155                      0.088305   \n",
       "2     0.300687    0.376067           0.300687                      0.133672   \n",
       "3     0.516595    0.444891           0.516595                      0.180299   \n",
       "\n",
       "      fips  fullbathcnt  lotsizesquarefeet  regionidzip  roomcnt  yearbuilt  \\\n",
       "0 0.297297     0.260384           0.001243     0.003059 0.510714   0.745280   \n",
       "1 0.050622     0.173296           0.005052     0.001479 0.004185   0.719145   \n",
       "2 1.000000     0.293324           0.001987     0.003072 0.496470   0.807583   \n",
       "3 0.046566     0.572105           0.005213     0.001911 0.008490   0.808392   \n",
       "\n",
       "   taxvaluedollarcnt  \n",
       "0           0.018134  \n",
       "1           0.014372  \n",
       "2           0.018785  \n",
       "3           0.030526  "
      ]
     },
     "execution_count": 23,
     "metadata": {},
     "output_type": "execute_result"
    }
   ],
   "source": [
    "pd.DataFrame(kmeans.cluster_centers_, columns=X1.columns)"
   ]
  },
  {
   "cell_type": "code",
   "execution_count": 24,
   "metadata": {},
   "outputs": [
    {
     "data": {
      "text/plain": [
       "(31725, 11)"
      ]
     },
     "execution_count": 24,
     "metadata": {},
     "output_type": "execute_result"
    }
   ],
   "source": [
    "X1.shape"
   ]
  },
  {
   "cell_type": "code",
   "execution_count": 25,
   "metadata": {},
   "outputs": [],
   "source": [
    "X_train_scaled['cluster'] = kmeans.predict(X1)\n",
    "X_train['cluster'] = kmeans.predict(X1)\n",
    "X_validate_scaled['cluster'] = kmeans.predict(X2)\n",
    "X_validate['cluster'] = kmeans.predict(X2)\n",
    "X_test_scaled['cluster'] = kmeans.predict(X3)\n",
    "X_test['cluster'] = kmeans.predict(X3)"
   ]
  },
  {
   "cell_type": "code",
   "execution_count": 26,
   "metadata": {},
   "outputs": [
    {
     "data": {
      "text/html": [
       "<div>\n",
       "<style scoped>\n",
       "    .dataframe tbody tr th:only-of-type {\n",
       "        vertical-align: middle;\n",
       "    }\n",
       "\n",
       "    .dataframe tbody tr th {\n",
       "        vertical-align: top;\n",
       "    }\n",
       "\n",
       "    .dataframe thead tr th {\n",
       "        text-align: left;\n",
       "    }\n",
       "\n",
       "    .dataframe thead tr:last-of-type th {\n",
       "        text-align: right;\n",
       "    }\n",
       "</style>\n",
       "<table border=\"1\" class=\"dataframe\">\n",
       "  <thead>\n",
       "    <tr>\n",
       "      <th></th>\n",
       "      <th colspan=\"8\" halign=\"left\">propertylandusetypeid</th>\n",
       "      <th colspan=\"8\" halign=\"left\">bathroomcnt</th>\n",
       "      <th colspan=\"8\" halign=\"left\">bedroomcnt</th>\n",
       "      <th colspan=\"8\" halign=\"left\">calculatedbathnbr</th>\n",
       "      <th colspan=\"8\" halign=\"left\">calculatedfinishedsquarefeet</th>\n",
       "      <th colspan=\"8\" halign=\"left\">fips</th>\n",
       "      <th colspan=\"8\" halign=\"left\">fullbathcnt</th>\n",
       "      <th colspan=\"8\" halign=\"left\">latitude</th>\n",
       "      <th colspan=\"8\" halign=\"left\">longitude</th>\n",
       "      <th colspan=\"8\" halign=\"left\">lotsizesquarefeet</th>\n",
       "      <th colspan=\"8\" halign=\"left\">regionidzip</th>\n",
       "      <th colspan=\"8\" halign=\"left\">roomcnt</th>\n",
       "      <th colspan=\"8\" halign=\"left\">yearbuilt</th>\n",
       "      <th colspan=\"8\" halign=\"left\">taxvaluedollarcnt</th>\n",
       "      <th colspan=\"8\" halign=\"left\">logerror</th>\n",
       "      <th colspan=\"8\" halign=\"left\">is_la_county</th>\n",
       "      <th colspan=\"8\" halign=\"left\">is_orange_county</th>\n",
       "      <th colspan=\"8\" halign=\"left\">is_ventura_county</th>\n",
       "    </tr>\n",
       "    <tr>\n",
       "      <th></th>\n",
       "      <th>count</th>\n",
       "      <th>mean</th>\n",
       "      <th>std</th>\n",
       "      <th>min</th>\n",
       "      <th>25%</th>\n",
       "      <th>50%</th>\n",
       "      <th>75%</th>\n",
       "      <th>max</th>\n",
       "      <th>count</th>\n",
       "      <th>mean</th>\n",
       "      <th>std</th>\n",
       "      <th>min</th>\n",
       "      <th>25%</th>\n",
       "      <th>50%</th>\n",
       "      <th>75%</th>\n",
       "      <th>max</th>\n",
       "      <th>count</th>\n",
       "      <th>mean</th>\n",
       "      <th>std</th>\n",
       "      <th>min</th>\n",
       "      <th>25%</th>\n",
       "      <th>50%</th>\n",
       "      <th>75%</th>\n",
       "      <th>max</th>\n",
       "      <th>count</th>\n",
       "      <th>mean</th>\n",
       "      <th>std</th>\n",
       "      <th>min</th>\n",
       "      <th>25%</th>\n",
       "      <th>50%</th>\n",
       "      <th>75%</th>\n",
       "      <th>max</th>\n",
       "      <th>count</th>\n",
       "      <th>mean</th>\n",
       "      <th>std</th>\n",
       "      <th>min</th>\n",
       "      <th>25%</th>\n",
       "      <th>50%</th>\n",
       "      <th>75%</th>\n",
       "      <th>max</th>\n",
       "      <th>count</th>\n",
       "      <th>mean</th>\n",
       "      <th>std</th>\n",
       "      <th>min</th>\n",
       "      <th>25%</th>\n",
       "      <th>50%</th>\n",
       "      <th>75%</th>\n",
       "      <th>max</th>\n",
       "      <th>count</th>\n",
       "      <th>mean</th>\n",
       "      <th>std</th>\n",
       "      <th>min</th>\n",
       "      <th>25%</th>\n",
       "      <th>50%</th>\n",
       "      <th>75%</th>\n",
       "      <th>max</th>\n",
       "      <th>count</th>\n",
       "      <th>mean</th>\n",
       "      <th>std</th>\n",
       "      <th>min</th>\n",
       "      <th>25%</th>\n",
       "      <th>50%</th>\n",
       "      <th>75%</th>\n",
       "      <th>max</th>\n",
       "      <th>count</th>\n",
       "      <th>mean</th>\n",
       "      <th>std</th>\n",
       "      <th>min</th>\n",
       "      <th>25%</th>\n",
       "      <th>50%</th>\n",
       "      <th>75%</th>\n",
       "      <th>max</th>\n",
       "      <th>count</th>\n",
       "      <th>mean</th>\n",
       "      <th>std</th>\n",
       "      <th>min</th>\n",
       "      <th>25%</th>\n",
       "      <th>50%</th>\n",
       "      <th>75%</th>\n",
       "      <th>max</th>\n",
       "      <th>count</th>\n",
       "      <th>mean</th>\n",
       "      <th>std</th>\n",
       "      <th>min</th>\n",
       "      <th>25%</th>\n",
       "      <th>50%</th>\n",
       "      <th>75%</th>\n",
       "      <th>max</th>\n",
       "      <th>count</th>\n",
       "      <th>mean</th>\n",
       "      <th>std</th>\n",
       "      <th>min</th>\n",
       "      <th>25%</th>\n",
       "      <th>50%</th>\n",
       "      <th>75%</th>\n",
       "      <th>max</th>\n",
       "      <th>count</th>\n",
       "      <th>mean</th>\n",
       "      <th>std</th>\n",
       "      <th>min</th>\n",
       "      <th>25%</th>\n",
       "      <th>50%</th>\n",
       "      <th>75%</th>\n",
       "      <th>max</th>\n",
       "      <th>count</th>\n",
       "      <th>mean</th>\n",
       "      <th>std</th>\n",
       "      <th>min</th>\n",
       "      <th>25%</th>\n",
       "      <th>50%</th>\n",
       "      <th>75%</th>\n",
       "      <th>max</th>\n",
       "      <th>count</th>\n",
       "      <th>mean</th>\n",
       "      <th>std</th>\n",
       "      <th>min</th>\n",
       "      <th>25%</th>\n",
       "      <th>50%</th>\n",
       "      <th>75%</th>\n",
       "      <th>max</th>\n",
       "      <th>count</th>\n",
       "      <th>mean</th>\n",
       "      <th>std</th>\n",
       "      <th>min</th>\n",
       "      <th>25%</th>\n",
       "      <th>50%</th>\n",
       "      <th>75%</th>\n",
       "      <th>max</th>\n",
       "      <th>count</th>\n",
       "      <th>mean</th>\n",
       "      <th>std</th>\n",
       "      <th>min</th>\n",
       "      <th>25%</th>\n",
       "      <th>50%</th>\n",
       "      <th>75%</th>\n",
       "      <th>max</th>\n",
       "      <th>count</th>\n",
       "      <th>mean</th>\n",
       "      <th>std</th>\n",
       "      <th>min</th>\n",
       "      <th>25%</th>\n",
       "      <th>50%</th>\n",
       "      <th>75%</th>\n",
       "      <th>max</th>\n",
       "    </tr>\n",
       "    <tr>\n",
       "      <th>cluster</th>\n",
       "      <th></th>\n",
       "      <th></th>\n",
       "      <th></th>\n",
       "      <th></th>\n",
       "      <th></th>\n",
       "      <th></th>\n",
       "      <th></th>\n",
       "      <th></th>\n",
       "      <th></th>\n",
       "      <th></th>\n",
       "      <th></th>\n",
       "      <th></th>\n",
       "      <th></th>\n",
       "      <th></th>\n",
       "      <th></th>\n",
       "      <th></th>\n",
       "      <th></th>\n",
       "      <th></th>\n",
       "      <th></th>\n",
       "      <th></th>\n",
       "      <th></th>\n",
       "      <th></th>\n",
       "      <th></th>\n",
       "      <th></th>\n",
       "      <th></th>\n",
       "      <th></th>\n",
       "      <th></th>\n",
       "      <th></th>\n",
       "      <th></th>\n",
       "      <th></th>\n",
       "      <th></th>\n",
       "      <th></th>\n",
       "      <th></th>\n",
       "      <th></th>\n",
       "      <th></th>\n",
       "      <th></th>\n",
       "      <th></th>\n",
       "      <th></th>\n",
       "      <th></th>\n",
       "      <th></th>\n",
       "      <th></th>\n",
       "      <th></th>\n",
       "      <th></th>\n",
       "      <th></th>\n",
       "      <th></th>\n",
       "      <th></th>\n",
       "      <th></th>\n",
       "      <th></th>\n",
       "      <th></th>\n",
       "      <th></th>\n",
       "      <th></th>\n",
       "      <th></th>\n",
       "      <th></th>\n",
       "      <th></th>\n",
       "      <th></th>\n",
       "      <th></th>\n",
       "      <th></th>\n",
       "      <th></th>\n",
       "      <th></th>\n",
       "      <th></th>\n",
       "      <th></th>\n",
       "      <th></th>\n",
       "      <th></th>\n",
       "      <th></th>\n",
       "      <th></th>\n",
       "      <th></th>\n",
       "      <th></th>\n",
       "      <th></th>\n",
       "      <th></th>\n",
       "      <th></th>\n",
       "      <th></th>\n",
       "      <th></th>\n",
       "      <th></th>\n",
       "      <th></th>\n",
       "      <th></th>\n",
       "      <th></th>\n",
       "      <th></th>\n",
       "      <th></th>\n",
       "      <th></th>\n",
       "      <th></th>\n",
       "      <th></th>\n",
       "      <th></th>\n",
       "      <th></th>\n",
       "      <th></th>\n",
       "      <th></th>\n",
       "      <th></th>\n",
       "      <th></th>\n",
       "      <th></th>\n",
       "      <th></th>\n",
       "      <th></th>\n",
       "      <th></th>\n",
       "      <th></th>\n",
       "      <th></th>\n",
       "      <th></th>\n",
       "      <th></th>\n",
       "      <th></th>\n",
       "      <th></th>\n",
       "      <th></th>\n",
       "      <th></th>\n",
       "      <th></th>\n",
       "      <th></th>\n",
       "      <th></th>\n",
       "      <th></th>\n",
       "      <th></th>\n",
       "      <th></th>\n",
       "      <th></th>\n",
       "      <th></th>\n",
       "      <th></th>\n",
       "      <th></th>\n",
       "      <th></th>\n",
       "      <th></th>\n",
       "      <th></th>\n",
       "      <th></th>\n",
       "      <th></th>\n",
       "      <th></th>\n",
       "      <th></th>\n",
       "      <th></th>\n",
       "      <th></th>\n",
       "      <th></th>\n",
       "      <th></th>\n",
       "      <th></th>\n",
       "      <th></th>\n",
       "      <th></th>\n",
       "      <th></th>\n",
       "      <th></th>\n",
       "      <th></th>\n",
       "      <th></th>\n",
       "      <th></th>\n",
       "      <th></th>\n",
       "      <th></th>\n",
       "      <th></th>\n",
       "      <th></th>\n",
       "      <th></th>\n",
       "      <th></th>\n",
       "      <th></th>\n",
       "      <th></th>\n",
       "      <th></th>\n",
       "      <th></th>\n",
       "      <th></th>\n",
       "      <th></th>\n",
       "      <th></th>\n",
       "      <th></th>\n",
       "      <th></th>\n",
       "      <th></th>\n",
       "    </tr>\n",
       "  </thead>\n",
       "  <tbody>\n",
       "    <tr>\n",
       "      <th>0</th>\n",
       "      <td>4428.000000</td>\n",
       "      <td>261.444444</td>\n",
       "      <td>1.485213</td>\n",
       "      <td>246.000000</td>\n",
       "      <td>261.000000</td>\n",
       "      <td>261.000000</td>\n",
       "      <td>261.000000</td>\n",
       "      <td>266.000000</td>\n",
       "      <td>4428.000000</td>\n",
       "      <td>2.183717</td>\n",
       "      <td>0.548175</td>\n",
       "      <td>1.000000</td>\n",
       "      <td>2.000000</td>\n",
       "      <td>2.000000</td>\n",
       "      <td>2.500000</td>\n",
       "      <td>4.500000</td>\n",
       "      <td>4428.000000</td>\n",
       "      <td>3.288618</td>\n",
       "      <td>0.824455</td>\n",
       "      <td>1.000000</td>\n",
       "      <td>3.000000</td>\n",
       "      <td>3.000000</td>\n",
       "      <td>4.000000</td>\n",
       "      <td>7.000000</td>\n",
       "      <td>4428.000000</td>\n",
       "      <td>2.184064</td>\n",
       "      <td>0.547812</td>\n",
       "      <td>1.000000</td>\n",
       "      <td>2.000000</td>\n",
       "      <td>2.000000</td>\n",
       "      <td>2.500000</td>\n",
       "      <td>4.500000</td>\n",
       "      <td>4428.000000</td>\n",
       "      <td>1753.359228</td>\n",
       "      <td>618.522353</td>\n",
       "      <td>667.000000</td>\n",
       "      <td>1290.000000</td>\n",
       "      <td>1606.000000</td>\n",
       "      <td>2095.250000</td>\n",
       "      <td>5243.000000</td>\n",
       "      <td>4428.000000</td>\n",
       "      <td>6059.000000</td>\n",
       "      <td>0.000000</td>\n",
       "      <td>6059.000000</td>\n",
       "      <td>6059.000000</td>\n",
       "      <td>6059.000000</td>\n",
       "      <td>6059.000000</td>\n",
       "      <td>6059.000000</td>\n",
       "      <td>4428.000000</td>\n",
       "      <td>2.041103</td>\n",
       "      <td>0.560144</td>\n",
       "      <td>1.000000</td>\n",
       "      <td>2.000000</td>\n",
       "      <td>2.000000</td>\n",
       "      <td>2.000000</td>\n",
       "      <td>4.000000</td>\n",
       "      <td>4428.000000</td>\n",
       "      <td>33730820.546974</td>\n",
       "      <td>122867.409072</td>\n",
       "      <td>33392330.000000</td>\n",
       "      <td>33639571.500000</td>\n",
       "      <td>33745197.500000</td>\n",
       "      <td>33827982.500000</td>\n",
       "      <td>33945863.000000</td>\n",
       "      <td>4428.000000</td>\n",
       "      <td>-117859374.266034</td>\n",
       "      <td>123635.493743</td>\n",
       "      <td>-118111087.000000</td>\n",
       "      <td>-117958447.250000</td>\n",
       "      <td>-117876923.000000</td>\n",
       "      <td>-117766980.000000</td>\n",
       "      <td>-117562354.000000</td>\n",
       "      <td>4428.000000</td>\n",
       "      <td>9102.697788</td>\n",
       "      <td>7832.521189</td>\n",
       "      <td>540.000000</td>\n",
       "      <td>5600.000000</td>\n",
       "      <td>6935.000000</td>\n",
       "      <td>8700.000000</td>\n",
       "      <td>91476.000000</td>\n",
       "      <td>4428.000000</td>\n",
       "      <td>96911.211628</td>\n",
       "      <td>260.875133</td>\n",
       "      <td>96180.000000</td>\n",
       "      <td>96963.000000</td>\n",
       "      <td>96990.000000</td>\n",
       "      <td>97026.000000</td>\n",
       "      <td>97079.000000</td>\n",
       "      <td>4428.000000</td>\n",
       "      <td>6.640018</td>\n",
       "      <td>1.287127</td>\n",
       "      <td>3.000000</td>\n",
       "      <td>6.000000</td>\n",
       "      <td>7.000000</td>\n",
       "      <td>8.000000</td>\n",
       "      <td>12.000000</td>\n",
       "      <td>4428.000000</td>\n",
       "      <td>1967.078713</td>\n",
       "      <td>11.722193</td>\n",
       "      <td>1893.000000</td>\n",
       "      <td>1959.000000</td>\n",
       "      <td>1968.000000</td>\n",
       "      <td>1975.000000</td>\n",
       "      <td>2015.000000</td>\n",
       "      <td>4428.000000</td>\n",
       "      <td>433306.014002</td>\n",
       "      <td>368975.885080</td>\n",
       "      <td>29207.000000</td>\n",
       "      <td>206124.250000</td>\n",
       "      <td>372958.500000</td>\n",
       "      <td>554872.500000</td>\n",
       "      <td>6091500.000000</td>\n",
       "      <td>4428.000000</td>\n",
       "      <td>0.017749</td>\n",
       "      <td>0.173648</td>\n",
       "      <td>-2.300184</td>\n",
       "      <td>-0.019758</td>\n",
       "      <td>0.007482</td>\n",
       "      <td>0.036662</td>\n",
       "      <td>2.465684</td>\n",
       "      <td>4428.000000</td>\n",
       "      <td>0.000000</td>\n",
       "      <td>0.000000</td>\n",
       "      <td>0.000000</td>\n",
       "      <td>0.000000</td>\n",
       "      <td>0.000000</td>\n",
       "      <td>0.000000</td>\n",
       "      <td>0.000000</td>\n",
       "      <td>4428.000000</td>\n",
       "      <td>1.000000</td>\n",
       "      <td>0.000000</td>\n",
       "      <td>1.000000</td>\n",
       "      <td>1.000000</td>\n",
       "      <td>1.000000</td>\n",
       "      <td>1.000000</td>\n",
       "      <td>1.000000</td>\n",
       "      <td>4428.000000</td>\n",
       "      <td>0.000000</td>\n",
       "      <td>0.000000</td>\n",
       "      <td>0.000000</td>\n",
       "      <td>0.000000</td>\n",
       "      <td>0.000000</td>\n",
       "      <td>0.000000</td>\n",
       "      <td>0.000000</td>\n",
       "    </tr>\n",
       "    <tr>\n",
       "      <th>1</th>\n",
       "      <td>16303.000000</td>\n",
       "      <td>262.108262</td>\n",
       "      <td>3.776432</td>\n",
       "      <td>246.000000</td>\n",
       "      <td>261.000000</td>\n",
       "      <td>261.000000</td>\n",
       "      <td>266.000000</td>\n",
       "      <td>269.000000</td>\n",
       "      <td>16303.000000</td>\n",
       "      <td>1.738698</td>\n",
       "      <td>0.502042</td>\n",
       "      <td>1.000000</td>\n",
       "      <td>1.000000</td>\n",
       "      <td>2.000000</td>\n",
       "      <td>2.000000</td>\n",
       "      <td>2.500000</td>\n",
       "      <td>16303.000000</td>\n",
       "      <td>2.621358</td>\n",
       "      <td>0.852430</td>\n",
       "      <td>1.000000</td>\n",
       "      <td>2.000000</td>\n",
       "      <td>3.000000</td>\n",
       "      <td>3.000000</td>\n",
       "      <td>7.000000</td>\n",
       "      <td>16303.000000</td>\n",
       "      <td>1.738698</td>\n",
       "      <td>0.502042</td>\n",
       "      <td>1.000000</td>\n",
       "      <td>1.000000</td>\n",
       "      <td>2.000000</td>\n",
       "      <td>2.000000</td>\n",
       "      <td>2.500000</td>\n",
       "      <td>16303.000000</td>\n",
       "      <td>1334.680945</td>\n",
       "      <td>439.452306</td>\n",
       "      <td>242.000000</td>\n",
       "      <td>1026.000000</td>\n",
       "      <td>1272.000000</td>\n",
       "      <td>1582.000000</td>\n",
       "      <td>5315.000000</td>\n",
       "      <td>16303.000000</td>\n",
       "      <td>6040.746059</td>\n",
       "      <td>8.269494</td>\n",
       "      <td>6037.000000</td>\n",
       "      <td>6037.000000</td>\n",
       "      <td>6037.000000</td>\n",
       "      <td>6037.000000</td>\n",
       "      <td>6059.000000</td>\n",
       "      <td>16303.000000</td>\n",
       "      <td>1.693185</td>\n",
       "      <td>0.461186</td>\n",
       "      <td>1.000000</td>\n",
       "      <td>1.000000</td>\n",
       "      <td>2.000000</td>\n",
       "      <td>2.000000</td>\n",
       "      <td>2.000000</td>\n",
       "      <td>16303.000000</td>\n",
       "      <td>34018242.842790</td>\n",
       "      <td>252094.688215</td>\n",
       "      <td>33341224.000000</td>\n",
       "      <td>33848108.500000</td>\n",
       "      <td>34022442.000000</td>\n",
       "      <td>34157485.500000</td>\n",
       "      <td>34818767.000000</td>\n",
       "      <td>16303.000000</td>\n",
       "      <td>-118164513.357726</td>\n",
       "      <td>260043.505455</td>\n",
       "      <td>-118889000.000000</td>\n",
       "      <td>-118366860.000000</td>\n",
       "      <td>-118185629.000000</td>\n",
       "      <td>-117986457.000000</td>\n",
       "      <td>-117554636.000000</td>\n",
       "      <td>16303.000000</td>\n",
       "      <td>35653.349948</td>\n",
       "      <td>159401.672007</td>\n",
       "      <td>540.000000</td>\n",
       "      <td>5775.000000</td>\n",
       "      <td>7435.000000</td>\n",
       "      <td>29969.280611</td>\n",
       "      <td>6971010.000000</td>\n",
       "      <td>16303.000000</td>\n",
       "      <td>96431.235019</td>\n",
       "      <td>381.572904</td>\n",
       "      <td>95982.000000</td>\n",
       "      <td>96150.000000</td>\n",
       "      <td>96339.000000</td>\n",
       "      <td>96513.000000</td>\n",
       "      <td>97344.000000</td>\n",
       "      <td>16303.000000</td>\n",
       "      <td>0.054407</td>\n",
       "      <td>0.453908</td>\n",
       "      <td>0.000000</td>\n",
       "      <td>0.000000</td>\n",
       "      <td>0.000000</td>\n",
       "      <td>0.000000</td>\n",
       "      <td>5.000000</td>\n",
       "      <td>16303.000000</td>\n",
       "      <td>1962.075797</td>\n",
       "      <td>23.935728</td>\n",
       "      <td>1878.000000</td>\n",
       "      <td>1948.000000</td>\n",
       "      <td>1958.000000</td>\n",
       "      <td>1982.000000</td>\n",
       "      <td>2016.000000</td>\n",
       "      <td>16303.000000</td>\n",
       "      <td>343882.193584</td>\n",
       "      <td>295362.739734</td>\n",
       "      <td>3254.000000</td>\n",
       "      <td>160500.500000</td>\n",
       "      <td>286171.000000</td>\n",
       "      <td>443914.000000</td>\n",
       "      <td>6717405.000000</td>\n",
       "      <td>16303.000000</td>\n",
       "      <td>0.014997</td>\n",
       "      <td>0.169315</td>\n",
       "      <td>-2.317804</td>\n",
       "      <td>-0.028395</td>\n",
       "      <td>0.004141</td>\n",
       "      <td>0.036315</td>\n",
       "      <td>3.123634</td>\n",
       "      <td>16303.000000</td>\n",
       "      <td>0.829725</td>\n",
       "      <td>0.375886</td>\n",
       "      <td>0.000000</td>\n",
       "      <td>1.000000</td>\n",
       "      <td>1.000000</td>\n",
       "      <td>1.000000</td>\n",
       "      <td>1.000000</td>\n",
       "      <td>16303.000000</td>\n",
       "      <td>0.170275</td>\n",
       "      <td>0.375886</td>\n",
       "      <td>0.000000</td>\n",
       "      <td>0.000000</td>\n",
       "      <td>0.000000</td>\n",
       "      <td>0.000000</td>\n",
       "      <td>1.000000</td>\n",
       "      <td>16303.000000</td>\n",
       "      <td>0.000000</td>\n",
       "      <td>0.000000</td>\n",
       "      <td>0.000000</td>\n",
       "      <td>0.000000</td>\n",
       "      <td>0.000000</td>\n",
       "      <td>0.000000</td>\n",
       "      <td>0.000000</td>\n",
       "    </tr>\n",
       "    <tr>\n",
       "      <th>2</th>\n",
       "      <td>2539.000000</td>\n",
       "      <td>262.413549</td>\n",
       "      <td>2.404502</td>\n",
       "      <td>246.000000</td>\n",
       "      <td>261.000000</td>\n",
       "      <td>261.000000</td>\n",
       "      <td>265.000000</td>\n",
       "      <td>275.000000</td>\n",
       "      <td>2539.000000</td>\n",
       "      <td>2.353092</td>\n",
       "      <td>0.800833</td>\n",
       "      <td>1.000000</td>\n",
       "      <td>2.000000</td>\n",
       "      <td>2.000000</td>\n",
       "      <td>2.500000</td>\n",
       "      <td>5.500000</td>\n",
       "      <td>2539.000000</td>\n",
       "      <td>3.256400</td>\n",
       "      <td>0.938218</td>\n",
       "      <td>1.000000</td>\n",
       "      <td>3.000000</td>\n",
       "      <td>3.000000</td>\n",
       "      <td>4.000000</td>\n",
       "      <td>7.000000</td>\n",
       "      <td>2539.000000</td>\n",
       "      <td>2.353092</td>\n",
       "      <td>0.800833</td>\n",
       "      <td>1.000000</td>\n",
       "      <td>2.000000</td>\n",
       "      <td>2.000000</td>\n",
       "      <td>2.500000</td>\n",
       "      <td>5.500000</td>\n",
       "      <td>2539.000000</td>\n",
       "      <td>1896.051682</td>\n",
       "      <td>885.184385</td>\n",
       "      <td>480.000000</td>\n",
       "      <td>1270.000000</td>\n",
       "      <td>1671.000000</td>\n",
       "      <td>2277.000000</td>\n",
       "      <td>7223.000000</td>\n",
       "      <td>2539.000000</td>\n",
       "      <td>6111.000000</td>\n",
       "      <td>0.000000</td>\n",
       "      <td>6111.000000</td>\n",
       "      <td>6111.000000</td>\n",
       "      <td>6111.000000</td>\n",
       "      <td>6111.000000</td>\n",
       "      <td>6111.000000</td>\n",
       "      <td>2539.000000</td>\n",
       "      <td>2.173297</td>\n",
       "      <td>0.758911</td>\n",
       "      <td>1.000000</td>\n",
       "      <td>2.000000</td>\n",
       "      <td>2.000000</td>\n",
       "      <td>2.000000</td>\n",
       "      <td>5.000000</td>\n",
       "      <td>2539.000000</td>\n",
       "      <td>34239620.306420</td>\n",
       "      <td>64308.774235</td>\n",
       "      <td>34048730.000000</td>\n",
       "      <td>34188234.000000</td>\n",
       "      <td>34232985.000000</td>\n",
       "      <td>34273351.500000</td>\n",
       "      <td>34470513.000000</td>\n",
       "      <td>2539.000000</td>\n",
       "      <td>-118984301.136668</td>\n",
       "      <td>189399.963985</td>\n",
       "      <td>-119448392.000000</td>\n",
       "      <td>-119180397.500000</td>\n",
       "      <td>-118959615.000000</td>\n",
       "      <td>-118828226.500000</td>\n",
       "      <td>-118631805.000000</td>\n",
       "      <td>2539.000000</td>\n",
       "      <td>14282.280051</td>\n",
       "      <td>22029.412126</td>\n",
       "      <td>435.000000</td>\n",
       "      <td>5904.500000</td>\n",
       "      <td>7685.000000</td>\n",
       "      <td>16409.000000</td>\n",
       "      <td>439956.000000</td>\n",
       "      <td>2539.000000</td>\n",
       "      <td>96914.850900</td>\n",
       "      <td>317.830478</td>\n",
       "      <td>96116.000000</td>\n",
       "      <td>96393.000000</td>\n",
       "      <td>97094.000000</td>\n",
       "      <td>97107.000000</td>\n",
       "      <td>97119.000000</td>\n",
       "      <td>2539.000000</td>\n",
       "      <td>6.454116</td>\n",
       "      <td>1.795648</td>\n",
       "      <td>0.000000</td>\n",
       "      <td>5.000000</td>\n",
       "      <td>6.000000</td>\n",
       "      <td>8.000000</td>\n",
       "      <td>13.000000</td>\n",
       "      <td>2539.000000</td>\n",
       "      <td>1979.055925</td>\n",
       "      <td>17.959850</td>\n",
       "      <td>1900.000000</td>\n",
       "      <td>1966.000000</td>\n",
       "      <td>1979.000000</td>\n",
       "      <td>1991.000000</td>\n",
       "      <td>2015.000000</td>\n",
       "      <td>2539.000000</td>\n",
       "      <td>449150.731390</td>\n",
       "      <td>321984.834467</td>\n",
       "      <td>9242.000000</td>\n",
       "      <td>256280.500000</td>\n",
       "      <td>389414.000000</td>\n",
       "      <td>552843.000000</td>\n",
       "      <td>3547427.000000</td>\n",
       "      <td>2539.000000</td>\n",
       "      <td>0.018325</td>\n",
       "      <td>0.116864</td>\n",
       "      <td>-2.175949</td>\n",
       "      <td>-0.017986</td>\n",
       "      <td>0.007373</td>\n",
       "      <td>0.038938</td>\n",
       "      <td>1.653925</td>\n",
       "      <td>2539.000000</td>\n",
       "      <td>0.000000</td>\n",
       "      <td>0.000000</td>\n",
       "      <td>0.000000</td>\n",
       "      <td>0.000000</td>\n",
       "      <td>0.000000</td>\n",
       "      <td>0.000000</td>\n",
       "      <td>0.000000</td>\n",
       "      <td>2539.000000</td>\n",
       "      <td>0.000000</td>\n",
       "      <td>0.000000</td>\n",
       "      <td>0.000000</td>\n",
       "      <td>0.000000</td>\n",
       "      <td>0.000000</td>\n",
       "      <td>0.000000</td>\n",
       "      <td>0.000000</td>\n",
       "      <td>2539.000000</td>\n",
       "      <td>1.000000</td>\n",
       "      <td>0.000000</td>\n",
       "      <td>1.000000</td>\n",
       "      <td>1.000000</td>\n",
       "      <td>1.000000</td>\n",
       "      <td>1.000000</td>\n",
       "      <td>1.000000</td>\n",
       "    </tr>\n",
       "    <tr>\n",
       "      <th>3</th>\n",
       "      <td>8455.000000</td>\n",
       "      <td>261.915198</td>\n",
       "      <td>4.826346</td>\n",
       "      <td>246.000000</td>\n",
       "      <td>261.000000</td>\n",
       "      <td>261.000000</td>\n",
       "      <td>266.000000</td>\n",
       "      <td>269.000000</td>\n",
       "      <td>8455.000000</td>\n",
       "      <td>3.324660</td>\n",
       "      <td>0.598309</td>\n",
       "      <td>2.500000</td>\n",
       "      <td>3.000000</td>\n",
       "      <td>3.000000</td>\n",
       "      <td>3.500000</td>\n",
       "      <td>5.500000</td>\n",
       "      <td>8455.000000</td>\n",
       "      <td>3.669308</td>\n",
       "      <td>1.012308</td>\n",
       "      <td>1.000000</td>\n",
       "      <td>3.000000</td>\n",
       "      <td>4.000000</td>\n",
       "      <td>4.000000</td>\n",
       "      <td>7.000000</td>\n",
       "      <td>8455.000000</td>\n",
       "      <td>3.324660</td>\n",
       "      <td>0.598309</td>\n",
       "      <td>2.500000</td>\n",
       "      <td>3.000000</td>\n",
       "      <td>3.000000</td>\n",
       "      <td>3.500000</td>\n",
       "      <td>5.500000</td>\n",
       "      <td>8455.000000</td>\n",
       "      <td>2473.155174</td>\n",
       "      <td>953.039524</td>\n",
       "      <td>810.000000</td>\n",
       "      <td>1768.500000</td>\n",
       "      <td>2304.000000</td>\n",
       "      <td>2980.000000</td>\n",
       "      <td>12616.000000</td>\n",
       "      <td>8455.000000</td>\n",
       "      <td>6040.450266</td>\n",
       "      <td>8.000568</td>\n",
       "      <td>6037.000000</td>\n",
       "      <td>6037.000000</td>\n",
       "      <td>6037.000000</td>\n",
       "      <td>6037.000000</td>\n",
       "      <td>6059.000000</td>\n",
       "      <td>8455.000000</td>\n",
       "      <td>3.288350</td>\n",
       "      <td>0.561248</td>\n",
       "      <td>2.000000</td>\n",
       "      <td>3.000000</td>\n",
       "      <td>3.000000</td>\n",
       "      <td>3.000000</td>\n",
       "      <td>5.000000</td>\n",
       "      <td>8455.000000</td>\n",
       "      <td>34065393.388291</td>\n",
       "      <td>274013.475037</td>\n",
       "      <td>33393644.000000</td>\n",
       "      <td>33883658.500000</td>\n",
       "      <td>34075480.000000</td>\n",
       "      <td>34186621.000000</td>\n",
       "      <td>34812397.000000</td>\n",
       "      <td>8455.000000</td>\n",
       "      <td>-118216826.356949</td>\n",
       "      <td>293206.376355</td>\n",
       "      <td>-118882569.000000</td>\n",
       "      <td>-118443000.000000</td>\n",
       "      <td>-118277000.000000</td>\n",
       "      <td>-118011533.000000</td>\n",
       "      <td>-117559641.000000</td>\n",
       "      <td>8455.000000</td>\n",
       "      <td>36766.786993</td>\n",
       "      <td>123832.190198</td>\n",
       "      <td>796.000000</td>\n",
       "      <td>6397.500000</td>\n",
       "      <td>9354.000000</td>\n",
       "      <td>24422.000000</td>\n",
       "      <td>3589145.000000</td>\n",
       "      <td>8455.000000</td>\n",
       "      <td>96562.304163</td>\n",
       "      <td>5723.733398</td>\n",
       "      <td>95982.000000</td>\n",
       "      <td>96160.000000</td>\n",
       "      <td>96369.000000</td>\n",
       "      <td>96517.000000</td>\n",
       "      <td>399675.000000</td>\n",
       "      <td>8455.000000</td>\n",
       "      <td>0.111532</td>\n",
       "      <td>0.910199</td>\n",
       "      <td>0.000000</td>\n",
       "      <td>0.000000</td>\n",
       "      <td>0.000000</td>\n",
       "      <td>0.000000</td>\n",
       "      <td>12.000000</td>\n",
       "      <td>8455.000000</td>\n",
       "      <td>1979.216311</td>\n",
       "      <td>24.443067</td>\n",
       "      <td>1824.000000</td>\n",
       "      <td>1963.000000</td>\n",
       "      <td>1986.000000</td>\n",
       "      <td>1999.000000</td>\n",
       "      <td>2016.000000</td>\n",
       "      <td>8455.000000</td>\n",
       "      <td>729358.485512</td>\n",
       "      <td>802660.478949</td>\n",
       "      <td>1000.000000</td>\n",
       "      <td>323378.500000</td>\n",
       "      <td>524976.000000</td>\n",
       "      <td>864931.500000</td>\n",
       "      <td>23858374.000000</td>\n",
       "      <td>8455.000000</td>\n",
       "      <td>0.020747</td>\n",
       "      <td>0.168133</td>\n",
       "      <td>-2.134879</td>\n",
       "      <td>-0.019889</td>\n",
       "      <td>0.010072</td>\n",
       "      <td>0.043468</td>\n",
       "      <td>2.933328</td>\n",
       "      <td>8455.000000</td>\n",
       "      <td>0.843170</td>\n",
       "      <td>0.363662</td>\n",
       "      <td>0.000000</td>\n",
       "      <td>1.000000</td>\n",
       "      <td>1.000000</td>\n",
       "      <td>1.000000</td>\n",
       "      <td>1.000000</td>\n",
       "      <td>8455.000000</td>\n",
       "      <td>0.156830</td>\n",
       "      <td>0.363662</td>\n",
       "      <td>0.000000</td>\n",
       "      <td>0.000000</td>\n",
       "      <td>0.000000</td>\n",
       "      <td>0.000000</td>\n",
       "      <td>1.000000</td>\n",
       "      <td>8455.000000</td>\n",
       "      <td>0.000000</td>\n",
       "      <td>0.000000</td>\n",
       "      <td>0.000000</td>\n",
       "      <td>0.000000</td>\n",
       "      <td>0.000000</td>\n",
       "      <td>0.000000</td>\n",
       "      <td>0.000000</td>\n",
       "    </tr>\n",
       "  </tbody>\n",
       "</table>\n",
       "</div>"
      ],
      "text/plain": [
       "        propertylandusetypeid                                            \\\n",
       "                        count       mean      std        min        25%   \n",
       "cluster                                                                   \n",
       "0                 4428.000000 261.444444 1.485213 246.000000 261.000000   \n",
       "1                16303.000000 262.108262 3.776432 246.000000 261.000000   \n",
       "2                 2539.000000 262.413549 2.404502 246.000000 261.000000   \n",
       "3                 8455.000000 261.915198 4.826346 246.000000 261.000000   \n",
       "\n",
       "                                          bathroomcnt                    \\\n",
       "               50%        75%        max        count     mean      std   \n",
       "cluster                                                                   \n",
       "0       261.000000 261.000000 266.000000  4428.000000 2.183717 0.548175   \n",
       "1       261.000000 266.000000 269.000000 16303.000000 1.738698 0.502042   \n",
       "2       261.000000 265.000000 275.000000  2539.000000 2.353092 0.800833   \n",
       "3       261.000000 266.000000 269.000000  8455.000000 3.324660 0.598309   \n",
       "\n",
       "                                                       bedroomcnt           \\\n",
       "             min      25%      50%      75%      max        count     mean   \n",
       "cluster                                                                      \n",
       "0       1.000000 2.000000 2.000000 2.500000 4.500000  4428.000000 3.288618   \n",
       "1       1.000000 1.000000 2.000000 2.000000 2.500000 16303.000000 2.621358   \n",
       "2       1.000000 2.000000 2.000000 2.500000 5.500000  2539.000000 3.256400   \n",
       "3       2.500000 3.000000 3.000000 3.500000 5.500000  8455.000000 3.669308   \n",
       "\n",
       "                                                               \\\n",
       "             std      min      25%      50%      75%      max   \n",
       "cluster                                                         \n",
       "0       0.824455 1.000000 3.000000 3.000000 4.000000 7.000000   \n",
       "1       0.852430 1.000000 2.000000 3.000000 3.000000 7.000000   \n",
       "2       0.938218 1.000000 3.000000 3.000000 4.000000 7.000000   \n",
       "3       1.012308 1.000000 3.000000 4.000000 4.000000 7.000000   \n",
       "\n",
       "        calculatedbathnbr                                               \\\n",
       "                    count     mean      std      min      25%      50%   \n",
       "cluster                                                                  \n",
       "0             4428.000000 2.184064 0.547812 1.000000 2.000000 2.000000   \n",
       "1            16303.000000 1.738698 0.502042 1.000000 1.000000 2.000000   \n",
       "2             2539.000000 2.353092 0.800833 1.000000 2.000000 2.000000   \n",
       "3             8455.000000 3.324660 0.598309 2.500000 3.000000 3.000000   \n",
       "\n",
       "                          calculatedfinishedsquarefeet                         \\\n",
       "             75%      max                        count        mean        std   \n",
       "cluster                                                                         \n",
       "0       2.500000 4.500000                  4428.000000 1753.359228 618.522353   \n",
       "1       2.000000 2.500000                 16303.000000 1334.680945 439.452306   \n",
       "2       2.500000 5.500000                  2539.000000 1896.051682 885.184385   \n",
       "3       3.500000 5.500000                  8455.000000 2473.155174 953.039524   \n",
       "\n",
       "                                                                     \\\n",
       "               min         25%         50%         75%          max   \n",
       "cluster                                                               \n",
       "0       667.000000 1290.000000 1606.000000 2095.250000  5243.000000   \n",
       "1       242.000000 1026.000000 1272.000000 1582.000000  5315.000000   \n",
       "2       480.000000 1270.000000 1671.000000 2277.000000  7223.000000   \n",
       "3       810.000000 1768.500000 2304.000000 2980.000000 12616.000000   \n",
       "\n",
       "                fips                                                           \\\n",
       "               count        mean      std         min         25%         50%   \n",
       "cluster                                                                         \n",
       "0        4428.000000 6059.000000 0.000000 6059.000000 6059.000000 6059.000000   \n",
       "1       16303.000000 6040.746059 8.269494 6037.000000 6037.000000 6037.000000   \n",
       "2        2539.000000 6111.000000 0.000000 6111.000000 6111.000000 6111.000000   \n",
       "3        8455.000000 6040.450266 8.000568 6037.000000 6037.000000 6037.000000   \n",
       "\n",
       "                                 fullbathcnt                             \\\n",
       "                75%         max        count     mean      std      min   \n",
       "cluster                                                                   \n",
       "0       6059.000000 6059.000000  4428.000000 2.041103 0.560144 1.000000   \n",
       "1       6037.000000 6059.000000 16303.000000 1.693185 0.461186 1.000000   \n",
       "2       6111.000000 6111.000000  2539.000000 2.173297 0.758911 1.000000   \n",
       "3       6037.000000 6059.000000  8455.000000 3.288350 0.561248 2.000000   \n",
       "\n",
       "                                                latitude                  \\\n",
       "             25%      50%      75%      max        count            mean   \n",
       "cluster                                                                    \n",
       "0       2.000000 2.000000 2.000000 4.000000  4428.000000 33730820.546974   \n",
       "1       1.000000 2.000000 2.000000 2.000000 16303.000000 34018242.842790   \n",
       "2       2.000000 2.000000 2.000000 5.000000  2539.000000 34239620.306420   \n",
       "3       3.000000 3.000000 3.000000 5.000000  8455.000000 34065393.388291   \n",
       "\n",
       "                                                                       \\\n",
       "                  std             min             25%             50%   \n",
       "cluster                                                                 \n",
       "0       122867.409072 33392330.000000 33639571.500000 33745197.500000   \n",
       "1       252094.688215 33341224.000000 33848108.500000 34022442.000000   \n",
       "2        64308.774235 34048730.000000 34188234.000000 34232985.000000   \n",
       "3       274013.475037 33393644.000000 33883658.500000 34075480.000000   \n",
       "\n",
       "                                           longitude                    \\\n",
       "                    75%             max        count              mean   \n",
       "cluster                                                                  \n",
       "0       33827982.500000 33945863.000000  4428.000000 -117859374.266034   \n",
       "1       34157485.500000 34818767.000000 16303.000000 -118164513.357726   \n",
       "2       34273351.500000 34470513.000000  2539.000000 -118984301.136668   \n",
       "3       34186621.000000 34812397.000000  8455.000000 -118216826.356949   \n",
       "\n",
       "                                                                             \\\n",
       "                  std               min               25%               50%   \n",
       "cluster                                                                       \n",
       "0       123635.493743 -118111087.000000 -117958447.250000 -117876923.000000   \n",
       "1       260043.505455 -118889000.000000 -118366860.000000 -118185629.000000   \n",
       "2       189399.963985 -119448392.000000 -119180397.500000 -118959615.000000   \n",
       "3       293206.376355 -118882569.000000 -118443000.000000 -118277000.000000   \n",
       "\n",
       "                                            lotsizesquarefeet               \\\n",
       "                      75%               max             count         mean   \n",
       "cluster                                                                      \n",
       "0       -117766980.000000 -117562354.000000       4428.000000  9102.697788   \n",
       "1       -117986457.000000 -117554636.000000      16303.000000 35653.349948   \n",
       "2       -118828226.500000 -118631805.000000       2539.000000 14282.280051   \n",
       "3       -118011533.000000 -117559641.000000       8455.000000 36766.786993   \n",
       "\n",
       "                                                                       \\\n",
       "                  std        min         25%         50%          75%   \n",
       "cluster                                                                 \n",
       "0         7832.521189 540.000000 5600.000000 6935.000000  8700.000000   \n",
       "1       159401.672007 540.000000 5775.000000 7435.000000 29969.280611   \n",
       "2        22029.412126 435.000000 5904.500000 7685.000000 16409.000000   \n",
       "3       123832.190198 796.000000 6397.500000 9354.000000 24422.000000   \n",
       "\n",
       "                        regionidzip                                        \\\n",
       "                   max        count         mean         std          min   \n",
       "cluster                                                                     \n",
       "0         91476.000000  4428.000000 96911.211628  260.875133 96180.000000   \n",
       "1       6971010.000000 16303.000000 96431.235019  381.572904 95982.000000   \n",
       "2        439956.000000  2539.000000 96914.850900  317.830478 96116.000000   \n",
       "3       3589145.000000  8455.000000 96562.304163 5723.733398 95982.000000   \n",
       "\n",
       "                                                                  roomcnt  \\\n",
       "                 25%          50%          75%           max        count   \n",
       "cluster                                                                     \n",
       "0       96963.000000 96990.000000 97026.000000  97079.000000  4428.000000   \n",
       "1       96150.000000 96339.000000 96513.000000  97344.000000 16303.000000   \n",
       "2       96393.000000 97094.000000 97107.000000  97119.000000  2539.000000   \n",
       "3       96160.000000 96369.000000 96517.000000 399675.000000  8455.000000   \n",
       "\n",
       "                                                                         \\\n",
       "            mean      std      min      25%      50%      75%       max   \n",
       "cluster                                                                   \n",
       "0       6.640018 1.287127 3.000000 6.000000 7.000000 8.000000 12.000000   \n",
       "1       0.054407 0.453908 0.000000 0.000000 0.000000 0.000000  5.000000   \n",
       "2       6.454116 1.795648 0.000000 5.000000 6.000000 8.000000 13.000000   \n",
       "3       0.111532 0.910199 0.000000 0.000000 0.000000 0.000000 12.000000   \n",
       "\n",
       "           yearbuilt                                                \\\n",
       "               count        mean       std         min         25%   \n",
       "cluster                                                              \n",
       "0        4428.000000 1967.078713 11.722193 1893.000000 1959.000000   \n",
       "1       16303.000000 1962.075797 23.935728 1878.000000 1948.000000   \n",
       "2        2539.000000 1979.055925 17.959850 1900.000000 1966.000000   \n",
       "3        8455.000000 1979.216311 24.443067 1824.000000 1963.000000   \n",
       "\n",
       "                                            taxvaluedollarcnt                \\\n",
       "                50%         75%         max             count          mean   \n",
       "cluster                                                                       \n",
       "0       1968.000000 1975.000000 2015.000000       4428.000000 433306.014002   \n",
       "1       1958.000000 1982.000000 2016.000000      16303.000000 343882.193584   \n",
       "2       1979.000000 1991.000000 2015.000000       2539.000000 449150.731390   \n",
       "3       1986.000000 1999.000000 2016.000000       8455.000000 729358.485512   \n",
       "\n",
       "                                                                              \\\n",
       "                  std          min           25%           50%           75%   \n",
       "cluster                                                                        \n",
       "0       368975.885080 29207.000000 206124.250000 372958.500000 554872.500000   \n",
       "1       295362.739734  3254.000000 160500.500000 286171.000000 443914.000000   \n",
       "2       321984.834467  9242.000000 256280.500000 389414.000000 552843.000000   \n",
       "3       802660.478949  1000.000000 323378.500000 524976.000000 864931.500000   \n",
       "\n",
       "                            logerror                                        \\\n",
       "                    max        count     mean      std       min       25%   \n",
       "cluster                                                                      \n",
       "0        6091500.000000  4428.000000 0.017749 0.173648 -2.300184 -0.019758   \n",
       "1        6717405.000000 16303.000000 0.014997 0.169315 -2.317804 -0.028395   \n",
       "2        3547427.000000  2539.000000 0.018325 0.116864 -2.175949 -0.017986   \n",
       "3       23858374.000000  8455.000000 0.020747 0.168133 -2.134879 -0.019889   \n",
       "\n",
       "                                   is_la_county                             \\\n",
       "             50%      75%      max        count     mean      std      min   \n",
       "cluster                                                                      \n",
       "0       0.007482 0.036662 2.465684  4428.000000 0.000000 0.000000 0.000000   \n",
       "1       0.004141 0.036315 3.123634 16303.000000 0.829725 0.375886 0.000000   \n",
       "2       0.007373 0.038938 1.653925  2539.000000 0.000000 0.000000 0.000000   \n",
       "3       0.010072 0.043468 2.933328  8455.000000 0.843170 0.363662 0.000000   \n",
       "\n",
       "                                            is_orange_county           \\\n",
       "             25%      50%      75%      max            count     mean   \n",
       "cluster                                                                 \n",
       "0       0.000000 0.000000 0.000000 0.000000      4428.000000 1.000000   \n",
       "1       1.000000 1.000000 1.000000 1.000000     16303.000000 0.170275   \n",
       "2       0.000000 0.000000 0.000000 0.000000      2539.000000 0.000000   \n",
       "3       1.000000 1.000000 1.000000 1.000000      8455.000000 0.156830   \n",
       "\n",
       "                                                               \\\n",
       "             std      min      25%      50%      75%      max   \n",
       "cluster                                                         \n",
       "0       0.000000 1.000000 1.000000 1.000000 1.000000 1.000000   \n",
       "1       0.375886 0.000000 0.000000 0.000000 0.000000 1.000000   \n",
       "2       0.000000 0.000000 0.000000 0.000000 0.000000 0.000000   \n",
       "3       0.363662 0.000000 0.000000 0.000000 0.000000 1.000000   \n",
       "\n",
       "        is_ventura_county                                               \\\n",
       "                    count     mean      std      min      25%      50%   \n",
       "cluster                                                                  \n",
       "0             4428.000000 0.000000 0.000000 0.000000 0.000000 0.000000   \n",
       "1            16303.000000 0.000000 0.000000 0.000000 0.000000 0.000000   \n",
       "2             2539.000000 1.000000 0.000000 1.000000 1.000000 1.000000   \n",
       "3             8455.000000 0.000000 0.000000 0.000000 0.000000 0.000000   \n",
       "\n",
       "                           \n",
       "             75%      max  \n",
       "cluster                    \n",
       "0       0.000000 0.000000  \n",
       "1       0.000000 0.000000  \n",
       "2       1.000000 1.000000  \n",
       "3       0.000000 0.000000  "
      ]
     },
     "execution_count": 26,
     "metadata": {},
     "output_type": "execute_result"
    }
   ],
   "source": [
    "X_train.groupby('cluster').describe()"
   ]
  },
  {
   "cell_type": "code",
   "execution_count": 27,
   "metadata": {},
   "outputs": [
    {
     "data": {
      "text/plain": [
       "cluster\n",
       "0     4428\n",
       "1    16303\n",
       "2     2539\n",
       "3     8455\n",
       "dtype: int64"
      ]
     },
     "execution_count": 27,
     "metadata": {},
     "output_type": "execute_result"
    }
   ],
   "source": [
    "X_train_scaled.groupby('cluster').size()"
   ]
  },
  {
   "cell_type": "code",
   "execution_count": 28,
   "metadata": {},
   "outputs": [
    {
     "data": {
      "text/plain": [
       "[Text(0, 0.5, 'Square Footage Of Home'), Text(0.5, 0, 'Log Error')]"
      ]
     },
     "execution_count": 28,
     "metadata": {},
     "output_type": "execute_result"
    },
    {
     "data": {
      "image/png": "[encoded data removed]",
      "text/plain": [
       "<Figure size 936x504 with 1 Axes>"
      ]
     },
     "metadata": {
      "needs_background": "light"
     },
     "output_type": "display_data"
    }
   ],
   "source": [
    "fig, ax = plt.subplots(figsize=(13, 7))\n",
    "\n",
    "for cluster, subset in X_train.groupby('cluster'):\n",
    "    ax.scatter(subset.logerror, subset.calculatedfinishedsquarefeet, label=cluster)\n",
    "ax.legend(title='cluster')\n",
    "ax.set(ylabel='Square Footage Of Home', xlabel='Log Error')\n"
   ]
  },
  {
   "cell_type": "markdown",
   "metadata": {},
   "source": [
    "# Takeaways\n",
    "- It seems that the log error is evenly distributed amongst all the square footages of the homes\n",
    "- There may not be much to focus on related to square footage"
   ]
  },
  {
   "cell_type": "code",
   "execution_count": 29,
   "metadata": {},
   "outputs": [
    {
     "data": {
      "text/plain": [
       "3280.651546749759"
      ]
     },
     "execution_count": 29,
     "metadata": {},
     "output_type": "execute_result"
    }
   ],
   "source": [
    "kmeans.inertia_"
   ]
  },
  {
   "cell_type": "code",
   "execution_count": 30,
   "metadata": {},
   "outputs": [
    {
     "data": {
      "image/png": "[encoded data removed]",
      "text/plain": [
       "<Figure size 936x504 with 1 Axes>"
      ]
     },
     "metadata": {
      "needs_background": "light"
     },
     "output_type": "display_data"
    }
   ],
   "source": [
    "output = {}\n",
    "\n",
    "for k in range(1, 12):\n",
    "    kmeans = KMeans(n_clusters=k)\n",
    "    kmeans.fit(X1)\n",
    "    output[k] = kmeans.inertia_\n",
    "\n",
    "ax = pd.Series(output).plot(figsize=(13, 7))\n",
    "ax.set(xlabel='k', ylabel='inertia', xticks=range(1, 12), title='The elbow method for determining k')\n",
    "ax.grid()"
   ]
  },
  {
   "cell_type": "code",
   "execution_count": 31,
   "metadata": {},
   "outputs": [
    {
     "data": {
      "image/png": "[encoded data removed]",
      "text/plain": [
       "<Figure size 432x288 with 1 Axes>"
      ]
     },
     "metadata": {
      "needs_background": "light"
     },
     "output_type": "display_data"
    }
   ],
   "source": [
    "sns.scatterplot(x='longitude', y='latitude', hue='cluster', data=X_train_scaled, palette='tab10')\n",
    "plt.title(\"Latitude and Longitude By Cluster \")\n",
    "plt.show()"
   ]
  },
  {
   "cell_type": "markdown",
   "metadata": {},
   "source": [
    "# Takeaways\n",
    "- The clusters are doing a good job of showing me the distribution of the difference houses based on key features and location\n",
    "\n",
    "- Now that I can visualize were these the way these homes are distributed, I can come up with a better idea of how to address the outliers\n",
    "\n",
    "- Cluster 2 contains all the higher valued homes in the area, so with this filter added, we can see that there is a lot of overlap in Orange county that is causing all the varience.\n",
    "\n",
    "- This means that location does matter as there are different variations in home value throughout various areas in LA and Orange county."
   ]
  },
  {
   "cell_type": "code",
   "execution_count": 32,
   "metadata": {},
   "outputs": [
    {
     "data": {
      "text/plain": [
       "Text(0.5, 1.0, 'Year Built vs Log Error By Clusters')"
      ]
     },
     "execution_count": 32,
     "metadata": {},
     "output_type": "execute_result"
    },
    {
     "data": {
      "image/png": "[encoded data removed]",
      "text/plain": [
       "<Figure size 432x288 with 1 Axes>"
      ]
     },
     "metadata": {
      "needs_background": "light"
     },
     "output_type": "display_data"
    }
   ],
   "source": [
    "sns.scatterplot(x='logerror', y='yearbuilt', hue='cluster', data=X_train, palette='tab10')\n",
    "plt.ylabel('Year Home Was Built')\n",
    "plt.xlabel('Log Error')\n",
    "plt.gcf().axes[0].yaxis.get_major_formatter().set_scientific(False)\n",
    "plt.title('Year Built vs Log Error By Clusters')"
   ]
  },
  {
   "cell_type": "markdown",
   "metadata": {},
   "source": [
    "# Takeaways\n",
    "- This did not provide any additional clarity in regards to year built. It appears that there are high valued homes (green) scattered throughout all the data.\n",
    "\n",
    "- Not a waste of efforts but it does show that the high prices homes are scattered throughout the years built"
   ]
  },
  {
   "cell_type": "code",
   "execution_count": 33,
   "metadata": {},
   "outputs": [
    {
     "data": {
      "text/plain": [
       "KMeans(n_clusters=2)"
      ]
     },
     "execution_count": 33,
     "metadata": {},
     "output_type": "execute_result"
    }
   ],
   "source": [
    "X4 = X_train_scaled[['fips', 'taxvaluedollarcnt','regionidzip']]\n",
    "kmeans = KMeans(n_clusters=2)\n",
    "kmeans.fit(X4)"
   ]
  },
  {
   "cell_type": "code",
   "execution_count": 34,
   "metadata": {},
   "outputs": [
    {
     "data": {
      "text/html": [
       "<div>\n",
       "<style scoped>\n",
       "    .dataframe tbody tr th:only-of-type {\n",
       "        vertical-align: middle;\n",
       "    }\n",
       "\n",
       "    .dataframe tbody tr th {\n",
       "        vertical-align: top;\n",
       "    }\n",
       "\n",
       "    .dataframe thead th {\n",
       "        text-align: right;\n",
       "    }\n",
       "</style>\n",
       "<table border=\"1\" class=\"dataframe\">\n",
       "  <thead>\n",
       "    <tr style=\"text-align: right;\">\n",
       "      <th></th>\n",
       "      <th>fips</th>\n",
       "      <th>taxvaluedollarcnt</th>\n",
       "      <th>regionidzip</th>\n",
       "    </tr>\n",
       "  </thead>\n",
       "  <tbody>\n",
       "    <tr>\n",
       "      <th>0</th>\n",
       "      <td>0.086889</td>\n",
       "      <td>0.019622</td>\n",
       "      <td>0.001844</td>\n",
       "    </tr>\n",
       "    <tr>\n",
       "      <th>1</th>\n",
       "      <td>1.000000</td>\n",
       "      <td>0.018785</td>\n",
       "      <td>0.003072</td>\n",
       "    </tr>\n",
       "  </tbody>\n",
       "</table>\n",
       "</div>"
      ],
      "text/plain": [
       "      fips  taxvaluedollarcnt  regionidzip\n",
       "0 0.086889           0.019622     0.001844\n",
       "1 1.000000           0.018785     0.003072"
      ]
     },
     "execution_count": 34,
     "metadata": {},
     "output_type": "execute_result"
    }
   ],
   "source": [
    "pd.DataFrame(kmeans.cluster_centers_, columns=X4.columns)"
   ]
  },
  {
   "cell_type": "code",
   "execution_count": 35,
   "metadata": {},
   "outputs": [
    {
     "data": {
      "image/png": "[encoded data removed]",
      "text/plain": [
       "<Figure size 936x504 with 1 Axes>"
      ]
     },
     "metadata": {
      "needs_background": "light"
     },
     "output_type": "display_data"
    }
   ],
   "source": [
    "output = {}\n",
    "\n",
    "for k in range(1, 12):\n",
    "    kmeans = KMeans(n_clusters=k)\n",
    "    kmeans.fit(X4)\n",
    "    output[k] = kmeans.inertia_\n",
    "\n",
    "ax = pd.Series(output).plot(figsize=(13, 7))\n",
    "ax.set(xlabel='k', ylabel='inertia', xticks=range(1, 12), title='The elbow method for determining k')\n",
    "ax.grid()"
   ]
  },
  {
   "cell_type": "code",
   "execution_count": 36,
   "metadata": {},
   "outputs": [
    {
     "data": {
      "text/plain": [
       "Text(0.5, 1.0, 'Fips vs Log Error By Clusters')"
      ]
     },
     "execution_count": 36,
     "metadata": {},
     "output_type": "execute_result"
    },
    {
     "data": {
      "image/png": "[encoded data removed]",
      "text/plain": [
       "<Figure size 432x288 with 1 Axes>"
      ]
     },
     "metadata": {
      "needs_background": "light"
     },
     "output_type": "display_data"
    }
   ],
   "source": [
    "sns.scatterplot(x='logerror', y='fips', hue='cluster', data=X_train, palette='tab10')\n",
    "plt.ylabel('Fips')\n",
    "plt.xlabel('Log Error')\n",
    "plt.gcf().axes[0].yaxis.get_major_formatter().set_scientific(False)\n",
    "plt.title('Fips vs Log Error By Clusters')"
   ]
  },
  {
   "cell_type": "code",
   "execution_count": 37,
   "metadata": {},
   "outputs": [
    {
     "data": {
      "text/plain": [
       "KMeans(n_clusters=3)"
      ]
     },
     "execution_count": 37,
     "metadata": {},
     "output_type": "execute_result"
    }
   ],
   "source": [
    "X5 = X_train_scaled[['fips', 'taxvaluedollarcnt','bathroomcnt', 'bedroomcnt', 'calculatedfinishedsquarefeet']]\n",
    "kmeans = KMeans(n_clusters=3)\n",
    "kmeans.fit(X5)"
   ]
  },
  {
   "cell_type": "code",
   "execution_count": 38,
   "metadata": {},
   "outputs": [
    {
     "data": {
      "text/html": [
       "<div>\n",
       "<style scoped>\n",
       "    .dataframe tbody tr th:only-of-type {\n",
       "        vertical-align: middle;\n",
       "    }\n",
       "\n",
       "    .dataframe tbody tr th {\n",
       "        vertical-align: top;\n",
       "    }\n",
       "\n",
       "    .dataframe thead th {\n",
       "        text-align: right;\n",
       "    }\n",
       "</style>\n",
       "<table border=\"1\" class=\"dataframe\">\n",
       "  <thead>\n",
       "    <tr style=\"text-align: right;\">\n",
       "      <th></th>\n",
       "      <th>fips</th>\n",
       "      <th>taxvaluedollarcnt</th>\n",
       "      <th>bathroomcnt</th>\n",
       "      <th>bedroomcnt</th>\n",
       "      <th>calculatedfinishedsquarefeet</th>\n",
       "    </tr>\n",
       "  </thead>\n",
       "  <tbody>\n",
       "    <tr>\n",
       "      <th>0</th>\n",
       "      <td>0.072565</td>\n",
       "      <td>0.014365</td>\n",
       "      <td>0.166034</td>\n",
       "      <td>0.232295</td>\n",
       "      <td>0.083249</td>\n",
       "    </tr>\n",
       "    <tr>\n",
       "      <th>1</th>\n",
       "      <td>0.105784</td>\n",
       "      <td>0.026556</td>\n",
       "      <td>0.433249</td>\n",
       "      <td>0.476732</td>\n",
       "      <td>0.168691</td>\n",
       "    </tr>\n",
       "    <tr>\n",
       "      <th>2</th>\n",
       "      <td>1.000000</td>\n",
       "      <td>0.018785</td>\n",
       "      <td>0.300687</td>\n",
       "      <td>0.376067</td>\n",
       "      <td>0.133672</td>\n",
       "    </tr>\n",
       "  </tbody>\n",
       "</table>\n",
       "</div>"
      ],
      "text/plain": [
       "      fips  taxvaluedollarcnt  bathroomcnt  bedroomcnt  \\\n",
       "0 0.072565           0.014365     0.166034    0.232295   \n",
       "1 0.105784           0.026556     0.433249    0.476732   \n",
       "2 1.000000           0.018785     0.300687    0.376067   \n",
       "\n",
       "   calculatedfinishedsquarefeet  \n",
       "0                      0.083249  \n",
       "1                      0.168691  \n",
       "2                      0.133672  "
      ]
     },
     "execution_count": 38,
     "metadata": {},
     "output_type": "execute_result"
    }
   ],
   "source": [
    "pd.DataFrame(kmeans.cluster_centers_, columns=X5.columns)"
   ]
  },
  {
   "cell_type": "code",
   "execution_count": 39,
   "metadata": {},
   "outputs": [
    {
     "data": {
      "image/png": "[encoded data removed]",
      "text/plain": [
       "<Figure size 936x504 with 1 Axes>"
      ]
     },
     "metadata": {
      "needs_background": "light"
     },
     "output_type": "display_data"
    }
   ],
   "source": [
    "output = {}\n",
    "\n",
    "for k in range(1, 12):\n",
    "    kmeans = KMeans(n_clusters=k)\n",
    "    kmeans.fit(X5)\n",
    "    output[k] = kmeans.inertia_\n",
    "\n",
    "ax = pd.Series(output).plot(figsize=(13, 7))\n",
    "ax.set(xlabel='k', ylabel='inertia', xticks=range(1, 12), title='The elbow method for determining k')\n",
    "ax.grid()"
   ]
  },
  {
   "cell_type": "code",
   "execution_count": 40,
   "metadata": {},
   "outputs": [
    {
     "data": {
      "text/plain": [
       "Text(0.5, 1.0, 'Number of Bedrooms vs Log Error By Clusters')"
      ]
     },
     "execution_count": 40,
     "metadata": {},
     "output_type": "execute_result"
    },
    {
     "data": {
      "image/png": "[encoded data removed]",
      "text/plain": [
       "<Figure size 432x288 with 1 Axes>"
      ]
     },
     "metadata": {
      "needs_background": "light"
     },
     "output_type": "display_data"
    }
   ],
   "source": [
    "sns.scatterplot(x='logerror', y='bedroomcnt', hue='cluster', data=X_train, palette='tab10')\n",
    "plt.ylabel('Number of Bedrooms')\n",
    "plt.xlabel('Log Error')\n",
    "plt.gcf().axes[0].yaxis.get_major_formatter().set_scientific(False)\n",
    "plt.title('Number of Bedrooms vs Log Error By Clusters')"
   ]
  },
  {
   "cell_type": "markdown",
   "metadata": {},
   "source": [
    "# Cluster Conclusion\n",
    "- Clustering was very helpful in understanding the data even better to more accurate select the features for my models.\n",
    "\n",
    "- The last go around, I was missing an x factor that would make my predictions almost perfect, but clustering helped find that x factor.\n",
    "\n",
    "- Now I wil include the cluster column and run it through the RFE to see if it improves the model or not."
   ]
  },
  {
   "cell_type": "code",
   "execution_count": 41,
   "metadata": {},
   "outputs": [
    {
     "data": {
      "text/html": [
       "<div>\n",
       "<style scoped>\n",
       "    .dataframe tbody tr th:only-of-type {\n",
       "        vertical-align: middle;\n",
       "    }\n",
       "\n",
       "    .dataframe tbody tr th {\n",
       "        vertical-align: top;\n",
       "    }\n",
       "\n",
       "    .dataframe thead th {\n",
       "        text-align: right;\n",
       "    }\n",
       "</style>\n",
       "<table border=\"1\" class=\"dataframe\">\n",
       "  <thead>\n",
       "    <tr style=\"text-align: right;\">\n",
       "      <th></th>\n",
       "      <th>propertylandusetypeid</th>\n",
       "      <th>bathroomcnt</th>\n",
       "      <th>bedroomcnt</th>\n",
       "      <th>calculatedbathnbr</th>\n",
       "      <th>calculatedfinishedsquarefeet</th>\n",
       "      <th>fips</th>\n",
       "      <th>fullbathcnt</th>\n",
       "      <th>latitude</th>\n",
       "      <th>longitude</th>\n",
       "      <th>lotsizesquarefeet</th>\n",
       "      <th>regionidzip</th>\n",
       "      <th>roomcnt</th>\n",
       "      <th>yearbuilt</th>\n",
       "      <th>taxvaluedollarcnt</th>\n",
       "      <th>cluster</th>\n",
       "    </tr>\n",
       "  </thead>\n",
       "  <tbody>\n",
       "    <tr>\n",
       "      <th>30392</th>\n",
       "      <td>0.517241</td>\n",
       "      <td>0.222222</td>\n",
       "      <td>0.500000</td>\n",
       "      <td>0.222222</td>\n",
       "      <td>0.174317</td>\n",
       "      <td>0.297297</td>\n",
       "      <td>0.250000</td>\n",
       "      <td>0.208356</td>\n",
       "      <td>0.781236</td>\n",
       "      <td>0.000799</td>\n",
       "      <td>0.003234</td>\n",
       "      <td>0.615385</td>\n",
       "      <td>0.734375</td>\n",
       "      <td>0.019287</td>\n",
       "      <td>0</td>\n",
       "    </tr>\n",
       "    <tr>\n",
       "      <th>23301</th>\n",
       "      <td>0.517241</td>\n",
       "      <td>0.000000</td>\n",
       "      <td>0.166667</td>\n",
       "      <td>0.000000</td>\n",
       "      <td>0.060449</td>\n",
       "      <td>0.000000</td>\n",
       "      <td>0.000000</td>\n",
       "      <td>0.519069</td>\n",
       "      <td>0.658985</td>\n",
       "      <td>0.000282</td>\n",
       "      <td>0.000135</td>\n",
       "      <td>0.000000</td>\n",
       "      <td>0.510417</td>\n",
       "      <td>0.007804</td>\n",
       "      <td>1</td>\n",
       "    </tr>\n",
       "    <tr>\n",
       "      <th>45942</th>\n",
       "      <td>0.517241</td>\n",
       "      <td>0.222222</td>\n",
       "      <td>0.500000</td>\n",
       "      <td>0.222222</td>\n",
       "      <td>0.141426</td>\n",
       "      <td>0.000000</td>\n",
       "      <td>0.250000</td>\n",
       "      <td>0.633326</td>\n",
       "      <td>0.608963</td>\n",
       "      <td>0.001522</td>\n",
       "      <td>0.000994</td>\n",
       "      <td>0.000000</td>\n",
       "      <td>0.739583</td>\n",
       "      <td>0.025350</td>\n",
       "      <td>1</td>\n",
       "    </tr>\n",
       "    <tr>\n",
       "      <th>43613</th>\n",
       "      <td>0.689655</td>\n",
       "      <td>0.666667</td>\n",
       "      <td>0.333333</td>\n",
       "      <td>0.666667</td>\n",
       "      <td>0.139567</td>\n",
       "      <td>0.000000</td>\n",
       "      <td>0.750000</td>\n",
       "      <td>0.364946</td>\n",
       "      <td>0.550389</td>\n",
       "      <td>0.000416</td>\n",
       "      <td>0.000445</td>\n",
       "      <td>0.000000</td>\n",
       "      <td>0.885417</td>\n",
       "      <td>0.085846</td>\n",
       "      <td>3</td>\n",
       "    </tr>\n",
       "    <tr>\n",
       "      <th>64970</th>\n",
       "      <td>0.517241</td>\n",
       "      <td>0.000000</td>\n",
       "      <td>0.166667</td>\n",
       "      <td>0.000000</td>\n",
       "      <td>0.046388</td>\n",
       "      <td>0.297297</td>\n",
       "      <td>0.000000</td>\n",
       "      <td>0.336247</td>\n",
       "      <td>0.741671</td>\n",
       "      <td>0.000167</td>\n",
       "      <td>0.000662</td>\n",
       "      <td>0.384615</td>\n",
       "      <td>0.760417</td>\n",
       "      <td>0.011688</td>\n",
       "      <td>0</td>\n",
       "    </tr>\n",
       "  </tbody>\n",
       "</table>\n",
       "</div>"
      ],
      "text/plain": [
       "       propertylandusetypeid  bathroomcnt  bedroomcnt  calculatedbathnbr  \\\n",
       "30392               0.517241     0.222222    0.500000           0.222222   \n",
       "23301               0.517241     0.000000    0.166667           0.000000   \n",
       "45942               0.517241     0.222222    0.500000           0.222222   \n",
       "43613               0.689655     0.666667    0.333333           0.666667   \n",
       "64970               0.517241     0.000000    0.166667           0.000000   \n",
       "\n",
       "       calculatedfinishedsquarefeet     fips  fullbathcnt  latitude  \\\n",
       "30392                      0.174317 0.297297     0.250000  0.208356   \n",
       "23301                      0.060449 0.000000     0.000000  0.519069   \n",
       "45942                      0.141426 0.000000     0.250000  0.633326   \n",
       "43613                      0.139567 0.000000     0.750000  0.364946   \n",
       "64970                      0.046388 0.297297     0.000000  0.336247   \n",
       "\n",
       "       longitude  lotsizesquarefeet  regionidzip  roomcnt  yearbuilt  \\\n",
       "30392   0.781236           0.000799     0.003234 0.615385   0.734375   \n",
       "23301   0.658985           0.000282     0.000135 0.000000   0.510417   \n",
       "45942   0.608963           0.001522     0.000994 0.000000   0.739583   \n",
       "43613   0.550389           0.000416     0.000445 0.000000   0.885417   \n",
       "64970   0.741671           0.000167     0.000662 0.384615   0.760417   \n",
       "\n",
       "       taxvaluedollarcnt  cluster  \n",
       "30392           0.019287        0  \n",
       "23301           0.007804        1  \n",
       "45942           0.025350        1  \n",
       "43613           0.085846        3  \n",
       "64970           0.011688        0  "
      ]
     },
     "execution_count": 41,
     "metadata": {},
     "output_type": "execute_result"
    }
   ],
   "source": [
    "X_train_scaled.head()"
   ]
  },
  {
   "cell_type": "markdown",
   "metadata": {},
   "source": [
    "# Feature Engineering"
   ]
  },
  {
   "cell_type": "code",
   "execution_count": 42,
   "metadata": {},
   "outputs": [],
   "source": [
    "from sklearn.feature_selection import RFE\n",
    "from sklearn.linear_model import LinearRegression"
   ]
  },
  {
   "cell_type": "code",
   "execution_count": 43,
   "metadata": {},
   "outputs": [],
   "source": [
    "## Assessing the RFE using a linear regression model\n",
    "lm = LinearRegression()\n",
    "\n",
    "rfe = RFE(lm, 5)\n",
    "lm_X_rfe_train = rfe.fit_transform(X_train_scaled,y_train)\n",
    "lm_X_rfe_val = rfe.fit_transform(X_validate_scaled,y_validate)\n",
    "lm_X_rfe_test = rfe.fit_transform(X_test_scaled,y_test)"
   ]
  },
  {
   "cell_type": "code",
   "execution_count": 44,
   "metadata": {},
   "outputs": [
    {
     "name": "stdout",
     "output_type": "stream",
     "text": [
      "selected 5 features: bathroomcnt, calculatedbathnbr, calculatedfinishedsquarefeet, lotsizesquarefeet, taxvaluedollarcnt\n"
     ]
    }
   ],
   "source": [
    "## Here we want to filter through and return only the best features\n",
    "mask = rfe.support_ \n",
    "rfe_features = X_train_scaled.columns[mask]\n",
    "print(f'selected {len(rfe_features)} features:', ', '.join(rfe_features))"
   ]
  },
  {
   "cell_type": "markdown",
   "metadata": {},
   "source": [
    "# Takeaway\n",
    "- At this point, clustering was not good enought to improve my model but in clustering as part of my explore phase, I included features in the my models this time around that I did not include the first time because I didn't feel they were relevant.\n",
    "\n",
    "- With these additional features, the RFE actually returned features that I did not use before that would be considered better to accuractely predict with."
   ]
  },
  {
   "cell_type": "markdown",
   "metadata": {},
   "source": [
    "# Train Linear Regression Model"
   ]
  },
  {
   "cell_type": "code",
   "execution_count": 45,
   "metadata": {},
   "outputs": [
    {
     "data": {
      "text/plain": [
       "LinearRegression()"
      ]
     },
     "execution_count": 45,
     "metadata": {},
     "output_type": "execute_result"
    }
   ],
   "source": [
    "# Fit the model to the train dataset\n",
    "lm.fit(lm_X_rfe_train, y_train)"
   ]
  },
  {
   "cell_type": "code",
   "execution_count": 46,
   "metadata": {},
   "outputs": [
    {
     "name": "stdout",
     "output_type": "stream",
     "text": [
      "Linear Model: LinearRegression()\n",
      "intercept:  [0.00551802]\n",
      "features:  Index(['bathroomcnt', 'calculatedbathnbr', 'calculatedfinishedsquarefeet',\n",
      "       'lotsizesquarefeet', 'taxvaluedollarcnt'],\n",
      "      dtype='object')\n",
      "coefficients:  [[ 0.42661848 -0.43432515  0.15032883  0.13924665 -0.2542502 ]]\n"
     ]
    }
   ],
   "source": [
    "print(\"Linear Model:\", lm)\n",
    "\n",
    "print(\"intercept: \", lm.intercept_)\n",
    "\n",
    "print(\"features: \", rfe_features)\n",
    "\n",
    "print(\"coefficients: \", lm.coef_)"
   ]
  },
  {
   "cell_type": "code",
   "execution_count": 47,
   "metadata": {},
   "outputs": [
    {
     "data": {
      "text/html": [
       "<div>\n",
       "<style scoped>\n",
       "    .dataframe tbody tr th:only-of-type {\n",
       "        vertical-align: middle;\n",
       "    }\n",
       "\n",
       "    .dataframe tbody tr th {\n",
       "        vertical-align: top;\n",
       "    }\n",
       "\n",
       "    .dataframe thead th {\n",
       "        text-align: right;\n",
       "    }\n",
       "</style>\n",
       "<table border=\"1\" class=\"dataframe\">\n",
       "  <thead>\n",
       "    <tr style=\"text-align: right;\">\n",
       "      <th></th>\n",
       "      <th>logerror</th>\n",
       "      <th>yhat_lm</th>\n",
       "    </tr>\n",
       "  </thead>\n",
       "  <tbody>\n",
       "    <tr>\n",
       "      <th>30392</th>\n",
       "      <td>0.007675</td>\n",
       "      <td>0.025218</td>\n",
       "    </tr>\n",
       "    <tr>\n",
       "      <th>23301</th>\n",
       "      <td>-0.445277</td>\n",
       "      <td>0.012660</td>\n",
       "    </tr>\n",
       "    <tr>\n",
       "      <th>45942</th>\n",
       "      <td>-0.012347</td>\n",
       "      <td>0.018832</td>\n",
       "    </tr>\n",
       "    <tr>\n",
       "      <th>43613</th>\n",
       "      <td>0.080601</td>\n",
       "      <td>-0.000407</td>\n",
       "    </tr>\n",
       "    <tr>\n",
       "      <th>64970</th>\n",
       "      <td>0.046406</td>\n",
       "      <td>0.009543</td>\n",
       "    </tr>\n",
       "  </tbody>\n",
       "</table>\n",
       "</div>"
      ],
      "text/plain": [
       "       logerror   yhat_lm\n",
       "30392  0.007675  0.025218\n",
       "23301 -0.445277  0.012660\n",
       "45942 -0.012347  0.018832\n",
       "43613  0.080601 -0.000407\n",
       "64970  0.046406  0.009543"
      ]
     },
     "execution_count": 47,
     "metadata": {},
     "output_type": "execute_result"
    }
   ],
   "source": [
    "## Here we're going to add a column that will make log error predictions using the linear model\n",
    "y_train['yhat_lm'] = lm.predict(lm_X_rfe_train)\n",
    "\n",
    "y_train.head()"
   ]
  },
  {
   "cell_type": "code",
   "execution_count": 48,
   "metadata": {},
   "outputs": [
    {
     "data": {
      "text/plain": [
       "0.1658503274530177"
      ]
     },
     "execution_count": 48,
     "metadata": {},
     "output_type": "execute_result"
    }
   ],
   "source": [
    "## Checking the mean squared error of the model\n",
    "RMSE_lm = np.sqrt(mean_squared_error(y_train.logerror, y_train.yhat_lm))\n",
    "RMSE_lm"
   ]
  },
  {
   "cell_type": "code",
   "execution_count": 49,
   "metadata": {},
   "outputs": [
    {
     "data": {
      "text/plain": [
       "0.002315901585166591"
      ]
     },
     "execution_count": 49,
     "metadata": {},
     "output_type": "execute_result"
    }
   ],
   "source": [
    "r2_lm = lm.score(lm_X_rfe_train, y_train.logerror)\n",
    "r2_lm"
   ]
  },
  {
   "cell_type": "markdown",
   "metadata": {},
   "source": [
    "# Validate Linear Regression Model"
   ]
  },
  {
   "cell_type": "code",
   "execution_count": 50,
   "metadata": {},
   "outputs": [
    {
     "data": {
      "text/plain": [
       "LinearRegression()"
      ]
     },
     "execution_count": 50,
     "metadata": {},
     "output_type": "execute_result"
    }
   ],
   "source": [
    "lm.fit(lm_X_rfe_val, y_validate)"
   ]
  },
  {
   "cell_type": "code",
   "execution_count": 51,
   "metadata": {},
   "outputs": [
    {
     "name": "stdout",
     "output_type": "stream",
     "text": [
      "Linear Model: LinearRegression()\n",
      "intercept:  [0.00289995]\n",
      "features:  Index(['bathroomcnt', 'calculatedbathnbr', 'calculatedfinishedsquarefeet',\n",
      "       'lotsizesquarefeet', 'taxvaluedollarcnt'],\n",
      "      dtype='object')\n",
      "coefficients:  [[-0.1913089   0.1840531   0.15768229  0.08749797 -0.27700793]]\n"
     ]
    }
   ],
   "source": [
    "print(\"Linear Model:\", lm)\n",
    "\n",
    "print(\"intercept: \", lm.intercept_)\n",
    "\n",
    "print(\"features: \", rfe_features)\n",
    "\n",
    "print(\"coefficients: \", lm.coef_)"
   ]
  },
  {
   "cell_type": "code",
   "execution_count": 52,
   "metadata": {},
   "outputs": [
    {
     "data": {
      "text/html": [
       "<div>\n",
       "<style scoped>\n",
       "    .dataframe tbody tr th:only-of-type {\n",
       "        vertical-align: middle;\n",
       "    }\n",
       "\n",
       "    .dataframe tbody tr th {\n",
       "        vertical-align: top;\n",
       "    }\n",
       "\n",
       "    .dataframe thead th {\n",
       "        text-align: right;\n",
       "    }\n",
       "</style>\n",
       "<table border=\"1\" class=\"dataframe\">\n",
       "  <thead>\n",
       "    <tr style=\"text-align: right;\">\n",
       "      <th></th>\n",
       "      <th>logerror</th>\n",
       "      <th>yhat_lm</th>\n",
       "    </tr>\n",
       "  </thead>\n",
       "  <tbody>\n",
       "    <tr>\n",
       "      <th>69236</th>\n",
       "      <td>-0.014323</td>\n",
       "      <td>0.011961</td>\n",
       "    </tr>\n",
       "    <tr>\n",
       "      <th>69223</th>\n",
       "      <td>0.015813</td>\n",
       "      <td>0.003200</td>\n",
       "    </tr>\n",
       "    <tr>\n",
       "      <th>1890</th>\n",
       "      <td>-0.093132</td>\n",
       "      <td>0.016664</td>\n",
       "    </tr>\n",
       "    <tr>\n",
       "      <th>35365</th>\n",
       "      <td>-0.032451</td>\n",
       "      <td>0.015544</td>\n",
       "    </tr>\n",
       "    <tr>\n",
       "      <th>11597</th>\n",
       "      <td>-0.018133</td>\n",
       "      <td>0.014729</td>\n",
       "    </tr>\n",
       "  </tbody>\n",
       "</table>\n",
       "</div>"
      ],
      "text/plain": [
       "       logerror  yhat_lm\n",
       "69236 -0.014323 0.011961\n",
       "69223  0.015813 0.003200\n",
       "1890  -0.093132 0.016664\n",
       "35365 -0.032451 0.015544\n",
       "11597 -0.018133 0.014729"
      ]
     },
     "execution_count": 52,
     "metadata": {},
     "output_type": "execute_result"
    }
   ],
   "source": [
    "## Here we're going to add a column that will make log error predictions on the validate dataset using the linear model\n",
    "y_validate['yhat_lm'] = lm.predict(lm_X_rfe_val)\n",
    "\n",
    "y_validate.head()"
   ]
  },
  {
   "cell_type": "code",
   "execution_count": 53,
   "metadata": {},
   "outputs": [
    {
     "name": "stdout",
     "output_type": "stream",
     "text": [
      "0.16325414153254536\n",
      "0.0\n"
     ]
    },
    {
     "data": {
      "text/plain": [
       "<matplotlib.collections.PathCollection at 0x7fee12d26c10>"
      ]
     },
     "execution_count": 53,
     "metadata": {},
     "output_type": "execute_result"
    },
    {
     "data": {
      "image/png": "[encoded data removed]",
      "text/plain": [
       "<Figure size 432x288 with 1 Axes>"
      ]
     },
     "metadata": {
      "needs_background": "light"
     },
     "output_type": "display_data"
    }
   ],
   "source": [
    "y_validate['yhat_baseline'] = df['logerror'].mean()\n",
    "\n",
    "# compute the RMSE\n",
    "RMSE_bl = np.sqrt(mean_squared_error(y_validate.logerror, y_validate.yhat_baseline))\n",
    "print(RMSE_bl)\n",
    "\n",
    "# no need to compute R-2 because it will be a 0! But we will demonstrate here:\n",
    "evs = explained_variance_score(y_validate.logerror, y_validate.yhat_baseline)\n",
    "print(evs)\n",
    "plt.scatter(y_validate.logerror, y_validate.yhat_lm, label='Linear Regression Model Predictions', marker='o')\n",
    "plt.scatter(y_validate.logerror, y_validate.yhat_baseline, label='Baseline Predicitions', marker='o')"
   ]
  },
  {
   "cell_type": "code",
   "execution_count": 54,
   "metadata": {},
   "outputs": [
    {
     "data": {
      "image/png": "[encoded data removed]",
      "text/plain": [
       "<Figure size 1152x576 with 1 Axes>"
      ]
     },
     "metadata": {
      "needs_background": "light"
     },
     "output_type": "display_data"
    }
   ],
   "source": [
    "# plot to visualize actual vs predicted. \n",
    "plt.figure(figsize=(16,8))\n",
    "plt.hist(y_validate.logerror, color='blue', alpha=.5, label=\"Actual Property Value\")\n",
    "plt.hist(y_validate.yhat_lm, color='green', alpha=.5, label=\"Linear Regression Model\")\n",
    "plt.xlabel(\"Log Error\")\n",
    "plt.ylabel(\"Observations\")\n",
    "plt.title(\"Comparing the Distribution of Actual Property Value Against Our Predicted Propery Value\")\n",
    "plt.legend()\n",
    "plt.show()"
   ]
  },
  {
   "cell_type": "markdown",
   "metadata": {},
   "source": [
    "## Takeaways\n",
    "- The linear regression model isn't a bad starting point and stayed relatively close to the log error\n",
    "- Somewhat better than baseline but we can definitely do better"
   ]
  },
  {
   "cell_type": "markdown",
   "metadata": {},
   "source": [
    "# 4th Degree Polynomial Model"
   ]
  },
  {
   "cell_type": "code",
   "execution_count": 55,
   "metadata": {},
   "outputs": [],
   "source": [
    "from sklearn.preprocessing import PolynomialFeatures\n",
    "# fitting the train, validate, and test dataset\n",
    "poly_X_rfe_train = rfe.fit_transform(X_train, y_train)\n",
    "poly_X_rfe_val = rfe.transform(X_validate)\n",
    "poly_X_rfe_test = rfe.transform(X_test)\n",
    "\n",
    "# selecting the degree we would like to polynomaial to assess\n",
    "pf_4 = PolynomialFeatures(degree=4)\n",
    "\n",
    "# fit and transform X_train_scaled\n",
    "X_train_degree4 = pf_4.fit_transform(poly_X_rfe_train)\n",
    "\n",
    "# transform X_validate_scaled & X_test_scaled\n",
    "X_validate_degree4 = pf_4.transform(poly_X_rfe_val)\n",
    "X_test_degree4 = pf_4.transform(poly_X_rfe_test)"
   ]
  },
  {
   "cell_type": "code",
   "execution_count": 56,
   "metadata": {},
   "outputs": [
    {
     "name": "stdout",
     "output_type": "stream",
     "text": [
      "RMSE for Polynomial Model, degrees=4\n",
      "Training/In-Sample:  0.000000000000000000000000000000158 \n",
      "Validation/Out-of-Sample:  0.000000000000000574963628354314781\n"
     ]
    }
   ],
   "source": [
    "# create the model object\n",
    "lm2 = LinearRegression(normalize=True)\n",
    "\n",
    "# fit the model to our training data. We must specify the column in y_train, \n",
    "# since we have converted it to a dataframe from a series! \n",
    "lm2.fit(X_train_degree4, y_train.logerror)\n",
    "\n",
    "# predict train\n",
    "y_train['yhat_poly_1'] = lm2.predict(X_train_degree4)\n",
    "\n",
    "# evaluate: rmse\n",
    "rmse_train = mean_squared_error(y_train.logerror, y_train.yhat_poly_1)**1/2\n",
    "\n",
    "# predict validate\n",
    "y_validate['yhat_poly_1'] = lm2.predict(X_validate_degree4)\n",
    "\n",
    "# evaluate: rmse\n",
    "rmse_validate = mean_squared_error(y_validate.logerror, y_validate.yhat_poly_1)**1/2\n",
    "\n",
    "print(\"RMSE for Polynomial Model, degrees=4\\nTraining/In-Sample: \", '{:.33f}'.format(rmse_train), \n",
    "      \"\\nValidation/Out-of-Sample: \", '{:.33f}'.format(rmse_validate))"
   ]
  },
  {
   "cell_type": "markdown",
   "metadata": {},
   "source": [
    "# Conclusions\n",
    "- So far the model is looking pretty decent but I feel like we can still do better so I'm going to continue working on improving this model by adjusting the degrees\n",
    "\n",
    "- This is a very good starting point considering how low the mean square error is from one data set to another\n",
    "\n",
    "- With the jump from train to validate being noticable, I'm going to have to tweak the degrees to see if that improves anything"
   ]
  },
  {
   "cell_type": "markdown",
   "metadata": {},
   "source": [
    "# 3rd Degree Polynomial Model"
   ]
  },
  {
   "cell_type": "code",
   "execution_count": 57,
   "metadata": {},
   "outputs": [],
   "source": [
    "# make the polynomial features to get a new set of features\n",
    "pf_3 = PolynomialFeatures(degree=3)\n",
    "\n",
    "# fit and transform X_train_scaled\n",
    "X_train_degree3 = pf_3.fit_transform(poly_X_rfe_train)\n",
    "\n",
    "# transform X_validate_scaled & X_test_scaled\n",
    "X_validate_degree3 = pf_3.transform(poly_X_rfe_val)\n",
    "X_test_degree3 = pf_3.transform(poly_X_rfe_test)"
   ]
  },
  {
   "cell_type": "code",
   "execution_count": 58,
   "metadata": {},
   "outputs": [
    {
     "name": "stdout",
     "output_type": "stream",
     "text": [
      "RMSE for Polynomial Model, degrees=3\n",
      "Training/In-Sample:  0.000000000000000000000000000000861 \n",
      "Validation/Out-of-Sample:  0.000000000000024306083085182712969\n"
     ]
    }
   ],
   "source": [
    "# create the model object\n",
    "lm2 = LinearRegression(normalize=True)\n",
    "\n",
    "# fit the model to our training data. We must specify the column in y_train, \n",
    "# since we have converted it to a dataframe from a series! \n",
    "lm2.fit(X_train_degree3, y_train.logerror)\n",
    "\n",
    "# predict train\n",
    "y_train['yhat_poly_2'] = lm2.predict(X_train_degree3)\n",
    "\n",
    "# evaluate: rmse\n",
    "rmse_train = mean_squared_error(y_train.logerror, y_train.yhat_poly_2)**1/2\n",
    "\n",
    "# predict validate\n",
    "y_validate['yhat_poly_2'] = lm2.predict(X_validate_degree3)\n",
    "\n",
    "# evaluate: rmse\n",
    "rmse_validate = mean_squared_error(y_validate.logerror, y_validate.yhat_poly_2)**1/2\n",
    "\n",
    "print(\"RMSE for Polynomial Model, degrees=3\\nTraining/In-Sample: \", '{:.33f}'.format(rmse_train), \n",
    "      \"\\nValidation/Out-of-Sample: \", '{:.33f}'.format(rmse_validate))"
   ]
  },
  {
   "cell_type": "markdown",
   "metadata": {},
   "source": [
    "# Conclusions\n",
    "- This was a slight improvement from the last model so maybe going down one more degree will assist in verifying the best model to use on this data set for log error\n",
    "\n",
    "- I'm definitely satisfied with the results and hope that 2 degrees will do the trick"
   ]
  },
  {
   "cell_type": "markdown",
   "metadata": {},
   "source": [
    "# 2nd Degree Polynomial Model"
   ]
  },
  {
   "cell_type": "code",
   "execution_count": 59,
   "metadata": {},
   "outputs": [],
   "source": [
    "# make the polynomial features to get a new set of features\n",
    "pf_2 = PolynomialFeatures(degree=2)\n",
    "\n",
    "# fit and transform X_train_scaled\n",
    "X_train_degree2 = pf_2.fit_transform(poly_X_rfe_train)\n",
    "\n",
    "# transform X_validate_scaled & X_test_scaled\n",
    "X_validate_degree2 = pf_2.transform(poly_X_rfe_val)\n",
    "X_test_degree2 = pf_2.transform(poly_X_rfe_test)"
   ]
  },
  {
   "cell_type": "code",
   "execution_count": 60,
   "metadata": {},
   "outputs": [
    {
     "name": "stdout",
     "output_type": "stream",
     "text": [
      "RMSE for Polynomial Model, degrees=2\n",
      "Training/In-Sample:  0.000000000000000000000000000000132 \n",
      "Validation/Out-of-Sample:  0.000000000000000000000000000000123\n"
     ]
    }
   ],
   "source": [
    "# create the model object\n",
    "lm2 = LinearRegression(normalize=True)\n",
    "\n",
    "# fit the model to our training data. We must specify the column in y_train, \n",
    "# since we have converted it to a dataframe from a series! \n",
    "lm2.fit(X_train_degree2, y_train.logerror)\n",
    "\n",
    "# predict train\n",
    "y_train['yhat_poly_3'] = lm2.predict(X_train_degree2)\n",
    "\n",
    "# evaluate: rmse\n",
    "rmse_train = mean_squared_error(y_train.logerror, y_train.yhat_poly_3)**1/2\n",
    "\n",
    "# predict validate\n",
    "y_validate['yhat_poly_3'] = lm2.predict(X_validate_degree2)\n",
    "\n",
    "# evaluate: rmse\n",
    "rmse_validate = mean_squared_error(y_validate.logerror, y_validate.yhat_poly_3)**1/2\n",
    "\n",
    "print(\"RMSE for Polynomial Model, degrees=2\\nTraining/In-Sample: \", '{:.33f}'.format(rmse_train), \n",
    "      \"\\nValidation/Out-of-Sample: \", '{:.33f}'.format(rmse_validate))"
   ]
  },
  {
   "cell_type": "markdown",
   "metadata": {},
   "source": [
    "# Conclusions\n",
    "- It definitely looks like we have a winner for MVP, not only did the rmse improve, but it was even slightly better than on validate than it was on train\n",
    "\n",
    "- This is going to be my MVP"
   ]
  },
  {
   "cell_type": "code",
   "execution_count": 61,
   "metadata": {},
   "outputs": [
    {
     "data": {
      "text/html": [
       "<div>\n",
       "<style scoped>\n",
       "    .dataframe tbody tr th:only-of-type {\n",
       "        vertical-align: middle;\n",
       "    }\n",
       "\n",
       "    .dataframe tbody tr th {\n",
       "        vertical-align: top;\n",
       "    }\n",
       "\n",
       "    .dataframe thead th {\n",
       "        text-align: right;\n",
       "    }\n",
       "</style>\n",
       "<table border=\"1\" class=\"dataframe\">\n",
       "  <thead>\n",
       "    <tr style=\"text-align: right;\">\n",
       "      <th></th>\n",
       "      <th>logerror</th>\n",
       "      <th>yhat_lm</th>\n",
       "      <th>yhat_baseline</th>\n",
       "      <th>yhat_poly_1</th>\n",
       "      <th>yhat_poly_2</th>\n",
       "      <th>yhat_poly_3</th>\n",
       "    </tr>\n",
       "  </thead>\n",
       "  <tbody>\n",
       "    <tr>\n",
       "      <th>69236</th>\n",
       "      <td>-0.014323</td>\n",
       "      <td>0.011961</td>\n",
       "      <td>0.016213</td>\n",
       "      <td>-0.014323</td>\n",
       "      <td>-0.014323</td>\n",
       "      <td>-0.014323</td>\n",
       "    </tr>\n",
       "    <tr>\n",
       "      <th>69223</th>\n",
       "      <td>0.015813</td>\n",
       "      <td>0.003200</td>\n",
       "      <td>0.016213</td>\n",
       "      <td>0.015813</td>\n",
       "      <td>0.015813</td>\n",
       "      <td>0.015813</td>\n",
       "    </tr>\n",
       "    <tr>\n",
       "      <th>1890</th>\n",
       "      <td>-0.093132</td>\n",
       "      <td>0.016664</td>\n",
       "      <td>0.016213</td>\n",
       "      <td>-0.093132</td>\n",
       "      <td>-0.093132</td>\n",
       "      <td>-0.093132</td>\n",
       "    </tr>\n",
       "    <tr>\n",
       "      <th>35365</th>\n",
       "      <td>-0.032451</td>\n",
       "      <td>0.015544</td>\n",
       "      <td>0.016213</td>\n",
       "      <td>-0.032451</td>\n",
       "      <td>-0.032451</td>\n",
       "      <td>-0.032451</td>\n",
       "    </tr>\n",
       "    <tr>\n",
       "      <th>11597</th>\n",
       "      <td>-0.018133</td>\n",
       "      <td>0.014729</td>\n",
       "      <td>0.016213</td>\n",
       "      <td>-0.018133</td>\n",
       "      <td>-0.018133</td>\n",
       "      <td>-0.018133</td>\n",
       "    </tr>\n",
       "  </tbody>\n",
       "</table>\n",
       "</div>"
      ],
      "text/plain": [
       "       logerror  yhat_lm  yhat_baseline  yhat_poly_1  yhat_poly_2  yhat_poly_3\n",
       "69236 -0.014323 0.011961       0.016213    -0.014323    -0.014323    -0.014323\n",
       "69223  0.015813 0.003200       0.016213     0.015813     0.015813     0.015813\n",
       "1890  -0.093132 0.016664       0.016213    -0.093132    -0.093132    -0.093132\n",
       "35365 -0.032451 0.015544       0.016213    -0.032451    -0.032451    -0.032451\n",
       "11597 -0.018133 0.014729       0.016213    -0.018133    -0.018133    -0.018133"
      ]
     },
     "execution_count": 61,
     "metadata": {},
     "output_type": "execute_result"
    }
   ],
   "source": [
    "y_validate.head()"
   ]
  },
  {
   "cell_type": "code",
   "execution_count": 62,
   "metadata": {},
   "outputs": [
    {
     "data": {
      "text/plain": [
       "<matplotlib.collections.PathCollection at 0x7fee1087f850>"
      ]
     },
     "execution_count": 62,
     "metadata": {},
     "output_type": "execute_result"
    },
    {
     "data": {
      "image/png": "[encoded data removed]",
      "text/plain": [
       "<Figure size 648x648 with 1 Axes>"
      ]
     },
     "metadata": {
      "needs_background": "light"
     },
     "output_type": "display_data"
    }
   ],
   "source": [
    "plt.figure(figsize=(9, 9))\n",
    "plt.scatter(y_validate.logerror, y_validate.yhat_poly_1, label='4 Degree Polynomial Regression Model Predictions', marker='o')\n",
    "plt.scatter(y_validate.logerror, y_validate.yhat_poly_2, label='3 Degree Polynomial Regression Model Predictions', marker='o')\n",
    "plt.scatter(y_validate.logerror, y_validate.yhat_poly_3, label='2 Degree Polynomial Regression Model Predictions', marker='o')\n",
    "plt.scatter(y_validate.logerror, y_validate.yhat_lm, label='Linear Regression Model Predictions', marker='o')\n",
    "plt.scatter(y_validate.logerror, y_validate.yhat_baseline, label='Baseline Predicitions', marker='o')"
   ]
  },
  {
   "cell_type": "markdown",
   "metadata": {},
   "source": [
    "# Takeaways\n",
    "- Based on this chart above, I was able to deduct that my linear regression model was pretty close but it looks like all the polynomial models are almost perfectly along the 45 degree line!\n",
    "\n",
    "- Now that we have a solid model, we can graph it against the actual data to see how good it did."
   ]
  },
  {
   "cell_type": "code",
   "execution_count": 63,
   "metadata": {},
   "outputs": [
    {
     "data": {
      "image/png": "[encoded data removed]",
      "text/plain": [
       "<Figure size 1152x576 with 1 Axes>"
      ]
     },
     "metadata": {
      "needs_background": "light"
     },
     "output_type": "display_data"
    }
   ],
   "source": [
    "# plot to visualize actual vs predicted. \n",
    "plt.figure(figsize=(16,8))\n",
    "plt.hist(y_validate.logerror, color='blue', alpha=.5, label=\"Actual Property Value\")\n",
    "plt.hist(y_validate.yhat_poly_3, color='green', alpha=.5, label=\"2nd Degree Polynomial\")\n",
    "plt.xlabel(\"Log Error\")\n",
    "plt.ylabel(\"Observations\")\n",
    "plt.title(\"Comparing the Distribution of Actual Property Value Against Our Predicted Propery Value\")\n",
    "plt.legend()\n",
    "plt.show()"
   ]
  },
  {
   "cell_type": "markdown",
   "metadata": {},
   "source": [
    "# Conclusion\n",
    "- We most definitely have an MVP at this point, it almost perfectly predicted all the actual points based on the features I ran through polynomial this time.\n"
   ]
  },
  {
   "cell_type": "markdown",
   "metadata": {},
   "source": [
    "# MVP"
   ]
  },
  {
   "cell_type": "code",
   "execution_count": 64,
   "metadata": {},
   "outputs": [
    {
     "name": "stdout",
     "output_type": "stream",
     "text": [
      "RMSE for Polynomial Model, degrees=2\n",
      "Validation/Out-Of-Sample:  0.000000000000000000000000000000123 \n",
      "Test/Out-of-Sample:  0.000000000000000000000000000000173\n"
     ]
    }
   ],
   "source": [
    "# predict validate\n",
    "y_test['yhat_poly'] = lm2.predict(X_test_degree2)\n",
    "\n",
    "# evaluate: rmse\n",
    "rmse_test = mean_squared_error(y_test.logerror, y_test.yhat_poly)**1/2\n",
    "\n",
    "print(\"RMSE for Polynomial Model, degrees=2\\nValidation/Out-Of-Sample: \", '{:.33f}'.format(rmse_validate), \n",
    "      \"\\nTest/Out-of-Sample: \", '{:.33f}'.format(rmse_test))"
   ]
  },
  {
   "cell_type": "code",
   "execution_count": 65,
   "metadata": {},
   "outputs": [
    {
     "data": {
      "text/html": [
       "<div>\n",
       "<style scoped>\n",
       "    .dataframe tbody tr th:only-of-type {\n",
       "        vertical-align: middle;\n",
       "    }\n",
       "\n",
       "    .dataframe tbody tr th {\n",
       "        vertical-align: top;\n",
       "    }\n",
       "\n",
       "    .dataframe thead th {\n",
       "        text-align: right;\n",
       "    }\n",
       "</style>\n",
       "<table border=\"1\" class=\"dataframe\">\n",
       "  <thead>\n",
       "    <tr style=\"text-align: right;\">\n",
       "      <th></th>\n",
       "      <th>logerror</th>\n",
       "      <th>yhat_poly</th>\n",
       "    </tr>\n",
       "  </thead>\n",
       "  <tbody>\n",
       "    <tr>\n",
       "      <th>28233</th>\n",
       "      <td>-0.055510</td>\n",
       "      <td>-0.055510</td>\n",
       "    </tr>\n",
       "    <tr>\n",
       "      <th>48250</th>\n",
       "      <td>0.002652</td>\n",
       "      <td>0.002652</td>\n",
       "    </tr>\n",
       "    <tr>\n",
       "      <th>24164</th>\n",
       "      <td>0.027435</td>\n",
       "      <td>0.027435</td>\n",
       "    </tr>\n",
       "    <tr>\n",
       "      <th>48666</th>\n",
       "      <td>-0.000122</td>\n",
       "      <td>-0.000122</td>\n",
       "    </tr>\n",
       "    <tr>\n",
       "      <th>42343</th>\n",
       "      <td>0.178914</td>\n",
       "      <td>0.178914</td>\n",
       "    </tr>\n",
       "  </tbody>\n",
       "</table>\n",
       "</div>"
      ],
      "text/plain": [
       "       logerror  yhat_poly\n",
       "28233 -0.055510  -0.055510\n",
       "48250  0.002652   0.002652\n",
       "24164  0.027435   0.027435\n",
       "48666 -0.000122  -0.000122\n",
       "42343  0.178914   0.178914"
      ]
     },
     "execution_count": 65,
     "metadata": {},
     "output_type": "execute_result"
    }
   ],
   "source": [
    "y_test.head()"
   ]
  },
  {
   "cell_type": "code",
   "execution_count": 66,
   "metadata": {},
   "outputs": [
    {
     "data": {
      "text/plain": [
       "<matplotlib.collections.PathCollection at 0x7fee10a73b50>"
      ]
     },
     "execution_count": 66,
     "metadata": {},
     "output_type": "execute_result"
    },
    {
     "data": {
      "image/png": "[encoded data removed]",
      "text/plain": [
       "<Figure size 432x288 with 1 Axes>"
      ]
     },
     "metadata": {
      "needs_background": "light"
     },
     "output_type": "display_data"
    }
   ],
   "source": [
    "plt.scatter(y_test.logerror, y_test.yhat_poly, label='Polynomial Regression Model Predictions', marker='o')\n",
    "plt.scatter(y_validate.logerror, y_validate.yhat_baseline, label='Baseline Predicitions', marker='o')"
   ]
  },
  {
   "cell_type": "code",
   "execution_count": 67,
   "metadata": {},
   "outputs": [
    {
     "data": {
      "image/png": "[encoded data removed]",
      "text/plain": [
       "<Figure size 1152x576 with 1 Axes>"
      ]
     },
     "metadata": {
      "needs_background": "light"
     },
     "output_type": "display_data"
    }
   ],
   "source": [
    "# plot to visualize actual vs predicted. \n",
    "plt.figure(figsize=(16,8))\n",
    "plt.hist(y_test.logerror, color='blue', alpha=.5, label=\"Actual Property Value\")\n",
    "plt.hist(y_test.yhat_poly, color='green', alpha=.5, label=\"2nd Degree Polynomial\")\n",
    "plt.xlabel(\"Log Error\")\n",
    "plt.ylabel(\"Observations\")\n",
    "plt.title(\"Comparing the Distribution of Actual Property Value Against Our Predicted Propery Value\")\n",
    "plt.legend()\n",
    "plt.show()"
   ]
  },
  {
   "cell_type": "code",
   "execution_count": 68,
   "metadata": {},
   "outputs": [
    {
     "data": {
      "text/html": [
       "<div>\n",
       "<style scoped>\n",
       "    .dataframe tbody tr th:only-of-type {\n",
       "        vertical-align: middle;\n",
       "    }\n",
       "\n",
       "    .dataframe tbody tr th {\n",
       "        vertical-align: top;\n",
       "    }\n",
       "\n",
       "    .dataframe thead th {\n",
       "        text-align: right;\n",
       "    }\n",
       "</style>\n",
       "<table border=\"1\" class=\"dataframe\">\n",
       "  <thead>\n",
       "    <tr style=\"text-align: right;\">\n",
       "      <th></th>\n",
       "      <th>logerror</th>\n",
       "      <th>yhat_poly</th>\n",
       "      <th>perc_error</th>\n",
       "    </tr>\n",
       "  </thead>\n",
       "  <tbody>\n",
       "    <tr>\n",
       "      <th>28233</th>\n",
       "      <td>-0.055510</td>\n",
       "      <td>-0.055510</td>\n",
       "      <td>0.000000</td>\n",
       "    </tr>\n",
       "    <tr>\n",
       "      <th>48250</th>\n",
       "      <td>0.002652</td>\n",
       "      <td>0.002652</td>\n",
       "      <td>-0.000000</td>\n",
       "    </tr>\n",
       "    <tr>\n",
       "      <th>24164</th>\n",
       "      <td>0.027435</td>\n",
       "      <td>0.027435</td>\n",
       "      <td>-0.000000</td>\n",
       "    </tr>\n",
       "    <tr>\n",
       "      <th>48666</th>\n",
       "      <td>-0.000122</td>\n",
       "      <td>-0.000122</td>\n",
       "      <td>0.000000</td>\n",
       "    </tr>\n",
       "    <tr>\n",
       "      <th>42343</th>\n",
       "      <td>0.178914</td>\n",
       "      <td>0.178914</td>\n",
       "      <td>0.000000</td>\n",
       "    </tr>\n",
       "    <tr>\n",
       "      <th>...</th>\n",
       "      <td>...</td>\n",
       "      <td>...</td>\n",
       "      <td>...</td>\n",
       "    </tr>\n",
       "    <tr>\n",
       "      <th>15070</th>\n",
       "      <td>0.011109</td>\n",
       "      <td>0.011109</td>\n",
       "      <td>-0.000000</td>\n",
       "    </tr>\n",
       "    <tr>\n",
       "      <th>54392</th>\n",
       "      <td>0.103840</td>\n",
       "      <td>0.103840</td>\n",
       "      <td>0.000000</td>\n",
       "    </tr>\n",
       "    <tr>\n",
       "      <th>44488</th>\n",
       "      <td>-0.044679</td>\n",
       "      <td>-0.044679</td>\n",
       "      <td>0.000000</td>\n",
       "    </tr>\n",
       "    <tr>\n",
       "      <th>57192</th>\n",
       "      <td>0.018937</td>\n",
       "      <td>0.018937</td>\n",
       "      <td>0.000000</td>\n",
       "    </tr>\n",
       "    <tr>\n",
       "      <th>65933</th>\n",
       "      <td>0.030918</td>\n",
       "      <td>0.030918</td>\n",
       "      <td>-0.000000</td>\n",
       "    </tr>\n",
       "  </tbody>\n",
       "</table>\n",
       "<p>22662 rows × 3 columns</p>\n",
       "</div>"
      ],
      "text/plain": [
       "       logerror  yhat_poly  perc_error\n",
       "28233 -0.055510  -0.055510    0.000000\n",
       "48250  0.002652   0.002652   -0.000000\n",
       "24164  0.027435   0.027435   -0.000000\n",
       "48666 -0.000122  -0.000122    0.000000\n",
       "42343  0.178914   0.178914    0.000000\n",
       "...         ...        ...         ...\n",
       "15070  0.011109   0.011109   -0.000000\n",
       "54392  0.103840   0.103840    0.000000\n",
       "44488 -0.044679  -0.044679    0.000000\n",
       "57192  0.018937   0.018937    0.000000\n",
       "65933  0.030918   0.030918   -0.000000\n",
       "\n",
       "[22662 rows x 3 columns]"
      ]
     },
     "execution_count": 68,
     "metadata": {},
     "output_type": "execute_result"
    }
   ],
   "source": [
    "y_test['perc_error'] = ((y_test.logerror - y_test.yhat_poly) / y_test.logerror) * 100\n",
    "y_test"
   ]
  },
  {
   "cell_type": "code",
   "execution_count": 69,
   "metadata": {},
   "outputs": [
    {
     "name": "stdout",
     "output_type": "stream",
     "text": [
      "The MVP Model was, -0.000000009240225267614809680615114 % off actual\n"
     ]
    }
   ],
   "source": [
    "print('The MVP Model was, ''{:.33f}'.format(y_test.perc_error.sum()), '% off actual')"
   ]
  },
  {
   "cell_type": "markdown",
   "metadata": {},
   "source": [
    "# Final Thoughts\n",
    "- The MVP not only met expectations on the test data, but it exceeded it!\n",
    "- It was so accurate that it was only a fraction off of the actual points, which means we have a very solid model that we can use on future data\n",
    "- Moving forward, we can assess the features that produced this model to get a better understanding of what truly drives home value."
   ]
  },
  {
   "cell_type": "code",
   "execution_count": null,
   "metadata": {},
   "outputs": [],
   "source": []
  }
 ],
 "metadata": {
  "kernelspec": {
   "display_name": "Python 3",
   "language": "python",
   "name": "python3"
  },
  "language_info": {
   "codemirror_mode": {
    "name": "ipython",
    "version": 3
   },
   "file_extension": ".py",
   "mimetype": "text/x-python",
   "name": "python",
   "nbconvert_exporter": "python",
   "pygments_lexer": "ipython3",
   "version": "3.8.3"
  }
 },
 "nbformat": 4,
 "nbformat_minor": 4
}
