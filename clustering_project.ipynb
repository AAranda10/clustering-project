{
 "cells": [
  {
   "cell_type": "code",
   "execution_count": 1,
   "metadata": {},
   "outputs": [
    {
     "name": "stdout",
     "output_type": "stream",
     "text": [
      "acquire.py functions loaded successfully\n",
      "prep.py functions loaded successfully\n",
      "wrangle.py functions loaded successfully\n"
     ]
    }
   ],
   "source": [
    "import acquire\n",
    "import prep\n",
    "import warnings\n",
    "warnings.filterwarnings(\"ignore\")\n",
    "\n",
    "import pandas as pd\n",
    "import numpy as np\n",
    "from sklearn.model_selection import train_test_split\n",
    "\n",
    "import scipy.stats as stats\n",
    "\n",
    "import matplotlib.pyplot as plt\n",
    "from matplotlib import cm\n",
    "import seaborn as sns\n",
    "import wrangle\n",
    "from sklearn.preprocessing import MinMaxScaler, RobustScaler, StandardScaler\n",
    "from sklearn.metrics import mean_squared_error, explained_variance_score\n",
    "\n",
    "pd.set_option('display.max_columns', None)\n",
    "pd.set_option('float_format', '{:f}'.format)"
   ]
  },
  {
   "cell_type": "markdown",
   "metadata": {},
   "source": [
    "After creating the Acquire and Prep files, I imported them to assess the data further"
   ]
  },
  {
   "cell_type": "code",
   "execution_count": 2,
   "metadata": {},
   "outputs": [
    {
     "data": {
      "text/html": [
       "<div>\n",
       "<style scoped>\n",
       "    .dataframe tbody tr th:only-of-type {\n",
       "        vertical-align: middle;\n",
       "    }\n",
       "\n",
       "    .dataframe tbody tr th {\n",
       "        vertical-align: top;\n",
       "    }\n",
       "\n",
       "    .dataframe thead th {\n",
       "        text-align: right;\n",
       "    }\n",
       "</style>\n",
       "<table border=\"1\" class=\"dataframe\">\n",
       "  <thead>\n",
       "    <tr style=\"text-align: right;\">\n",
       "      <th></th>\n",
       "      <th>parcelid</th>\n",
       "      <th>propertylandusetypeid</th>\n",
       "      <th>bathroomcnt</th>\n",
       "      <th>bedroomcnt</th>\n",
       "      <th>calculatedbathnbr</th>\n",
       "      <th>calculatedfinishedsquarefeet</th>\n",
       "      <th>finishedsquarefeet12</th>\n",
       "      <th>fips</th>\n",
       "      <th>fullbathcnt</th>\n",
       "      <th>latitude</th>\n",
       "      <th>longitude</th>\n",
       "      <th>lotsizesquarefeet</th>\n",
       "      <th>propertycountylandusecode</th>\n",
       "      <th>rawcensustractandblock</th>\n",
       "      <th>regionidcity</th>\n",
       "      <th>regionidcounty</th>\n",
       "      <th>regionidzip</th>\n",
       "      <th>roomcnt</th>\n",
       "      <th>yearbuilt</th>\n",
       "      <th>structuretaxvaluedollarcnt</th>\n",
       "      <th>taxvaluedollarcnt</th>\n",
       "      <th>assessmentyear</th>\n",
       "      <th>landtaxvaluedollarcnt</th>\n",
       "      <th>taxamount</th>\n",
       "      <th>censustractandblock</th>\n",
       "      <th>logerror</th>\n",
       "      <th>tdate</th>\n",
       "      <th>propertylandusedesc</th>\n",
       "      <th>is_la_county</th>\n",
       "      <th>is_orange_county</th>\n",
       "      <th>is_ventura_county</th>\n",
       "    </tr>\n",
       "  </thead>\n",
       "  <tbody>\n",
       "    <tr>\n",
       "      <th>0</th>\n",
       "      <td>14297519</td>\n",
       "      <td>261.000000</td>\n",
       "      <td>3.500000</td>\n",
       "      <td>4.000000</td>\n",
       "      <td>3.500000</td>\n",
       "      <td>3100.000000</td>\n",
       "      <td>3100.000000</td>\n",
       "      <td>6059.000000</td>\n",
       "      <td>3.000000</td>\n",
       "      <td>33634931.000000</td>\n",
       "      <td>-117869207.000000</td>\n",
       "      <td>4506.000000</td>\n",
       "      <td>122</td>\n",
       "      <td>60590630.072012</td>\n",
       "      <td>53571.000000</td>\n",
       "      <td>1286.000000</td>\n",
       "      <td>96978.000000</td>\n",
       "      <td>0.000000</td>\n",
       "      <td>1998.000000</td>\n",
       "      <td>485713.000000</td>\n",
       "      <td>1023282.000000</td>\n",
       "      <td>2016.000000</td>\n",
       "      <td>537569.000000</td>\n",
       "      <td>11013.720000</td>\n",
       "      <td>60590630072012.000000</td>\n",
       "      <td>0.025595</td>\n",
       "      <td>2017-01-01</td>\n",
       "      <td>Single Family Residential</td>\n",
       "      <td>0</td>\n",
       "      <td>1</td>\n",
       "      <td>0</td>\n",
       "    </tr>\n",
       "    <tr>\n",
       "      <th>1</th>\n",
       "      <td>17052889</td>\n",
       "      <td>261.000000</td>\n",
       "      <td>1.000000</td>\n",
       "      <td>2.000000</td>\n",
       "      <td>1.000000</td>\n",
       "      <td>1465.000000</td>\n",
       "      <td>1465.000000</td>\n",
       "      <td>6111.000000</td>\n",
       "      <td>1.000000</td>\n",
       "      <td>34449266.000000</td>\n",
       "      <td>-119281531.000000</td>\n",
       "      <td>12647.000000</td>\n",
       "      <td>1110</td>\n",
       "      <td>61110010.023006</td>\n",
       "      <td>13091.000000</td>\n",
       "      <td>2061.000000</td>\n",
       "      <td>97099.000000</td>\n",
       "      <td>5.000000</td>\n",
       "      <td>1967.000000</td>\n",
       "      <td>88000.000000</td>\n",
       "      <td>464000.000000</td>\n",
       "      <td>2016.000000</td>\n",
       "      <td>376000.000000</td>\n",
       "      <td>5672.480000</td>\n",
       "      <td>61110010023006.000000</td>\n",
       "      <td>0.055619</td>\n",
       "      <td>2017-01-01</td>\n",
       "      <td>Single Family Residential</td>\n",
       "      <td>0</td>\n",
       "      <td>0</td>\n",
       "      <td>1</td>\n",
       "    </tr>\n",
       "    <tr>\n",
       "      <th>2</th>\n",
       "      <td>14186244</td>\n",
       "      <td>261.000000</td>\n",
       "      <td>2.000000</td>\n",
       "      <td>3.000000</td>\n",
       "      <td>2.000000</td>\n",
       "      <td>1243.000000</td>\n",
       "      <td>1243.000000</td>\n",
       "      <td>6059.000000</td>\n",
       "      <td>2.000000</td>\n",
       "      <td>33886168.000000</td>\n",
       "      <td>-117823170.000000</td>\n",
       "      <td>8432.000000</td>\n",
       "      <td>122</td>\n",
       "      <td>60590218.022012</td>\n",
       "      <td>21412.000000</td>\n",
       "      <td>1286.000000</td>\n",
       "      <td>97078.000000</td>\n",
       "      <td>6.000000</td>\n",
       "      <td>1962.000000</td>\n",
       "      <td>85289.000000</td>\n",
       "      <td>564778.000000</td>\n",
       "      <td>2016.000000</td>\n",
       "      <td>479489.000000</td>\n",
       "      <td>6488.300000</td>\n",
       "      <td>60590218022012.000000</td>\n",
       "      <td>0.005383</td>\n",
       "      <td>2017-01-01</td>\n",
       "      <td>Single Family Residential</td>\n",
       "      <td>0</td>\n",
       "      <td>1</td>\n",
       "      <td>0</td>\n",
       "    </tr>\n",
       "    <tr>\n",
       "      <th>3</th>\n",
       "      <td>12177905</td>\n",
       "      <td>261.000000</td>\n",
       "      <td>3.000000</td>\n",
       "      <td>4.000000</td>\n",
       "      <td>3.000000</td>\n",
       "      <td>2376.000000</td>\n",
       "      <td>2376.000000</td>\n",
       "      <td>6037.000000</td>\n",
       "      <td>3.000000</td>\n",
       "      <td>34245180.000000</td>\n",
       "      <td>-118240722.000000</td>\n",
       "      <td>13038.000000</td>\n",
       "      <td>0101</td>\n",
       "      <td>60373001.001006</td>\n",
       "      <td>396551.000000</td>\n",
       "      <td>3101.000000</td>\n",
       "      <td>96330.000000</td>\n",
       "      <td>0.000000</td>\n",
       "      <td>1970.000000</td>\n",
       "      <td>108918.000000</td>\n",
       "      <td>145143.000000</td>\n",
       "      <td>2016.000000</td>\n",
       "      <td>36225.000000</td>\n",
       "      <td>1777.510000</td>\n",
       "      <td>60373001001006.000000</td>\n",
       "      <td>-0.103410</td>\n",
       "      <td>2017-01-01</td>\n",
       "      <td>Single Family Residential</td>\n",
       "      <td>1</td>\n",
       "      <td>0</td>\n",
       "      <td>0</td>\n",
       "    </tr>\n",
       "    <tr>\n",
       "      <th>4</th>\n",
       "      <td>10887214</td>\n",
       "      <td>266.000000</td>\n",
       "      <td>3.000000</td>\n",
       "      <td>3.000000</td>\n",
       "      <td>3.000000</td>\n",
       "      <td>1312.000000</td>\n",
       "      <td>1312.000000</td>\n",
       "      <td>6037.000000</td>\n",
       "      <td>3.000000</td>\n",
       "      <td>34185120.000000</td>\n",
       "      <td>-118414640.000000</td>\n",
       "      <td>278581.000000</td>\n",
       "      <td>010C</td>\n",
       "      <td>60371236.012000</td>\n",
       "      <td>12447.000000</td>\n",
       "      <td>3101.000000</td>\n",
       "      <td>96451.000000</td>\n",
       "      <td>0.000000</td>\n",
       "      <td>1964.000000</td>\n",
       "      <td>73681.000000</td>\n",
       "      <td>119407.000000</td>\n",
       "      <td>2016.000000</td>\n",
       "      <td>45726.000000</td>\n",
       "      <td>1533.890000</td>\n",
       "      <td>60371236012000.000000</td>\n",
       "      <td>0.006940</td>\n",
       "      <td>2017-01-01</td>\n",
       "      <td>Condominium</td>\n",
       "      <td>1</td>\n",
       "      <td>0</td>\n",
       "      <td>0</td>\n",
       "    </tr>\n",
       "  </tbody>\n",
       "</table>\n",
       "</div>"
      ],
      "text/plain": [
       "   parcelid  propertylandusetypeid  bathroomcnt  bedroomcnt  \\\n",
       "0  14297519             261.000000     3.500000    4.000000   \n",
       "1  17052889             261.000000     1.000000    2.000000   \n",
       "2  14186244             261.000000     2.000000    3.000000   \n",
       "3  12177905             261.000000     3.000000    4.000000   \n",
       "4  10887214             266.000000     3.000000    3.000000   \n",
       "\n",
       "   calculatedbathnbr  calculatedfinishedsquarefeet  finishedsquarefeet12  \\\n",
       "0           3.500000                   3100.000000           3100.000000   \n",
       "1           1.000000                   1465.000000           1465.000000   \n",
       "2           2.000000                   1243.000000           1243.000000   \n",
       "3           3.000000                   2376.000000           2376.000000   \n",
       "4           3.000000                   1312.000000           1312.000000   \n",
       "\n",
       "         fips  fullbathcnt        latitude         longitude  \\\n",
       "0 6059.000000     3.000000 33634931.000000 -117869207.000000   \n",
       "1 6111.000000     1.000000 34449266.000000 -119281531.000000   \n",
       "2 6059.000000     2.000000 33886168.000000 -117823170.000000   \n",
       "3 6037.000000     3.000000 34245180.000000 -118240722.000000   \n",
       "4 6037.000000     3.000000 34185120.000000 -118414640.000000   \n",
       "\n",
       "   lotsizesquarefeet propertycountylandusecode  rawcensustractandblock  \\\n",
       "0        4506.000000                       122         60590630.072012   \n",
       "1       12647.000000                      1110         61110010.023006   \n",
       "2        8432.000000                       122         60590218.022012   \n",
       "3       13038.000000                      0101         60373001.001006   \n",
       "4      278581.000000                      010C         60371236.012000   \n",
       "\n",
       "   regionidcity  regionidcounty  regionidzip  roomcnt   yearbuilt  \\\n",
       "0  53571.000000     1286.000000 96978.000000 0.000000 1998.000000   \n",
       "1  13091.000000     2061.000000 97099.000000 5.000000 1967.000000   \n",
       "2  21412.000000     1286.000000 97078.000000 6.000000 1962.000000   \n",
       "3 396551.000000     3101.000000 96330.000000 0.000000 1970.000000   \n",
       "4  12447.000000     3101.000000 96451.000000 0.000000 1964.000000   \n",
       "\n",
       "   structuretaxvaluedollarcnt  taxvaluedollarcnt  assessmentyear  \\\n",
       "0               485713.000000     1023282.000000     2016.000000   \n",
       "1                88000.000000      464000.000000     2016.000000   \n",
       "2                85289.000000      564778.000000     2016.000000   \n",
       "3               108918.000000      145143.000000     2016.000000   \n",
       "4                73681.000000      119407.000000     2016.000000   \n",
       "\n",
       "   landtaxvaluedollarcnt    taxamount   censustractandblock  logerror  \\\n",
       "0          537569.000000 11013.720000 60590630072012.000000  0.025595   \n",
       "1          376000.000000  5672.480000 61110010023006.000000  0.055619   \n",
       "2          479489.000000  6488.300000 60590218022012.000000  0.005383   \n",
       "3           36225.000000  1777.510000 60373001001006.000000 -0.103410   \n",
       "4           45726.000000  1533.890000 60371236012000.000000  0.006940   \n",
       "\n",
       "        tdate        propertylandusedesc  is_la_county  is_orange_county  \\\n",
       "0  2017-01-01  Single Family Residential             0                 1   \n",
       "1  2017-01-01  Single Family Residential             0                 0   \n",
       "2  2017-01-01  Single Family Residential             0                 1   \n",
       "3  2017-01-01  Single Family Residential             1                 0   \n",
       "4  2017-01-01                Condominium             1                 0   \n",
       "\n",
       "   is_ventura_county  \n",
       "0                  0  \n",
       "1                  1  \n",
       "2                  0  \n",
       "3                  0  \n",
       "4                  0  "
      ]
     },
     "execution_count": 2,
     "metadata": {},
     "output_type": "execute_result"
    }
   ],
   "source": [
    "df = prep.prep_zillow_data()\n",
    "df.head()"
   ]
  },
  {
   "cell_type": "code",
   "execution_count": 3,
   "metadata": {},
   "outputs": [
    {
     "data": {
      "text/plain": [
       "is_ventura_county               0\n",
       "regionidcity                    0\n",
       "propertylandusetypeid           0\n",
       "bathroomcnt                     0\n",
       "bedroomcnt                      0\n",
       "calculatedbathnbr               0\n",
       "calculatedfinishedsquarefeet    0\n",
       "finishedsquarefeet12            0\n",
       "fips                            0\n",
       "fullbathcnt                     0\n",
       "latitude                        0\n",
       "longitude                       0\n",
       "lotsizesquarefeet               0\n",
       "propertycountylandusecode       0\n",
       "rawcensustractandblock          0\n",
       "regionidcounty                  0\n",
       "is_orange_county                0\n",
       "regionidzip                     0\n",
       "roomcnt                         0\n",
       "yearbuilt                       0\n",
       "structuretaxvaluedollarcnt      0\n",
       "taxvaluedollarcnt               0\n",
       "assessmentyear                  0\n",
       "landtaxvaluedollarcnt           0\n",
       "taxamount                       0\n",
       "censustractandblock             0\n",
       "logerror                        0\n",
       "tdate                           0\n",
       "propertylandusedesc             0\n",
       "is_la_county                    0\n",
       "parcelid                        0\n",
       "dtype: int64"
      ]
     },
     "execution_count": 3,
     "metadata": {},
     "output_type": "execute_result"
    }
   ],
   "source": [
    "#Check for nulls in the data\n",
    "df.isnull().sum().sort_values(ascending = False)"
   ]
  },
  {
   "cell_type": "code",
   "execution_count": 4,
   "metadata": {},
   "outputs": [],
   "source": [
    "X_train, y_train, X_validate, y_validate, X_test, y_test = wrangle.train_validate_test(df)"
   ]
  },
  {
   "cell_type": "code",
   "execution_count": 5,
   "metadata": {},
   "outputs": [
    {
     "data": {
      "text/plain": [
       "(75538, 31)"
      ]
     },
     "execution_count": 5,
     "metadata": {},
     "output_type": "execute_result"
    }
   ],
   "source": [
    "df.shape"
   ]
  },
  {
   "cell_type": "markdown",
   "metadata": {},
   "source": [
    "# Explore the Data"
   ]
  },
  {
   "cell_type": "code",
   "execution_count": 6,
   "metadata": {},
   "outputs": [
    {
     "data": {
      "text/html": [
       "<div>\n",
       "<style scoped>\n",
       "    .dataframe tbody tr th:only-of-type {\n",
       "        vertical-align: middle;\n",
       "    }\n",
       "\n",
       "    .dataframe tbody tr th {\n",
       "        vertical-align: top;\n",
       "    }\n",
       "\n",
       "    .dataframe thead th {\n",
       "        text-align: right;\n",
       "    }\n",
       "</style>\n",
       "<table border=\"1\" class=\"dataframe\">\n",
       "  <thead>\n",
       "    <tr style=\"text-align: right;\">\n",
       "      <th></th>\n",
       "      <th>propertylandusetypeid</th>\n",
       "      <th>bathroomcnt</th>\n",
       "      <th>bedroomcnt</th>\n",
       "      <th>calculatedbathnbr</th>\n",
       "      <th>calculatedfinishedsquarefeet</th>\n",
       "      <th>fips</th>\n",
       "      <th>fullbathcnt</th>\n",
       "      <th>latitude</th>\n",
       "      <th>longitude</th>\n",
       "      <th>lotsizesquarefeet</th>\n",
       "      <th>regionidzip</th>\n",
       "      <th>roomcnt</th>\n",
       "      <th>yearbuilt</th>\n",
       "      <th>taxvaluedollarcnt</th>\n",
       "      <th>logerror</th>\n",
       "      <th>is_la_county</th>\n",
       "      <th>is_orange_county</th>\n",
       "      <th>is_ventura_county</th>\n",
       "    </tr>\n",
       "  </thead>\n",
       "  <tbody>\n",
       "    <tr>\n",
       "      <th>count</th>\n",
       "      <td>42301.000000</td>\n",
       "      <td>42301.000000</td>\n",
       "      <td>42301.000000</td>\n",
       "      <td>42301.000000</td>\n",
       "      <td>42301.000000</td>\n",
       "      <td>42301.000000</td>\n",
       "      <td>42301.000000</td>\n",
       "      <td>42301.000000</td>\n",
       "      <td>42301.000000</td>\n",
       "      <td>42301.000000</td>\n",
       "      <td>42301.000000</td>\n",
       "      <td>42301.000000</td>\n",
       "      <td>42301.000000</td>\n",
       "      <td>42301.000000</td>\n",
       "      <td>42301.000000</td>\n",
       "      <td>42301.000000</td>\n",
       "      <td>42301.000000</td>\n",
       "      <td>42301.000000</td>\n",
       "    </tr>\n",
       "    <tr>\n",
       "      <th>mean</th>\n",
       "      <td>262.024775</td>\n",
       "      <td>2.268516</td>\n",
       "      <td>3.037659</td>\n",
       "      <td>2.268563</td>\n",
       "      <td>1737.939636</td>\n",
       "      <td>6048.843408</td>\n",
       "      <td>2.201242</td>\n",
       "      <td>34008193.550413</td>\n",
       "      <td>-118202423.906196</td>\n",
       "      <td>29909.242102</td>\n",
       "      <td>96579.704249</td>\n",
       "      <td>1.497979</td>\n",
       "      <td>1968.689835</td>\n",
       "      <td>466079.760242</td>\n",
       "      <td>0.016004</td>\n",
       "      <td>0.651308</td>\n",
       "      <td>0.268457</td>\n",
       "      <td>0.080235</td>\n",
       "    </tr>\n",
       "    <tr>\n",
       "      <th>std</th>\n",
       "      <td>3.759741</td>\n",
       "      <td>0.871648</td>\n",
       "      <td>1.010875</td>\n",
       "      <td>0.871612</td>\n",
       "      <td>829.951031</td>\n",
       "      <td>20.713310</td>\n",
       "      <td>0.856426</td>\n",
       "      <td>266456.490405</td>\n",
       "      <td>360225.437520</td>\n",
       "      <td>122937.801973</td>\n",
       "      <td>3321.120831</td>\n",
       "      <td>2.833275</td>\n",
       "      <td>23.604089</td>\n",
       "      <td>498616.093916</td>\n",
       "      <td>0.166024</td>\n",
       "      <td>0.476562</td>\n",
       "      <td>0.443162</td>\n",
       "      <td>0.271659</td>\n",
       "    </tr>\n",
       "    <tr>\n",
       "      <th>min</th>\n",
       "      <td>246.000000</td>\n",
       "      <td>1.000000</td>\n",
       "      <td>1.000000</td>\n",
       "      <td>1.000000</td>\n",
       "      <td>242.000000</td>\n",
       "      <td>6037.000000</td>\n",
       "      <td>1.000000</td>\n",
       "      <td>33339527.000000</td>\n",
       "      <td>-119447944.000000</td>\n",
       "      <td>236.000000</td>\n",
       "      <td>95982.000000</td>\n",
       "      <td>0.000000</td>\n",
       "      <td>1824.000000</td>\n",
       "      <td>1000.000000</td>\n",
       "      <td>-4.655420</td>\n",
       "      <td>0.000000</td>\n",
       "      <td>0.000000</td>\n",
       "      <td>0.000000</td>\n",
       "    </tr>\n",
       "    <tr>\n",
       "      <th>25%</th>\n",
       "      <td>261.000000</td>\n",
       "      <td>2.000000</td>\n",
       "      <td>2.000000</td>\n",
       "      <td>2.000000</td>\n",
       "      <td>1176.000000</td>\n",
       "      <td>6037.000000</td>\n",
       "      <td>2.000000</td>\n",
       "      <td>33812995.000000</td>\n",
       "      <td>-118416540.000000</td>\n",
       "      <td>5940.000000</td>\n",
       "      <td>96197.000000</td>\n",
       "      <td>0.000000</td>\n",
       "      <td>1953.000000</td>\n",
       "      <td>206586.000000</td>\n",
       "      <td>-0.024077</td>\n",
       "      <td>0.000000</td>\n",
       "      <td>0.000000</td>\n",
       "      <td>0.000000</td>\n",
       "    </tr>\n",
       "    <tr>\n",
       "      <th>50%</th>\n",
       "      <td>261.000000</td>\n",
       "      <td>2.000000</td>\n",
       "      <td>3.000000</td>\n",
       "      <td>2.000000</td>\n",
       "      <td>1530.000000</td>\n",
       "      <td>6037.000000</td>\n",
       "      <td>2.000000</td>\n",
       "      <td>34020302.000000</td>\n",
       "      <td>-118178000.000000</td>\n",
       "      <td>7547.000000</td>\n",
       "      <td>96393.000000</td>\n",
       "      <td>0.000000</td>\n",
       "      <td>1970.000000</td>\n",
       "      <td>357000.000000</td>\n",
       "      <td>0.006437</td>\n",
       "      <td>1.000000</td>\n",
       "      <td>0.000000</td>\n",
       "      <td>0.000000</td>\n",
       "    </tr>\n",
       "    <tr>\n",
       "      <th>75%</th>\n",
       "      <td>266.000000</td>\n",
       "      <td>3.000000</td>\n",
       "      <td>4.000000</td>\n",
       "      <td>3.000000</td>\n",
       "      <td>2073.000000</td>\n",
       "      <td>6059.000000</td>\n",
       "      <td>3.000000</td>\n",
       "      <td>34176037.000000</td>\n",
       "      <td>-117926376.000000</td>\n",
       "      <td>21431.000000</td>\n",
       "      <td>96987.000000</td>\n",
       "      <td>0.000000</td>\n",
       "      <td>1987.000000</td>\n",
       "      <td>563328.000000</td>\n",
       "      <td>0.038434</td>\n",
       "      <td>1.000000</td>\n",
       "      <td>1.000000</td>\n",
       "      <td>0.000000</td>\n",
       "    </tr>\n",
       "    <tr>\n",
       "      <th>max</th>\n",
       "      <td>275.000000</td>\n",
       "      <td>5.500000</td>\n",
       "      <td>7.000000</td>\n",
       "      <td>5.500000</td>\n",
       "      <td>12616.000000</td>\n",
       "      <td>6111.000000</td>\n",
       "      <td>5.000000</td>\n",
       "      <td>34812397.000000</td>\n",
       "      <td>-117554636.000000</td>\n",
       "      <td>6971010.000000</td>\n",
       "      <td>399675.000000</td>\n",
       "      <td>13.000000</td>\n",
       "      <td>2016.000000</td>\n",
       "      <td>23858374.000000</td>\n",
       "      <td>3.394544</td>\n",
       "      <td>1.000000</td>\n",
       "      <td>1.000000</td>\n",
       "      <td>1.000000</td>\n",
       "    </tr>\n",
       "  </tbody>\n",
       "</table>\n",
       "</div>"
      ],
      "text/plain": [
       "       propertylandusetypeid  bathroomcnt   bedroomcnt  calculatedbathnbr  \\\n",
       "count           42301.000000 42301.000000 42301.000000       42301.000000   \n",
       "mean              262.024775     2.268516     3.037659           2.268563   \n",
       "std                 3.759741     0.871648     1.010875           0.871612   \n",
       "min               246.000000     1.000000     1.000000           1.000000   \n",
       "25%               261.000000     2.000000     2.000000           2.000000   \n",
       "50%               261.000000     2.000000     3.000000           2.000000   \n",
       "75%               266.000000     3.000000     4.000000           3.000000   \n",
       "max               275.000000     5.500000     7.000000           5.500000   \n",
       "\n",
       "       calculatedfinishedsquarefeet         fips  fullbathcnt        latitude  \\\n",
       "count                  42301.000000 42301.000000 42301.000000    42301.000000   \n",
       "mean                    1737.939636  6048.843408     2.201242 34008193.550413   \n",
       "std                      829.951031    20.713310     0.856426   266456.490405   \n",
       "min                      242.000000  6037.000000     1.000000 33339527.000000   \n",
       "25%                     1176.000000  6037.000000     2.000000 33812995.000000   \n",
       "50%                     1530.000000  6037.000000     2.000000 34020302.000000   \n",
       "75%                     2073.000000  6059.000000     3.000000 34176037.000000   \n",
       "max                    12616.000000  6111.000000     5.000000 34812397.000000   \n",
       "\n",
       "              longitude  lotsizesquarefeet   regionidzip      roomcnt  \\\n",
       "count      42301.000000       42301.000000  42301.000000 42301.000000   \n",
       "mean  -118202423.906196       29909.242102  96579.704249     1.497979   \n",
       "std       360225.437520      122937.801973   3321.120831     2.833275   \n",
       "min   -119447944.000000         236.000000  95982.000000     0.000000   \n",
       "25%   -118416540.000000        5940.000000  96197.000000     0.000000   \n",
       "50%   -118178000.000000        7547.000000  96393.000000     0.000000   \n",
       "75%   -117926376.000000       21431.000000  96987.000000     0.000000   \n",
       "max   -117554636.000000     6971010.000000 399675.000000    13.000000   \n",
       "\n",
       "         yearbuilt  taxvaluedollarcnt     logerror  is_la_county  \\\n",
       "count 42301.000000       42301.000000 42301.000000  42301.000000   \n",
       "mean   1968.689835      466079.760242     0.016004      0.651308   \n",
       "std      23.604089      498616.093916     0.166024      0.476562   \n",
       "min    1824.000000        1000.000000    -4.655420      0.000000   \n",
       "25%    1953.000000      206586.000000    -0.024077      0.000000   \n",
       "50%    1970.000000      357000.000000     0.006437      1.000000   \n",
       "75%    1987.000000      563328.000000     0.038434      1.000000   \n",
       "max    2016.000000    23858374.000000     3.394544      1.000000   \n",
       "\n",
       "       is_orange_county  is_ventura_county  \n",
       "count      42301.000000       42301.000000  \n",
       "mean           0.268457           0.080235  \n",
       "std            0.443162           0.271659  \n",
       "min            0.000000           0.000000  \n",
       "25%            0.000000           0.000000  \n",
       "50%            0.000000           0.000000  \n",
       "75%            1.000000           0.000000  \n",
       "max            1.000000           1.000000  "
      ]
     },
     "execution_count": 6,
     "metadata": {},
     "output_type": "execute_result"
    }
   ],
   "source": [
    "X_train.describe()"
   ]
  },
  {
   "cell_type": "code",
   "execution_count": 7,
   "metadata": {},
   "outputs": [
    {
     "data": {
      "image/png": "[encoded data removed]",
      "text/plain": [
       "<Figure size 576x432 with 1 Axes>"
      ]
     },
     "metadata": {
      "needs_background": "light"
     },
     "output_type": "display_data"
    },
    {
     "data": {
      "image/png": "[encoded data removed]",
      "text/plain": [
       "<Figure size 576x432 with 1 Axes>"
      ]
     },
     "metadata": {
      "needs_background": "light"
     },
     "output_type": "display_data"
    },
    {
     "data": {
      "image/png": "[encoded data removed]",
      "text/plain": [
       "<Figure size 576x432 with 1 Axes>"
      ]
     },
     "metadata": {
      "needs_background": "light"
     },
     "output_type": "display_data"
    },
    {
     "data": {
      "image/png": "[encoded data removed]",
      "text/plain": [
       "<Figure size 576x432 with 1 Axes>"
      ]
     },
     "metadata": {
      "needs_background": "light"
     },
     "output_type": "display_data"
    },
    {
     "data": {
      "image/png": "[encoded data removed]",
      "text/plain": [
       "<Figure size 576x432 with 1 Axes>"
      ]
     },
     "metadata": {
      "needs_background": "light"
     },
     "output_type": "display_data"
    },
    {
     "data": {
      "image/png": "[encoded data removed]",
      "text/plain": [
       "<Figure size 576x432 with 1 Axes>"
      ]
     },
     "metadata": {
      "needs_background": "light"
     },
     "output_type": "display_data"
    },
    {
     "data": {
      "image/png": "[encoded data removed]",
      "text/plain": [
       "<Figure size 576x432 with 1 Axes>"
      ]
     },
     "metadata": {
      "needs_background": "light"
     },
     "output_type": "display_data"
    },
    {
     "data": {
      "image/png": "[encoded data removed]",
      "text/plain": [
       "<Figure size 576x432 with 1 Axes>"
      ]
     },
     "metadata": {
      "needs_background": "light"
     },
     "output_type": "display_data"
    },
    {
     "data": {
      "image/png": "[encoded data removed]",
      "text/plain": [
       "<Figure size 576x432 with 1 Axes>"
      ]
     },
     "metadata": {
      "needs_background": "light"
     },
     "output_type": "display_data"
    },
    {
     "data": {
      "image/png": "[encoded data removed]",
      "text/plain": [
       "<Figure size 576x432 with 1 Axes>"
      ]
     },
     "metadata": {
      "needs_background": "light"
     },
     "output_type": "display_data"
    },
    {
     "data": {
      "image/png": "[encoded data removed]",
      "text/plain": [
       "<Figure size 576x432 with 1 Axes>"
      ]
     },
     "metadata": {
      "needs_background": "light"
     },
     "output_type": "display_data"
    },
    {
     "data": {
      "image/png": "[encoded data removed]",
      "text/plain": [
       "<Figure size 576x432 with 1 Axes>"
      ]
     },
     "metadata": {
      "needs_background": "light"
     },
     "output_type": "display_data"
    },
    {
     "data": {
      "image/png": "[encoded data removed]",
      "text/plain": [
       "<Figure size 576x432 with 1 Axes>"
      ]
     },
     "metadata": {
      "needs_background": "light"
     },
     "output_type": "display_data"
    },
    {
     "data": {
      "image/png": "[encoded data removed]",
      "text/plain": [
       "<Figure size 576x432 with 1 Axes>"
      ]
     },
     "metadata": {
      "needs_background": "light"
     },
     "output_type": "display_data"
    },
    {
     "data": {
      "image/png": "[encoded data removed]",
      "text/plain": [
       "<Figure size 576x432 with 1 Axes>"
      ]
     },
     "metadata": {
      "needs_background": "light"
     },
     "output_type": "display_data"
    },
    {
     "data": {
      "image/png": "[encoded data removed]",
      "text/plain": [
       "<Figure size 576x432 with 1 Axes>"
      ]
     },
     "metadata": {
      "needs_background": "light"
     },
     "output_type": "display_data"
    },
    {
     "data": {
      "image/png": "[encoded data removed]",
      "text/plain": [
       "<Figure size 576x432 with 1 Axes>"
      ]
     },
     "metadata": {
      "needs_background": "light"
     },
     "output_type": "display_data"
    },
    {
     "data": {
      "image/png": "[encoded data removed]",
      "text/plain": [
       "<Figure size 576x432 with 1 Axes>"
      ]
     },
     "metadata": {
      "needs_background": "light"
     },
     "output_type": "display_data"
    }
   ],
   "source": [
    "for column in X_train.columns:\n",
    "    plt.figure(figsize=(8,6))\n",
    "    plt.hist(X_train[column])\n",
    "    plt.title(column)\n",
    "    plt.gcf().axes[0].yaxis.get_major_formatter().set_scientific(False)\n",
    "    plt.show()"
   ]
  },
  {
   "cell_type": "markdown",
   "metadata": {},
   "source": [
    "# Takeaways\n",
    "- Log error is pretty accurate and only deviates about 2 from zero but overall very accurate.\n",
    "\n",
    "- There are fewer outliers present after I removed houses that have more than 8 bedrooms, since the buying market is very niche at those price points.\n",
    "\n",
    "- There are quite a lot of homes still being sold that were built before the 70's\n",
    "\n",
    "- There also appears to be a reduction in home production in the 2000's, unsure if this was due to market crash or lack of space.\n",
    "\n",
    "- Room count does not appear to be an accurate feature to use for our predictions\n",
    "\n",
    "- Fips would be a good feature to cluster on, this would aide in addressing the outliers\n",
    "\n",
    "- I still like bedroom, bathroom, full bathroom as features for my modeling. These features aided a lot in the\n",
    "\n",
    "- Calculated bath and bedroom count is redundant info based on the histograms"
   ]
  },
  {
   "cell_type": "code",
   "execution_count": 8,
   "metadata": {},
   "outputs": [
    {
     "data": {
      "text/html": [
       "<div>\n",
       "<style scoped>\n",
       "    .dataframe tbody tr th:only-of-type {\n",
       "        vertical-align: middle;\n",
       "    }\n",
       "\n",
       "    .dataframe tbody tr th {\n",
       "        vertical-align: top;\n",
       "    }\n",
       "\n",
       "    .dataframe thead th {\n",
       "        text-align: right;\n",
       "    }\n",
       "</style>\n",
       "<table border=\"1\" class=\"dataframe\">\n",
       "  <thead>\n",
       "    <tr style=\"text-align: right;\">\n",
       "      <th></th>\n",
       "      <th>propertylandusetypeid</th>\n",
       "      <th>bathroomcnt</th>\n",
       "      <th>bedroomcnt</th>\n",
       "      <th>calculatedbathnbr</th>\n",
       "      <th>calculatedfinishedsquarefeet</th>\n",
       "      <th>fips</th>\n",
       "      <th>fullbathcnt</th>\n",
       "      <th>latitude</th>\n",
       "      <th>longitude</th>\n",
       "      <th>lotsizesquarefeet</th>\n",
       "      <th>regionidzip</th>\n",
       "      <th>roomcnt</th>\n",
       "      <th>yearbuilt</th>\n",
       "      <th>taxvaluedollarcnt</th>\n",
       "      <th>logerror</th>\n",
       "      <th>is_la_county</th>\n",
       "      <th>is_orange_county</th>\n",
       "      <th>is_ventura_county</th>\n",
       "    </tr>\n",
       "  </thead>\n",
       "  <tbody>\n",
       "    <tr>\n",
       "      <th>10782</th>\n",
       "      <td>261.000000</td>\n",
       "      <td>2.000000</td>\n",
       "      <td>3.000000</td>\n",
       "      <td>2.000000</td>\n",
       "      <td>1606.000000</td>\n",
       "      <td>6037.000000</td>\n",
       "      <td>2.000000</td>\n",
       "      <td>33821795.000000</td>\n",
       "      <td>-118097424.000000</td>\n",
       "      <td>5027.000000</td>\n",
       "      <td>96242.000000</td>\n",
       "      <td>0.000000</td>\n",
       "      <td>1953.000000</td>\n",
       "      <td>74502.000000</td>\n",
       "      <td>0.240991</td>\n",
       "      <td>1</td>\n",
       "      <td>0</td>\n",
       "      <td>0</td>\n",
       "    </tr>\n",
       "    <tr>\n",
       "      <th>58461</th>\n",
       "      <td>261.000000</td>\n",
       "      <td>3.000000</td>\n",
       "      <td>4.000000</td>\n",
       "      <td>3.000000</td>\n",
       "      <td>3785.000000</td>\n",
       "      <td>6037.000000</td>\n",
       "      <td>3.000000</td>\n",
       "      <td>34223192.000000</td>\n",
       "      <td>-118486581.000000</td>\n",
       "      <td>14028.000000</td>\n",
       "      <td>96369.000000</td>\n",
       "      <td>0.000000</td>\n",
       "      <td>1985.000000</td>\n",
       "      <td>468405.000000</td>\n",
       "      <td>-0.076852</td>\n",
       "      <td>1</td>\n",
       "      <td>0</td>\n",
       "      <td>0</td>\n",
       "    </tr>\n",
       "    <tr>\n",
       "      <th>33158</th>\n",
       "      <td>269.000000</td>\n",
       "      <td>3.000000</td>\n",
       "      <td>3.000000</td>\n",
       "      <td>3.000000</td>\n",
       "      <td>2071.000000</td>\n",
       "      <td>6037.000000</td>\n",
       "      <td>3.000000</td>\n",
       "      <td>34406845.000000</td>\n",
       "      <td>-118438367.000000</td>\n",
       "      <td>22125.000000</td>\n",
       "      <td>96401.000000</td>\n",
       "      <td>0.000000</td>\n",
       "      <td>2006.000000</td>\n",
       "      <td>357569.000000</td>\n",
       "      <td>0.000090</td>\n",
       "      <td>1</td>\n",
       "      <td>0</td>\n",
       "      <td>0</td>\n",
       "    </tr>\n",
       "    <tr>\n",
       "      <th>50675</th>\n",
       "      <td>261.000000</td>\n",
       "      <td>2.500000</td>\n",
       "      <td>4.000000</td>\n",
       "      <td>2.500000</td>\n",
       "      <td>4398.000000</td>\n",
       "      <td>6059.000000</td>\n",
       "      <td>2.000000</td>\n",
       "      <td>33814623.000000</td>\n",
       "      <td>-117805673.000000</td>\n",
       "      <td>20110.000000</td>\n",
       "      <td>97059.000000</td>\n",
       "      <td>11.000000</td>\n",
       "      <td>1967.000000</td>\n",
       "      <td>847561.000000</td>\n",
       "      <td>0.121391</td>\n",
       "      <td>0</td>\n",
       "      <td>1</td>\n",
       "      <td>0</td>\n",
       "    </tr>\n",
       "    <tr>\n",
       "      <th>65079</th>\n",
       "      <td>266.000000</td>\n",
       "      <td>2.000000</td>\n",
       "      <td>2.000000</td>\n",
       "      <td>2.000000</td>\n",
       "      <td>1155.000000</td>\n",
       "      <td>6059.000000</td>\n",
       "      <td>2.000000</td>\n",
       "      <td>33624900.000000</td>\n",
       "      <td>-117933000.000000</td>\n",
       "      <td>29969.280611</td>\n",
       "      <td>96981.000000</td>\n",
       "      <td>0.000000</td>\n",
       "      <td>1971.000000</td>\n",
       "      <td>242529.000000</td>\n",
       "      <td>-0.062254</td>\n",
       "      <td>0</td>\n",
       "      <td>1</td>\n",
       "      <td>0</td>\n",
       "    </tr>\n",
       "  </tbody>\n",
       "</table>\n",
       "</div>"
      ],
      "text/plain": [
       "       propertylandusetypeid  bathroomcnt  bedroomcnt  calculatedbathnbr  \\\n",
       "10782             261.000000     2.000000    3.000000           2.000000   \n",
       "58461             261.000000     3.000000    4.000000           3.000000   \n",
       "33158             269.000000     3.000000    3.000000           3.000000   \n",
       "50675             261.000000     2.500000    4.000000           2.500000   \n",
       "65079             266.000000     2.000000    2.000000           2.000000   \n",
       "\n",
       "       calculatedfinishedsquarefeet        fips  fullbathcnt        latitude  \\\n",
       "10782                   1606.000000 6037.000000     2.000000 33821795.000000   \n",
       "58461                   3785.000000 6037.000000     3.000000 34223192.000000   \n",
       "33158                   2071.000000 6037.000000     3.000000 34406845.000000   \n",
       "50675                   4398.000000 6059.000000     2.000000 33814623.000000   \n",
       "65079                   1155.000000 6059.000000     2.000000 33624900.000000   \n",
       "\n",
       "              longitude  lotsizesquarefeet  regionidzip   roomcnt   yearbuilt  \\\n",
       "10782 -118097424.000000        5027.000000 96242.000000  0.000000 1953.000000   \n",
       "58461 -118486581.000000       14028.000000 96369.000000  0.000000 1985.000000   \n",
       "33158 -118438367.000000       22125.000000 96401.000000  0.000000 2006.000000   \n",
       "50675 -117805673.000000       20110.000000 97059.000000 11.000000 1967.000000   \n",
       "65079 -117933000.000000       29969.280611 96981.000000  0.000000 1971.000000   \n",
       "\n",
       "       taxvaluedollarcnt  logerror  is_la_county  is_orange_county  \\\n",
       "10782       74502.000000  0.240991             1                 0   \n",
       "58461      468405.000000 -0.076852             1                 0   \n",
       "33158      357569.000000  0.000090             1                 0   \n",
       "50675      847561.000000  0.121391             0                 1   \n",
       "65079      242529.000000 -0.062254             0                 1   \n",
       "\n",
       "       is_ventura_county  \n",
       "10782                  0  \n",
       "58461                  0  \n",
       "33158                  0  \n",
       "50675                  0  \n",
       "65079                  0  "
      ]
     },
     "execution_count": 8,
     "metadata": {},
     "output_type": "execute_result"
    }
   ],
   "source": [
    "X_train.head()"
   ]
  },
  {
   "cell_type": "code",
   "execution_count": 9,
   "metadata": {},
   "outputs": [
    {
     "data": {
      "image/png": "[encoded data removed]",
      "text/plain": [
       "<Figure size 576x432 with 1 Axes>"
      ]
     },
     "metadata": {
      "needs_background": "light"
     },
     "output_type": "display_data"
    }
   ],
   "source": [
    "plt.figure(figsize=(8,6))\n",
    "sns.barplot(X_train.is_la_county, X_train.logerror)\n",
    "plt.title(\"Are there more log error for houses in LA County?\")\n",
    "plt.gcf().axes[0].yaxis.get_major_formatter().set_scientific(False)\n",
    "plt.ylabel('Home Value')\n",
    "plt.xlabel('Is Home In Los Angeles County?')\n",
    "plt.show()"
   ]
  },
  {
   "cell_type": "code",
   "execution_count": 10,
   "metadata": {},
   "outputs": [
    {
     "data": {
      "image/png": "[encoded data removed]",
      "text/plain": [
       "<Figure size 576x432 with 1 Axes>"
      ]
     },
     "metadata": {
      "needs_background": "light"
     },
     "output_type": "display_data"
    }
   ],
   "source": [
    "plt.figure(figsize=(8,6))\n",
    "sns.barplot(X_train.is_orange_county, X_train.logerror)\n",
    "plt.title(\"Are there more log error for houses in Orange County?\")\n",
    "plt.gcf().axes[0].yaxis.get_major_formatter().set_scientific(False)\n",
    "plt.ylabel('Home Value')\n",
    "plt.xlabel('Is Home In Orange County?')\n",
    "plt.show()"
   ]
  },
  {
   "cell_type": "code",
   "execution_count": 11,
   "metadata": {},
   "outputs": [
    {
     "data": {
      "image/png": "[encoded data removed]",
      "text/plain": [
       "<Figure size 576x432 with 1 Axes>"
      ]
     },
     "metadata": {
      "needs_background": "light"
     },
     "output_type": "display_data"
    }
   ],
   "source": [
    "plt.figure(figsize=(8,6))\n",
    "sns.barplot(X_train.is_ventura_county, X_train.logerror)\n",
    "plt.title(\"Are there more log error for houses in Ventura County?\")\n",
    "plt.gcf().axes[0].yaxis.get_major_formatter().set_scientific(False)\n",
    "plt.ylabel('Home Value')\n",
    "plt.xlabel('Is Home In Ventura County?')\n",
    "plt.show()"
   ]
  },
  {
   "cell_type": "markdown",
   "metadata": {},
   "source": [
    "# Hypothesis Testing"
   ]
  },
  {
   "cell_type": "markdown",
   "metadata": {},
   "source": [
    "### Hypothesis Test 1\n",
    "\n",
    "$H$0 - There is no difference in price between houses in Orange County and Los Angeles/Ventura Counties\n",
    "\n",
    "$H$a - There is a differen between houses in Orange County and Los Angeles/Ventura Counties"
   ]
  },
  {
   "cell_type": "code",
   "execution_count": 12,
   "metadata": {},
   "outputs": [
    {
     "data": {
      "text/plain": [
       "LeveneResult(statistic=47.34570846424668, pvalue=6.033474711527957e-12)"
      ]
     },
     "execution_count": 12,
     "metadata": {},
     "output_type": "execute_result"
    }
   ],
   "source": [
    "la_county = X_train[X_train.is_la_county == 1]\n",
    "not_la_county = X_train[X_train.is_la_county == 0]\n",
    "\n",
    "stats.levene(la_county.logerror, not_la_county.logerror)"
   ]
  },
  {
   "cell_type": "code",
   "execution_count": 13,
   "metadata": {},
   "outputs": [
    {
     "data": {
      "text/plain": [
       "Ttest_indResult(statistic=-1.777254255979233, pvalue=0.07553360020608871)"
      ]
     },
     "execution_count": 13,
     "metadata": {},
     "output_type": "execute_result"
    }
   ],
   "source": [
    "stats.ttest_ind(la_county.logerror, \n",
    "                not_la_county.logerror, \n",
    "                equal_var=True)"
   ]
  },
  {
   "cell_type": "markdown",
   "metadata": {},
   "source": [
    "## Conclusion\n",
    "- p < alpha of .05, we reject the null hypothesis and there is a difference in log error for homes in LA county"
   ]
  },
  {
   "cell_type": "code",
   "execution_count": 14,
   "metadata": {},
   "outputs": [
    {
     "name": "stdout",
     "output_type": "stream",
     "text": [
      "Is There A Relationship Between Home Value And Square Feet?\n"
     ]
    },
    {
     "data": {
      "image/png": "[encoded data removed]",
      "text/plain": [
       "<Figure size 432x432 with 3 Axes>"
      ]
     },
     "metadata": {
      "needs_background": "light"
     },
     "output_type": "display_data"
    }
   ],
   "source": [
    "print('Is There A Relationship Between Home Value And Square Feet?')\n",
    "sns.jointplot(x = 'calculatedfinishedsquarefeet', y = 'taxvaluedollarcnt', data=X_train)\n",
    "plt.xlabel(\"Square Feet Of Home\")\n",
    "plt.ylabel(\"Home Value\")\n",
    "plt.show()"
   ]
  },
  {
   "cell_type": "markdown",
   "metadata": {},
   "source": [
    "## Conclusion\n",
    "- There appears to be a linear relationship between square feet of home and the value of the home\n",
    "- This will be valueable when we begin our modeling and selecting best features"
   ]
  },
  {
   "cell_type": "code",
   "execution_count": 15,
   "metadata": {},
   "outputs": [
    {
     "data": {
      "image/png": "[encoded data removed]",
      "text/plain": [
       "<Figure size 432x288 with 1 Axes>"
      ]
     },
     "metadata": {
      "needs_background": "light"
     },
     "output_type": "display_data"
    }
   ],
   "source": [
    "sns.scatterplot(x='logerror', y='calculatedfinishedsquarefeet',\n",
    "               data=X_train[X_train.calculatedfinishedsquarefeet<2000], color='darkorange')\n",
    "sns.scatterplot(x='logerror', y='calculatedfinishedsquarefeet',\n",
    "               data=X_train[X_train.calculatedfinishedsquarefeet>=2000], \n",
    "                color='dodgerblue')\n",
    "plt.gcf().axes[0].yaxis.get_major_formatter().set_scientific(False)\n",
    "plt.title(\"Is log error more accurate for newer homes or older ones?\")\n",
    "plt.ylabel('Home Value')\n",
    "plt.xlabel('Log Error')\n",
    "plt.show()"
   ]
  },
  {
   "cell_type": "markdown",
   "metadata": {},
   "source": [
    "## Conclusion\n",
    "- It appears that most of the error occurs in the homes older than 2000\n",
    "- This information will be very helpful to consider when we start assessing clusters"
   ]
  },
  {
   "cell_type": "markdown",
   "metadata": {},
   "source": [
    "## Hypothesis Test 2"
   ]
  },
  {
   "cell_type": "code",
   "execution_count": 16,
   "metadata": {},
   "outputs": [
    {
     "data": {
      "text/plain": [
       "LeveneResult(statistic=0.14707104739028531, pvalue=0.7013521599662182)"
      ]
     },
     "execution_count": 16,
     "metadata": {},
     "output_type": "execute_result"
    }
   ],
   "source": [
    "sqft_greater_than_1500 = X_train[X_train.calculatedfinishedsquarefeet >= 1500]\n",
    "sqft_less_than_1500 = X_train[X_train.calculatedfinishedsquarefeet < 1500]\n",
    "\n",
    "stats.levene(sqft_greater_than_1500.logerror, sqft_less_than_1500.logerror)"
   ]
  },
  {
   "cell_type": "markdown",
   "metadata": {},
   "source": [
    "## Conclusion\n",
    "- p > alpha of .05, we fail to reject the null and although the graph appears to show some correlation that log error is higher on houses that are less than 1500 sqft, it is not related."
   ]
  },
  {
   "cell_type": "code",
   "execution_count": 17,
   "metadata": {},
   "outputs": [
    {
     "data": {
      "image/png": "[encoded data removed]",
      "text/plain": [
       "<Figure size 432x288 with 1 Axes>"
      ]
     },
     "metadata": {
      "needs_background": "light"
     },
     "output_type": "display_data"
    }
   ],
   "source": [
    "sns.barplot(x='bedroomcnt', y='taxvaluedollarcnt',\n",
    "               data=X_train, hue='is_ventura_county')\n",
    "plt.title(\"Which county has the biggest variation in price?\")\n",
    "plt.ylabel('Home Value')\n",
    "plt.xlabel('Number Of Bedrooms')\n",
    "plt.show()"
   ]
  },
  {
   "cell_type": "code",
   "execution_count": 18,
   "metadata": {},
   "outputs": [
    {
     "data": {
      "image/png": "[encoded data removed]",
      "text/plain": [
       "<Figure size 432x288 with 1 Axes>"
      ]
     },
     "metadata": {
      "needs_background": "light"
     },
     "output_type": "display_data"
    }
   ],
   "source": [
    "sns.barplot(x='bedroomcnt', y='taxvaluedollarcnt',\n",
    "               data=X_train, hue='is_la_county')\n",
    "plt.title(\"Which county has the biggest variation in price?\")\n",
    "plt.ylabel('Home Value')\n",
    "plt.xlabel('Number Of Bedrooms')\n",
    "plt.show()"
   ]
  },
  {
   "cell_type": "code",
   "execution_count": 19,
   "metadata": {},
   "outputs": [
    {
     "data": {
      "image/png": "[encoded data removed]",
      "text/plain": [
       "<Figure size 432x288 with 1 Axes>"
      ]
     },
     "metadata": {
      "needs_background": "light"
     },
     "output_type": "display_data"
    }
   ],
   "source": [
    "sns.barplot(x='bedroomcnt', y='taxvaluedollarcnt',\n",
    "               data=X_train, hue='is_orange_county')\n",
    "plt.title(\"Which county has the biggest variation in price?\")\n",
    "plt.ylabel('Home Value')\n",
    "plt.xlabel('Number Of Bedrooms')\n",
    "plt.show()"
   ]
  },
  {
   "cell_type": "markdown",
   "metadata": {},
   "source": [
    "## Conclusion\n",
    "- The most variance in price valuation appears to be in ventura which explains why the original model was innaccurate on bigger homes\n",
    "- The most consistent changes in price appears to be orange county\n",
    "- The most linear prices is going to be la county which the original model preformed best on those houses last time"
   ]
  },
  {
   "cell_type": "code",
   "execution_count": 20,
   "metadata": {},
   "outputs": [
    {
     "data": {
      "text/html": [
       "<div>\n",
       "<style scoped>\n",
       "    .dataframe tbody tr th:only-of-type {\n",
       "        vertical-align: middle;\n",
       "    }\n",
       "\n",
       "    .dataframe tbody tr th {\n",
       "        vertical-align: top;\n",
       "    }\n",
       "\n",
       "    .dataframe thead th {\n",
       "        text-align: right;\n",
       "    }\n",
       "</style>\n",
       "<table border=\"1\" class=\"dataframe\">\n",
       "  <thead>\n",
       "    <tr style=\"text-align: right;\">\n",
       "      <th></th>\n",
       "      <th>propertylandusetypeid</th>\n",
       "      <th>bathroomcnt</th>\n",
       "      <th>bedroomcnt</th>\n",
       "      <th>calculatedbathnbr</th>\n",
       "      <th>calculatedfinishedsquarefeet</th>\n",
       "      <th>fips</th>\n",
       "      <th>fullbathcnt</th>\n",
       "      <th>latitude</th>\n",
       "      <th>longitude</th>\n",
       "      <th>lotsizesquarefeet</th>\n",
       "      <th>regionidzip</th>\n",
       "      <th>roomcnt</th>\n",
       "      <th>yearbuilt</th>\n",
       "      <th>taxvaluedollarcnt</th>\n",
       "      <th>logerror</th>\n",
       "      <th>is_la_county</th>\n",
       "      <th>is_orange_county</th>\n",
       "      <th>is_ventura_county</th>\n",
       "    </tr>\n",
       "  </thead>\n",
       "  <tbody>\n",
       "    <tr>\n",
       "      <th>10782</th>\n",
       "      <td>261.000000</td>\n",
       "      <td>2.000000</td>\n",
       "      <td>3.000000</td>\n",
       "      <td>2.000000</td>\n",
       "      <td>1606.000000</td>\n",
       "      <td>6037.000000</td>\n",
       "      <td>2.000000</td>\n",
       "      <td>33821795.000000</td>\n",
       "      <td>-118097424.000000</td>\n",
       "      <td>5027.000000</td>\n",
       "      <td>96242.000000</td>\n",
       "      <td>0.000000</td>\n",
       "      <td>1953.000000</td>\n",
       "      <td>74502.000000</td>\n",
       "      <td>0.240991</td>\n",
       "      <td>1</td>\n",
       "      <td>0</td>\n",
       "      <td>0</td>\n",
       "    </tr>\n",
       "    <tr>\n",
       "      <th>58461</th>\n",
       "      <td>261.000000</td>\n",
       "      <td>3.000000</td>\n",
       "      <td>4.000000</td>\n",
       "      <td>3.000000</td>\n",
       "      <td>3785.000000</td>\n",
       "      <td>6037.000000</td>\n",
       "      <td>3.000000</td>\n",
       "      <td>34223192.000000</td>\n",
       "      <td>-118486581.000000</td>\n",
       "      <td>14028.000000</td>\n",
       "      <td>96369.000000</td>\n",
       "      <td>0.000000</td>\n",
       "      <td>1985.000000</td>\n",
       "      <td>468405.000000</td>\n",
       "      <td>-0.076852</td>\n",
       "      <td>1</td>\n",
       "      <td>0</td>\n",
       "      <td>0</td>\n",
       "    </tr>\n",
       "    <tr>\n",
       "      <th>33158</th>\n",
       "      <td>269.000000</td>\n",
       "      <td>3.000000</td>\n",
       "      <td>3.000000</td>\n",
       "      <td>3.000000</td>\n",
       "      <td>2071.000000</td>\n",
       "      <td>6037.000000</td>\n",
       "      <td>3.000000</td>\n",
       "      <td>34406845.000000</td>\n",
       "      <td>-118438367.000000</td>\n",
       "      <td>22125.000000</td>\n",
       "      <td>96401.000000</td>\n",
       "      <td>0.000000</td>\n",
       "      <td>2006.000000</td>\n",
       "      <td>357569.000000</td>\n",
       "      <td>0.000090</td>\n",
       "      <td>1</td>\n",
       "      <td>0</td>\n",
       "      <td>0</td>\n",
       "    </tr>\n",
       "    <tr>\n",
       "      <th>50675</th>\n",
       "      <td>261.000000</td>\n",
       "      <td>2.500000</td>\n",
       "      <td>4.000000</td>\n",
       "      <td>2.500000</td>\n",
       "      <td>4398.000000</td>\n",
       "      <td>6059.000000</td>\n",
       "      <td>2.000000</td>\n",
       "      <td>33814623.000000</td>\n",
       "      <td>-117805673.000000</td>\n",
       "      <td>20110.000000</td>\n",
       "      <td>97059.000000</td>\n",
       "      <td>11.000000</td>\n",
       "      <td>1967.000000</td>\n",
       "      <td>847561.000000</td>\n",
       "      <td>0.121391</td>\n",
       "      <td>0</td>\n",
       "      <td>1</td>\n",
       "      <td>0</td>\n",
       "    </tr>\n",
       "    <tr>\n",
       "      <th>65079</th>\n",
       "      <td>266.000000</td>\n",
       "      <td>2.000000</td>\n",
       "      <td>2.000000</td>\n",
       "      <td>2.000000</td>\n",
       "      <td>1155.000000</td>\n",
       "      <td>6059.000000</td>\n",
       "      <td>2.000000</td>\n",
       "      <td>33624900.000000</td>\n",
       "      <td>-117933000.000000</td>\n",
       "      <td>29969.280611</td>\n",
       "      <td>96981.000000</td>\n",
       "      <td>0.000000</td>\n",
       "      <td>1971.000000</td>\n",
       "      <td>242529.000000</td>\n",
       "      <td>-0.062254</td>\n",
       "      <td>0</td>\n",
       "      <td>1</td>\n",
       "      <td>0</td>\n",
       "    </tr>\n",
       "  </tbody>\n",
       "</table>\n",
       "</div>"
      ],
      "text/plain": [
       "       propertylandusetypeid  bathroomcnt  bedroomcnt  calculatedbathnbr  \\\n",
       "10782             261.000000     2.000000    3.000000           2.000000   \n",
       "58461             261.000000     3.000000    4.000000           3.000000   \n",
       "33158             269.000000     3.000000    3.000000           3.000000   \n",
       "50675             261.000000     2.500000    4.000000           2.500000   \n",
       "65079             266.000000     2.000000    2.000000           2.000000   \n",
       "\n",
       "       calculatedfinishedsquarefeet        fips  fullbathcnt        latitude  \\\n",
       "10782                   1606.000000 6037.000000     2.000000 33821795.000000   \n",
       "58461                   3785.000000 6037.000000     3.000000 34223192.000000   \n",
       "33158                   2071.000000 6037.000000     3.000000 34406845.000000   \n",
       "50675                   4398.000000 6059.000000     2.000000 33814623.000000   \n",
       "65079                   1155.000000 6059.000000     2.000000 33624900.000000   \n",
       "\n",
       "              longitude  lotsizesquarefeet  regionidzip   roomcnt   yearbuilt  \\\n",
       "10782 -118097424.000000        5027.000000 96242.000000  0.000000 1953.000000   \n",
       "58461 -118486581.000000       14028.000000 96369.000000  0.000000 1985.000000   \n",
       "33158 -118438367.000000       22125.000000 96401.000000  0.000000 2006.000000   \n",
       "50675 -117805673.000000       20110.000000 97059.000000 11.000000 1967.000000   \n",
       "65079 -117933000.000000       29969.280611 96981.000000  0.000000 1971.000000   \n",
       "\n",
       "       taxvaluedollarcnt  logerror  is_la_county  is_orange_county  \\\n",
       "10782       74502.000000  0.240991             1                 0   \n",
       "58461      468405.000000 -0.076852             1                 0   \n",
       "33158      357569.000000  0.000090             1                 0   \n",
       "50675      847561.000000  0.121391             0                 1   \n",
       "65079      242529.000000 -0.062254             0                 1   \n",
       "\n",
       "       is_ventura_county  \n",
       "10782                  0  \n",
       "58461                  0  \n",
       "33158                  0  \n",
       "50675                  0  \n",
       "65079                  0  "
      ]
     },
     "execution_count": 20,
     "metadata": {},
     "output_type": "execute_result"
    }
   ],
   "source": [
    "X_train.head()"
   ]
  },
  {
   "cell_type": "code",
   "execution_count": 21,
   "metadata": {},
   "outputs": [],
   "source": [
    "X_train_scaled, X_validate_scaled, X_test_scaled = wrangle.min_max_scale(X_train, X_validate, X_test)"
   ]
  },
  {
   "cell_type": "code",
   "execution_count": 22,
   "metadata": {},
   "outputs": [
    {
     "data": {
      "text/plain": [
       "KMeans(n_clusters=4)"
      ]
     },
     "execution_count": 22,
     "metadata": {},
     "output_type": "execute_result"
    }
   ],
   "source": [
    "from sklearn.cluster import KMeans\n",
    "X = X_train_scaled[['propertylandusetypeid', 'bathroomcnt', 'bedroomcnt', 'calculatedbathnbr', \n",
    "           'calculatedfinishedsquarefeet', 'fips', 'fullbathcnt', 'latitude', 'longitude', \n",
    "           'lotsizesquarefeet', 'regionidzip', 'roomcnt', 'yearbuilt', 'taxvaluedollarcnt']]\n",
    "kmeans = KMeans(n_clusters=4)\n",
    "kmeans.fit(X)"
   ]
  },
  {
   "cell_type": "code",
   "execution_count": 23,
   "metadata": {},
   "outputs": [
    {
     "data": {
      "text/html": [
       "<div>\n",
       "<style scoped>\n",
       "    .dataframe tbody tr th:only-of-type {\n",
       "        vertical-align: middle;\n",
       "    }\n",
       "\n",
       "    .dataframe tbody tr th {\n",
       "        vertical-align: top;\n",
       "    }\n",
       "\n",
       "    .dataframe thead th {\n",
       "        text-align: right;\n",
       "    }\n",
       "</style>\n",
       "<table border=\"1\" class=\"dataframe\">\n",
       "  <thead>\n",
       "    <tr style=\"text-align: right;\">\n",
       "      <th></th>\n",
       "      <th>propertylandusetypeid</th>\n",
       "      <th>bathroomcnt</th>\n",
       "      <th>bedroomcnt</th>\n",
       "      <th>calculatedbathnbr</th>\n",
       "      <th>calculatedfinishedsquarefeet</th>\n",
       "      <th>fips</th>\n",
       "      <th>fullbathcnt</th>\n",
       "      <th>latitude</th>\n",
       "      <th>longitude</th>\n",
       "      <th>lotsizesquarefeet</th>\n",
       "      <th>regionidzip</th>\n",
       "      <th>roomcnt</th>\n",
       "      <th>yearbuilt</th>\n",
       "      <th>taxvaluedollarcnt</th>\n",
       "    </tr>\n",
       "  </thead>\n",
       "  <tbody>\n",
       "    <tr>\n",
       "      <th>0</th>\n",
       "      <td>0.543114</td>\n",
       "      <td>0.148272</td>\n",
       "      <td>0.273624</td>\n",
       "      <td>0.148272</td>\n",
       "      <td>0.086880</td>\n",
       "      <td>0.007576</td>\n",
       "      <td>0.166227</td>\n",
       "      <td>0.501938</td>\n",
       "      <td>0.641149</td>\n",
       "      <td>0.005312</td>\n",
       "      <td>0.001276</td>\n",
       "      <td>0.000303</td>\n",
       "      <td>0.694826</td>\n",
       "      <td>0.013824</td>\n",
       "    </tr>\n",
       "    <tr>\n",
       "      <th>1</th>\n",
       "      <td>0.567198</td>\n",
       "      <td>0.298632</td>\n",
       "      <td>0.373846</td>\n",
       "      <td>0.298632</td>\n",
       "      <td>0.132340</td>\n",
       "      <td>1.000000</td>\n",
       "      <td>0.291249</td>\n",
       "      <td>0.612008</td>\n",
       "      <td>0.240032</td>\n",
       "      <td>0.001993</td>\n",
       "      <td>0.003103</td>\n",
       "      <td>0.493110</td>\n",
       "      <td>0.807180</td>\n",
       "      <td>0.018840</td>\n",
       "    </tr>\n",
       "    <tr>\n",
       "      <th>2</th>\n",
       "      <td>0.548749</td>\n",
       "      <td>0.517947</td>\n",
       "      <td>0.446284</td>\n",
       "      <td>0.517947</td>\n",
       "      <td>0.179936</td>\n",
       "      <td>0.037145</td>\n",
       "      <td>0.573916</td>\n",
       "      <td>0.504079</td>\n",
       "      <td>0.640257</td>\n",
       "      <td>0.005233</td>\n",
       "      <td>0.001770</td>\n",
       "      <td>0.009191</td>\n",
       "      <td>0.804975</td>\n",
       "      <td>0.030000</td>\n",
       "    </tr>\n",
       "    <tr>\n",
       "      <th>3</th>\n",
       "      <td>0.570148</td>\n",
       "      <td>0.268359</td>\n",
       "      <td>0.334907</td>\n",
       "      <td>0.268406</td>\n",
       "      <td>0.116077</td>\n",
       "      <td>0.297297</td>\n",
       "      <td>0.254269</td>\n",
       "      <td>0.247529</td>\n",
       "      <td>0.859116</td>\n",
       "      <td>0.001900</td>\n",
       "      <td>0.003138</td>\n",
       "      <td>0.324768</td>\n",
       "      <td>0.790663</td>\n",
       "      <td>0.018852</td>\n",
       "    </tr>\n",
       "  </tbody>\n",
       "</table>\n",
       "</div>"
      ],
      "text/plain": [
       "   propertylandusetypeid  bathroomcnt  bedroomcnt  calculatedbathnbr  \\\n",
       "0               0.543114     0.148272    0.273624           0.148272   \n",
       "1               0.567198     0.298632    0.373846           0.298632   \n",
       "2               0.548749     0.517947    0.446284           0.517947   \n",
       "3               0.570148     0.268359    0.334907           0.268406   \n",
       "\n",
       "   calculatedfinishedsquarefeet     fips  fullbathcnt  latitude  longitude  \\\n",
       "0                      0.086880 0.007576     0.166227  0.501938   0.641149   \n",
       "1                      0.132340 1.000000     0.291249  0.612008   0.240032   \n",
       "2                      0.179936 0.037145     0.573916  0.504079   0.640257   \n",
       "3                      0.116077 0.297297     0.254269  0.247529   0.859116   \n",
       "\n",
       "   lotsizesquarefeet  regionidzip  roomcnt  yearbuilt  taxvaluedollarcnt  \n",
       "0           0.005312     0.001276 0.000303   0.694826           0.013824  \n",
       "1           0.001993     0.003103 0.493110   0.807180           0.018840  \n",
       "2           0.005233     0.001770 0.009191   0.804975           0.030000  \n",
       "3           0.001900     0.003138 0.324768   0.790663           0.018852  "
      ]
     },
     "execution_count": 23,
     "metadata": {},
     "output_type": "execute_result"
    }
   ],
   "source": [
    "pd.DataFrame(kmeans.cluster_centers_, columns=X.columns)"
   ]
  },
  {
   "cell_type": "code",
   "execution_count": 24,
   "metadata": {},
   "outputs": [
    {
     "data": {
      "text/plain": [
       "(42301, 14)"
      ]
     },
     "execution_count": 24,
     "metadata": {},
     "output_type": "execute_result"
    }
   ],
   "source": [
    "X.shape"
   ]
  },
  {
   "cell_type": "code",
   "execution_count": 25,
   "metadata": {},
   "outputs": [],
   "source": [
    "X_train_scaled['cluster'] = kmeans.labels_\n",
    "X_train['cluster'] = kmeans.labels_"
   ]
  },
  {
   "cell_type": "code",
   "execution_count": 26,
   "metadata": {},
   "outputs": [
    {
     "data": {
      "text/html": [
       "<div>\n",
       "<style scoped>\n",
       "    .dataframe tbody tr th:only-of-type {\n",
       "        vertical-align: middle;\n",
       "    }\n",
       "\n",
       "    .dataframe tbody tr th {\n",
       "        vertical-align: top;\n",
       "    }\n",
       "\n",
       "    .dataframe thead th {\n",
       "        text-align: right;\n",
       "    }\n",
       "</style>\n",
       "<table border=\"1\" class=\"dataframe\">\n",
       "  <thead>\n",
       "    <tr style=\"text-align: right;\">\n",
       "      <th></th>\n",
       "      <th>propertylandusetypeid</th>\n",
       "      <th>bathroomcnt</th>\n",
       "      <th>bedroomcnt</th>\n",
       "      <th>calculatedbathnbr</th>\n",
       "      <th>calculatedfinishedsquarefeet</th>\n",
       "      <th>fips</th>\n",
       "      <th>fullbathcnt</th>\n",
       "      <th>latitude</th>\n",
       "      <th>longitude</th>\n",
       "      <th>lotsizesquarefeet</th>\n",
       "      <th>regionidzip</th>\n",
       "      <th>roomcnt</th>\n",
       "      <th>yearbuilt</th>\n",
       "      <th>taxvaluedollarcnt</th>\n",
       "      <th>logerror</th>\n",
       "      <th>is_la_county</th>\n",
       "      <th>is_orange_county</th>\n",
       "      <th>is_ventura_county</th>\n",
       "    </tr>\n",
       "    <tr>\n",
       "      <th>cluster</th>\n",
       "      <th></th>\n",
       "      <th></th>\n",
       "      <th></th>\n",
       "      <th></th>\n",
       "      <th></th>\n",
       "      <th></th>\n",
       "      <th></th>\n",
       "      <th></th>\n",
       "      <th></th>\n",
       "      <th></th>\n",
       "      <th></th>\n",
       "      <th></th>\n",
       "      <th></th>\n",
       "      <th></th>\n",
       "      <th></th>\n",
       "      <th></th>\n",
       "      <th></th>\n",
       "      <th></th>\n",
       "    </tr>\n",
       "  </thead>\n",
       "  <tbody>\n",
       "    <tr>\n",
       "      <th>0</th>\n",
       "      <td>261.749879</td>\n",
       "      <td>1.667331</td>\n",
       "      <td>2.642007</td>\n",
       "      <td>1.667331</td>\n",
       "      <td>1317.159665</td>\n",
       "      <td>6037.557142</td>\n",
       "      <td>1.665014</td>\n",
       "      <td>34078884.678808</td>\n",
       "      <td>-118234119.210895</td>\n",
       "      <td>37270.179478</td>\n",
       "      <td>96369.309352</td>\n",
       "      <td>0.003718</td>\n",
       "      <td>1957.405253</td>\n",
       "      <td>330805.531602</td>\n",
       "      <td>0.013931</td>\n",
       "      <td>0.974675</td>\n",
       "      <td>0.025325</td>\n",
       "      <td>0.000000</td>\n",
       "    </tr>\n",
       "    <tr>\n",
       "      <th>1</th>\n",
       "      <td>262.448733</td>\n",
       "      <td>2.343842</td>\n",
       "      <td>3.243076</td>\n",
       "      <td>2.343842</td>\n",
       "      <td>1879.579028</td>\n",
       "      <td>6111.000000</td>\n",
       "      <td>2.164997</td>\n",
       "      <td>34240934.538303</td>\n",
       "      <td>-118993489.993518</td>\n",
       "      <td>14128.057869</td>\n",
       "      <td>96924.268619</td>\n",
       "      <td>6.410430</td>\n",
       "      <td>1978.978650</td>\n",
       "      <td>450471.213023</td>\n",
       "      <td>0.013459</td>\n",
       "      <td>0.000000</td>\n",
       "      <td>0.000000</td>\n",
       "      <td>1.000000</td>\n",
       "    </tr>\n",
       "    <tr>\n",
       "      <th>2</th>\n",
       "      <td>261.913799</td>\n",
       "      <td>3.330744</td>\n",
       "      <td>3.677858</td>\n",
       "      <td>3.330744</td>\n",
       "      <td>2468.477545</td>\n",
       "      <td>6039.746948</td>\n",
       "      <td>3.295690</td>\n",
       "      <td>34082024.588605</td>\n",
       "      <td>-118235790.596744</td>\n",
       "      <td>36716.856055</td>\n",
       "      <td>96519.444671</td>\n",
       "      <td>0.119497</td>\n",
       "      <td>1978.554434</td>\n",
       "      <td>716701.984092</td>\n",
       "      <td>0.019549</td>\n",
       "      <td>0.875139</td>\n",
       "      <td>0.124861</td>\n",
       "      <td>0.000000</td>\n",
       "    </tr>\n",
       "    <tr>\n",
       "      <th>3</th>\n",
       "      <td>262.534711</td>\n",
       "      <td>2.207372</td>\n",
       "      <td>3.008704</td>\n",
       "      <td>2.207580</td>\n",
       "      <td>1678.161481</td>\n",
       "      <td>6059.000000</td>\n",
       "      <td>2.016858</td>\n",
       "      <td>33704068.052328</td>\n",
       "      <td>-117821355.101825</td>\n",
       "      <td>13481.576461</td>\n",
       "      <td>96934.863013</td>\n",
       "      <td>4.220638</td>\n",
       "      <td>1975.805426</td>\n",
       "      <td>450748.629195</td>\n",
       "      <td>0.016925</td>\n",
       "      <td>0.000000</td>\n",
       "      <td>1.000000</td>\n",
       "      <td>0.000000</td>\n",
       "    </tr>\n",
       "  </tbody>\n",
       "</table>\n",
       "</div>"
      ],
      "text/plain": [
       "         propertylandusetypeid  bathroomcnt  bedroomcnt  calculatedbathnbr  \\\n",
       "cluster                                                                      \n",
       "0                   261.749879     1.667331    2.642007           1.667331   \n",
       "1                   262.448733     2.343842    3.243076           2.343842   \n",
       "2                   261.913799     3.330744    3.677858           3.330744   \n",
       "3                   262.534711     2.207372    3.008704           2.207580   \n",
       "\n",
       "         calculatedfinishedsquarefeet        fips  fullbathcnt  \\\n",
       "cluster                                                          \n",
       "0                         1317.159665 6037.557142     1.665014   \n",
       "1                         1879.579028 6111.000000     2.164997   \n",
       "2                         2468.477545 6039.746948     3.295690   \n",
       "3                         1678.161481 6059.000000     2.016858   \n",
       "\n",
       "               latitude         longitude  lotsizesquarefeet  regionidzip  \\\n",
       "cluster                                                                     \n",
       "0       34078884.678808 -118234119.210895       37270.179478 96369.309352   \n",
       "1       34240934.538303 -118993489.993518       14128.057869 96924.268619   \n",
       "2       34082024.588605 -118235790.596744       36716.856055 96519.444671   \n",
       "3       33704068.052328 -117821355.101825       13481.576461 96934.863013   \n",
       "\n",
       "         roomcnt   yearbuilt  taxvaluedollarcnt  logerror  is_la_county  \\\n",
       "cluster                                                                   \n",
       "0       0.003718 1957.405253      330805.531602  0.013931      0.974675   \n",
       "1       6.410430 1978.978650      450471.213023  0.013459      0.000000   \n",
       "2       0.119497 1978.554434      716701.984092  0.019549      0.875139   \n",
       "3       4.220638 1975.805426      450748.629195  0.016925      0.000000   \n",
       "\n",
       "         is_orange_county  is_ventura_county  \n",
       "cluster                                       \n",
       "0                0.025325           0.000000  \n",
       "1                0.000000           1.000000  \n",
       "2                0.124861           0.000000  \n",
       "3                1.000000           0.000000  "
      ]
     },
     "execution_count": 26,
     "metadata": {},
     "output_type": "execute_result"
    }
   ],
   "source": [
    "X_train.groupby('cluster').mean()"
   ]
  },
  {
   "cell_type": "code",
   "execution_count": 27,
   "metadata": {},
   "outputs": [
    {
     "data": {
      "text/plain": [
       "cluster\n",
       "0    18559\n",
       "1     3394\n",
       "2    10812\n",
       "3     9536\n",
       "dtype: int64"
      ]
     },
     "execution_count": 27,
     "metadata": {},
     "output_type": "execute_result"
    }
   ],
   "source": [
    "X_train_scaled.groupby('cluster').size()"
   ]
  },
  {
   "cell_type": "code",
   "execution_count": 28,
   "metadata": {},
   "outputs": [
    {
     "data": {
      "text/plain": [
       "[Text(0, 0.5, 'Square Footage Of Home'), Text(0.5, 0, 'Log Error')]"
      ]
     },
     "execution_count": 28,
     "metadata": {},
     "output_type": "execute_result"
    },
    {
     "data": {
      "image/png": "[encoded data removed]",
      "text/plain": [
       "<Figure size 936x504 with 1 Axes>"
      ]
     },
     "metadata": {
      "needs_background": "light"
     },
     "output_type": "display_data"
    }
   ],
   "source": [
    "fig, ax = plt.subplots(figsize=(13, 7))\n",
    "\n",
    "for cluster, subset in X_train.groupby('cluster'):\n",
    "    ax.scatter(subset.logerror, subset.calculatedfinishedsquarefeet, label=cluster)\n",
    "ax.legend(title='cluster')\n",
    "ax.set(ylabel='Square Footage Of Home', xlabel='Log Error')\n"
   ]
  },
  {
   "cell_type": "code",
   "execution_count": 29,
   "metadata": {},
   "outputs": [
    {
     "data": {
      "text/plain": [
       "6715.594329093665"
      ]
     },
     "execution_count": 29,
     "metadata": {},
     "output_type": "execute_result"
    }
   ],
   "source": [
    "kmeans.inertia_"
   ]
  },
  {
   "cell_type": "code",
   "execution_count": 30,
   "metadata": {},
   "outputs": [
    {
     "data": {
      "image/png": "[encoded data removed]",
      "text/plain": [
       "<Figure size 936x504 with 1 Axes>"
      ]
     },
     "metadata": {
      "needs_background": "light"
     },
     "output_type": "display_data"
    }
   ],
   "source": [
    "output = {}\n",
    "\n",
    "for k in range(1, 12):\n",
    "    kmeans = KMeans(n_clusters=k)\n",
    "    kmeans.fit(X)\n",
    "    output[k] = kmeans.inertia_\n",
    "\n",
    "ax = pd.Series(output).plot(figsize=(13, 7))\n",
    "ax.set(xlabel='k', ylabel='inertia', xticks=range(1, 12), title='The elbow method for determining k')\n",
    "ax.grid()"
   ]
  },
  {
   "cell_type": "code",
   "execution_count": 31,
   "metadata": {},
   "outputs": [
    {
     "data": {
      "image/png": "[encoded data removed]",
      "text/plain": [
       "<Figure size 432x288 with 1 Axes>"
      ]
     },
     "metadata": {
      "needs_background": "light"
     },
     "output_type": "display_data"
    }
   ],
   "source": [
    "sns.scatterplot(x='longitude', y='latitude', hue='cluster', data=X_train_scaled, palette='tab10')\n",
    "plt.title(\"Latitude and Longitude By Cluster \")\n",
    "plt.show()"
   ]
  },
  {
   "cell_type": "code",
   "execution_count": 32,
   "metadata": {},
   "outputs": [
    {
     "data": {
      "text/plain": [
       "Text(0.5, 1.0, 'Year Built vs Log Error By Clusters')"
      ]
     },
     "execution_count": 32,
     "metadata": {},
     "output_type": "execute_result"
    },
    {
     "data": {
      "image/png": "[encoded data removed]",
      "text/plain": [
       "<Figure size 432x288 with 1 Axes>"
      ]
     },
     "metadata": {
      "needs_background": "light"
     },
     "output_type": "display_data"
    }
   ],
   "source": [
    "sns.scatterplot(x='logerror', y='yearbuilt', hue='cluster', data=X_train, palette='tab10')\n",
    "plt.ylabel('Year Home Was Built')\n",
    "plt.xlabel('Log Error')\n",
    "plt.gcf().axes[0].yaxis.get_major_formatter().set_scientific(False)\n",
    "plt.title('Year Built vs Log Error By Clusters')"
   ]
  },
  {
   "cell_type": "code",
   "execution_count": 33,
   "metadata": {},
   "outputs": [
    {
     "data": {
      "text/html": [
       "<div>\n",
       "<style scoped>\n",
       "    .dataframe tbody tr th:only-of-type {\n",
       "        vertical-align: middle;\n",
       "    }\n",
       "\n",
       "    .dataframe tbody tr th {\n",
       "        vertical-align: top;\n",
       "    }\n",
       "\n",
       "    .dataframe thead th {\n",
       "        text-align: right;\n",
       "    }\n",
       "</style>\n",
       "<table border=\"1\" class=\"dataframe\">\n",
       "  <thead>\n",
       "    <tr style=\"text-align: right;\">\n",
       "      <th></th>\n",
       "      <th>propertylandusetypeid</th>\n",
       "      <th>bathroomcnt</th>\n",
       "      <th>bedroomcnt</th>\n",
       "      <th>calculatedbathnbr</th>\n",
       "      <th>calculatedfinishedsquarefeet</th>\n",
       "      <th>fips</th>\n",
       "      <th>fullbathcnt</th>\n",
       "      <th>latitude</th>\n",
       "      <th>longitude</th>\n",
       "      <th>lotsizesquarefeet</th>\n",
       "      <th>regionidzip</th>\n",
       "      <th>roomcnt</th>\n",
       "      <th>yearbuilt</th>\n",
       "      <th>taxvaluedollarcnt</th>\n",
       "      <th>cluster</th>\n",
       "    </tr>\n",
       "  </thead>\n",
       "  <tbody>\n",
       "    <tr>\n",
       "      <th>10782</th>\n",
       "      <td>0.517241</td>\n",
       "      <td>0.222222</td>\n",
       "      <td>0.333333</td>\n",
       "      <td>0.222222</td>\n",
       "      <td>0.110231</td>\n",
       "      <td>0.000000</td>\n",
       "      <td>0.250000</td>\n",
       "      <td>0.327434</td>\n",
       "      <td>0.713312</td>\n",
       "      <td>0.000687</td>\n",
       "      <td>0.000856</td>\n",
       "      <td>0.000000</td>\n",
       "      <td>0.671875</td>\n",
       "      <td>0.003081</td>\n",
       "      <td>0</td>\n",
       "    </tr>\n",
       "    <tr>\n",
       "      <th>58461</th>\n",
       "      <td>0.517241</td>\n",
       "      <td>0.444444</td>\n",
       "      <td>0.500000</td>\n",
       "      <td>0.444444</td>\n",
       "      <td>0.286326</td>\n",
       "      <td>0.000000</td>\n",
       "      <td>0.500000</td>\n",
       "      <td>0.599961</td>\n",
       "      <td>0.507769</td>\n",
       "      <td>0.001979</td>\n",
       "      <td>0.001274</td>\n",
       "      <td>0.000000</td>\n",
       "      <td>0.838542</td>\n",
       "      <td>0.019592</td>\n",
       "      <td>2</td>\n",
       "    </tr>\n",
       "    <tr>\n",
       "      <th>33158</th>\n",
       "      <td>0.793103</td>\n",
       "      <td>0.444444</td>\n",
       "      <td>0.333333</td>\n",
       "      <td>0.444444</td>\n",
       "      <td>0.147810</td>\n",
       "      <td>0.000000</td>\n",
       "      <td>0.500000</td>\n",
       "      <td>0.724652</td>\n",
       "      <td>0.533234</td>\n",
       "      <td>0.003140</td>\n",
       "      <td>0.001380</td>\n",
       "      <td>0.000000</td>\n",
       "      <td>0.947917</td>\n",
       "      <td>0.014946</td>\n",
       "      <td>2</td>\n",
       "    </tr>\n",
       "    <tr>\n",
       "      <th>50675</th>\n",
       "      <td>0.517241</td>\n",
       "      <td>0.333333</td>\n",
       "      <td>0.500000</td>\n",
       "      <td>0.333333</td>\n",
       "      <td>0.335866</td>\n",
       "      <td>0.297297</td>\n",
       "      <td>0.250000</td>\n",
       "      <td>0.322565</td>\n",
       "      <td>0.867408</td>\n",
       "      <td>0.002851</td>\n",
       "      <td>0.003546</td>\n",
       "      <td>0.846154</td>\n",
       "      <td>0.744792</td>\n",
       "      <td>0.035484</td>\n",
       "      <td>3</td>\n",
       "    </tr>\n",
       "    <tr>\n",
       "      <th>65079</th>\n",
       "      <td>0.689655</td>\n",
       "      <td>0.222222</td>\n",
       "      <td>0.166667</td>\n",
       "      <td>0.222222</td>\n",
       "      <td>0.073784</td>\n",
       "      <td>0.297297</td>\n",
       "      <td>0.250000</td>\n",
       "      <td>0.193753</td>\n",
       "      <td>0.800157</td>\n",
       "      <td>0.004265</td>\n",
       "      <td>0.003290</td>\n",
       "      <td>0.000000</td>\n",
       "      <td>0.765625</td>\n",
       "      <td>0.010124</td>\n",
       "      <td>3</td>\n",
       "    </tr>\n",
       "  </tbody>\n",
       "</table>\n",
       "</div>"
      ],
      "text/plain": [
       "       propertylandusetypeid  bathroomcnt  bedroomcnt  calculatedbathnbr  \\\n",
       "10782               0.517241     0.222222    0.333333           0.222222   \n",
       "58461               0.517241     0.444444    0.500000           0.444444   \n",
       "33158               0.793103     0.444444    0.333333           0.444444   \n",
       "50675               0.517241     0.333333    0.500000           0.333333   \n",
       "65079               0.689655     0.222222    0.166667           0.222222   \n",
       "\n",
       "       calculatedfinishedsquarefeet     fips  fullbathcnt  latitude  \\\n",
       "10782                      0.110231 0.000000     0.250000  0.327434   \n",
       "58461                      0.286326 0.000000     0.500000  0.599961   \n",
       "33158                      0.147810 0.000000     0.500000  0.724652   \n",
       "50675                      0.335866 0.297297     0.250000  0.322565   \n",
       "65079                      0.073784 0.297297     0.250000  0.193753   \n",
       "\n",
       "       longitude  lotsizesquarefeet  regionidzip  roomcnt  yearbuilt  \\\n",
       "10782   0.713312           0.000687     0.000856 0.000000   0.671875   \n",
       "58461   0.507769           0.001979     0.001274 0.000000   0.838542   \n",
       "33158   0.533234           0.003140     0.001380 0.000000   0.947917   \n",
       "50675   0.867408           0.002851     0.003546 0.846154   0.744792   \n",
       "65079   0.800157           0.004265     0.003290 0.000000   0.765625   \n",
       "\n",
       "       taxvaluedollarcnt  cluster  \n",
       "10782           0.003081        0  \n",
       "58461           0.019592        2  \n",
       "33158           0.014946        2  \n",
       "50675           0.035484        3  \n",
       "65079           0.010124        3  "
      ]
     },
     "execution_count": 33,
     "metadata": {},
     "output_type": "execute_result"
    }
   ],
   "source": [
    "X_train_scaled.head()"
   ]
  },
  {
   "cell_type": "code",
   "execution_count": 34,
   "metadata": {},
   "outputs": [
    {
     "data": {
      "text/html": [
       "<div>\n",
       "<style scoped>\n",
       "    .dataframe tbody tr th:only-of-type {\n",
       "        vertical-align: middle;\n",
       "    }\n",
       "\n",
       "    .dataframe tbody tr th {\n",
       "        vertical-align: top;\n",
       "    }\n",
       "\n",
       "    .dataframe thead th {\n",
       "        text-align: right;\n",
       "    }\n",
       "</style>\n",
       "<table border=\"1\" class=\"dataframe\">\n",
       "  <thead>\n",
       "    <tr style=\"text-align: right;\">\n",
       "      <th></th>\n",
       "      <th>propertylandusetypeid</th>\n",
       "      <th>bathroomcnt</th>\n",
       "      <th>bedroomcnt</th>\n",
       "      <th>calculatedbathnbr</th>\n",
       "      <th>calculatedfinishedsquarefeet</th>\n",
       "      <th>fips</th>\n",
       "      <th>fullbathcnt</th>\n",
       "      <th>latitude</th>\n",
       "      <th>longitude</th>\n",
       "      <th>lotsizesquarefeet</th>\n",
       "      <th>regionidzip</th>\n",
       "      <th>roomcnt</th>\n",
       "      <th>yearbuilt</th>\n",
       "      <th>taxvaluedollarcnt</th>\n",
       "      <th>logerror</th>\n",
       "      <th>is_la_county</th>\n",
       "      <th>is_orange_county</th>\n",
       "      <th>is_ventura_county</th>\n",
       "      <th>cluster</th>\n",
       "    </tr>\n",
       "  </thead>\n",
       "  <tbody>\n",
       "    <tr>\n",
       "      <th>10782</th>\n",
       "      <td>261.000000</td>\n",
       "      <td>2.000000</td>\n",
       "      <td>3.000000</td>\n",
       "      <td>2.000000</td>\n",
       "      <td>1606.000000</td>\n",
       "      <td>6037.000000</td>\n",
       "      <td>2.000000</td>\n",
       "      <td>33821795.000000</td>\n",
       "      <td>-118097424.000000</td>\n",
       "      <td>5027.000000</td>\n",
       "      <td>96242.000000</td>\n",
       "      <td>0.000000</td>\n",
       "      <td>1953.000000</td>\n",
       "      <td>74502.000000</td>\n",
       "      <td>0.240991</td>\n",
       "      <td>1</td>\n",
       "      <td>0</td>\n",
       "      <td>0</td>\n",
       "      <td>0</td>\n",
       "    </tr>\n",
       "    <tr>\n",
       "      <th>58461</th>\n",
       "      <td>261.000000</td>\n",
       "      <td>3.000000</td>\n",
       "      <td>4.000000</td>\n",
       "      <td>3.000000</td>\n",
       "      <td>3785.000000</td>\n",
       "      <td>6037.000000</td>\n",
       "      <td>3.000000</td>\n",
       "      <td>34223192.000000</td>\n",
       "      <td>-118486581.000000</td>\n",
       "      <td>14028.000000</td>\n",
       "      <td>96369.000000</td>\n",
       "      <td>0.000000</td>\n",
       "      <td>1985.000000</td>\n",
       "      <td>468405.000000</td>\n",
       "      <td>-0.076852</td>\n",
       "      <td>1</td>\n",
       "      <td>0</td>\n",
       "      <td>0</td>\n",
       "      <td>2</td>\n",
       "    </tr>\n",
       "    <tr>\n",
       "      <th>33158</th>\n",
       "      <td>269.000000</td>\n",
       "      <td>3.000000</td>\n",
       "      <td>3.000000</td>\n",
       "      <td>3.000000</td>\n",
       "      <td>2071.000000</td>\n",
       "      <td>6037.000000</td>\n",
       "      <td>3.000000</td>\n",
       "      <td>34406845.000000</td>\n",
       "      <td>-118438367.000000</td>\n",
       "      <td>22125.000000</td>\n",
       "      <td>96401.000000</td>\n",
       "      <td>0.000000</td>\n",
       "      <td>2006.000000</td>\n",
       "      <td>357569.000000</td>\n",
       "      <td>0.000090</td>\n",
       "      <td>1</td>\n",
       "      <td>0</td>\n",
       "      <td>0</td>\n",
       "      <td>2</td>\n",
       "    </tr>\n",
       "    <tr>\n",
       "      <th>50675</th>\n",
       "      <td>261.000000</td>\n",
       "      <td>2.500000</td>\n",
       "      <td>4.000000</td>\n",
       "      <td>2.500000</td>\n",
       "      <td>4398.000000</td>\n",
       "      <td>6059.000000</td>\n",
       "      <td>2.000000</td>\n",
       "      <td>33814623.000000</td>\n",
       "      <td>-117805673.000000</td>\n",
       "      <td>20110.000000</td>\n",
       "      <td>97059.000000</td>\n",
       "      <td>11.000000</td>\n",
       "      <td>1967.000000</td>\n",
       "      <td>847561.000000</td>\n",
       "      <td>0.121391</td>\n",
       "      <td>0</td>\n",
       "      <td>1</td>\n",
       "      <td>0</td>\n",
       "      <td>3</td>\n",
       "    </tr>\n",
       "    <tr>\n",
       "      <th>65079</th>\n",
       "      <td>266.000000</td>\n",
       "      <td>2.000000</td>\n",
       "      <td>2.000000</td>\n",
       "      <td>2.000000</td>\n",
       "      <td>1155.000000</td>\n",
       "      <td>6059.000000</td>\n",
       "      <td>2.000000</td>\n",
       "      <td>33624900.000000</td>\n",
       "      <td>-117933000.000000</td>\n",
       "      <td>29969.280611</td>\n",
       "      <td>96981.000000</td>\n",
       "      <td>0.000000</td>\n",
       "      <td>1971.000000</td>\n",
       "      <td>242529.000000</td>\n",
       "      <td>-0.062254</td>\n",
       "      <td>0</td>\n",
       "      <td>1</td>\n",
       "      <td>0</td>\n",
       "      <td>3</td>\n",
       "    </tr>\n",
       "  </tbody>\n",
       "</table>\n",
       "</div>"
      ],
      "text/plain": [
       "       propertylandusetypeid  bathroomcnt  bedroomcnt  calculatedbathnbr  \\\n",
       "10782             261.000000     2.000000    3.000000           2.000000   \n",
       "58461             261.000000     3.000000    4.000000           3.000000   \n",
       "33158             269.000000     3.000000    3.000000           3.000000   \n",
       "50675             261.000000     2.500000    4.000000           2.500000   \n",
       "65079             266.000000     2.000000    2.000000           2.000000   \n",
       "\n",
       "       calculatedfinishedsquarefeet        fips  fullbathcnt        latitude  \\\n",
       "10782                   1606.000000 6037.000000     2.000000 33821795.000000   \n",
       "58461                   3785.000000 6037.000000     3.000000 34223192.000000   \n",
       "33158                   2071.000000 6037.000000     3.000000 34406845.000000   \n",
       "50675                   4398.000000 6059.000000     2.000000 33814623.000000   \n",
       "65079                   1155.000000 6059.000000     2.000000 33624900.000000   \n",
       "\n",
       "              longitude  lotsizesquarefeet  regionidzip   roomcnt   yearbuilt  \\\n",
       "10782 -118097424.000000        5027.000000 96242.000000  0.000000 1953.000000   \n",
       "58461 -118486581.000000       14028.000000 96369.000000  0.000000 1985.000000   \n",
       "33158 -118438367.000000       22125.000000 96401.000000  0.000000 2006.000000   \n",
       "50675 -117805673.000000       20110.000000 97059.000000 11.000000 1967.000000   \n",
       "65079 -117933000.000000       29969.280611 96981.000000  0.000000 1971.000000   \n",
       "\n",
       "       taxvaluedollarcnt  logerror  is_la_county  is_orange_county  \\\n",
       "10782       74502.000000  0.240991             1                 0   \n",
       "58461      468405.000000 -0.076852             1                 0   \n",
       "33158      357569.000000  0.000090             1                 0   \n",
       "50675      847561.000000  0.121391             0                 1   \n",
       "65079      242529.000000 -0.062254             0                 1   \n",
       "\n",
       "       is_ventura_county  cluster  \n",
       "10782                  0        0  \n",
       "58461                  0        2  \n",
       "33158                  0        2  \n",
       "50675                  0        3  \n",
       "65079                  0        3  "
      ]
     },
     "execution_count": 34,
     "metadata": {},
     "output_type": "execute_result"
    }
   ],
   "source": [
    "X_train.head()"
   ]
  },
  {
   "cell_type": "code",
   "execution_count": null,
   "metadata": {},
   "outputs": [],
   "source": []
  },
  {
   "cell_type": "code",
   "execution_count": 35,
   "metadata": {},
   "outputs": [],
   "source": [
    "from sklearn.feature_selection import RFE\n",
    "from sklearn.linear_model import LinearRegression"
   ]
  },
  {
   "cell_type": "code",
   "execution_count": 36,
   "metadata": {},
   "outputs": [],
   "source": [
    "## Assessing the RFE using a linear regression model\n",
    "lm = LinearRegression()\n",
    "\n",
    "rfe = RFE(lm, 7)\n",
    "\n",
    "lm_X_rfe = rfe.fit_transform(X_train_scaled,y_train)"
   ]
  },
  {
   "cell_type": "code",
   "execution_count": 37,
   "metadata": {},
   "outputs": [
    {
     "name": "stdout",
     "output_type": "stream",
     "text": [
      "selected 7 features: bathroomcnt, calculatedbathnbr, calculatedfinishedsquarefeet, fullbathcnt, lotsizesquarefeet, regionidzip, taxvaluedollarcnt\n"
     ]
    }
   ],
   "source": [
    "## Here we want to filter through and return only the best features\n",
    "mask = rfe.support_ \n",
    "rfe_features = X_train_scaled.columns[mask]\n",
    "print(f'selected {len(rfe_features)} features:', ', '.join(rfe_features))"
   ]
  },
  {
   "cell_type": "code",
   "execution_count": null,
   "metadata": {},
   "outputs": [],
   "source": []
  },
  {
   "cell_type": "code",
   "execution_count": 38,
   "metadata": {},
   "outputs": [
    {
     "data": {
      "text/plain": [
       "LinearRegression()"
      ]
     },
     "execution_count": 38,
     "metadata": {},
     "output_type": "execute_result"
    }
   ],
   "source": [
    "lm.fit(lm_X_rfe, y_train)"
   ]
  },
  {
   "cell_type": "code",
   "execution_count": 39,
   "metadata": {},
   "outputs": [
    {
     "name": "stdout",
     "output_type": "stream",
     "text": [
      "Linear Model: LinearRegression()\n",
      "intercept:  [0.00395909]\n",
      "features:  Index(['bathroomcnt', 'calculatedbathnbr', 'calculatedfinishedsquarefeet',\n",
      "       'fullbathcnt', 'lotsizesquarefeet', 'regionidzip', 'taxvaluedollarcnt'],\n",
      "      dtype='object')\n",
      "coefficients:  [[-0.22911211  0.26320517  0.15270656 -0.03484881  0.09583408 -0.02631947\n",
      "  -0.30369771]]\n"
     ]
    }
   ],
   "source": [
    "print(\"Linear Model:\", lm)\n",
    "\n",
    "print(\"intercept: \", lm.intercept_)\n",
    "\n",
    "print(\"features: \", rfe_features)\n",
    "\n",
    "print(\"coefficients: \", lm.coef_)"
   ]
  },
  {
   "cell_type": "code",
   "execution_count": 40,
   "metadata": {},
   "outputs": [
    {
     "data": {
      "text/html": [
       "<div>\n",
       "<style scoped>\n",
       "    .dataframe tbody tr th:only-of-type {\n",
       "        vertical-align: middle;\n",
       "    }\n",
       "\n",
       "    .dataframe tbody tr th {\n",
       "        vertical-align: top;\n",
       "    }\n",
       "\n",
       "    .dataframe thead th {\n",
       "        text-align: right;\n",
       "    }\n",
       "</style>\n",
       "<table border=\"1\" class=\"dataframe\">\n",
       "  <thead>\n",
       "    <tr style=\"text-align: right;\">\n",
       "      <th></th>\n",
       "      <th>logerror</th>\n",
       "      <th>yhat_lm</th>\n",
       "    </tr>\n",
       "  </thead>\n",
       "  <tbody>\n",
       "    <tr>\n",
       "      <th>10782</th>\n",
       "      <td>0.240991</td>\n",
       "      <td>0.018764</td>\n",
       "    </tr>\n",
       "    <tr>\n",
       "      <th>58461</th>\n",
       "      <td>-0.076852</td>\n",
       "      <td>0.039617</td>\n",
       "    </tr>\n",
       "    <tr>\n",
       "      <th>33158</th>\n",
       "      <td>0.000090</td>\n",
       "      <td>0.019984</td>\n",
       "    </tr>\n",
       "    <tr>\n",
       "      <th>50675</th>\n",
       "      <td>0.121391</td>\n",
       "      <td>0.047304</td>\n",
       "    </tr>\n",
       "    <tr>\n",
       "      <th>65079</th>\n",
       "      <td>-0.062254</td>\n",
       "      <td>0.011338</td>\n",
       "    </tr>\n",
       "  </tbody>\n",
       "</table>\n",
       "</div>"
      ],
      "text/plain": [
       "       logerror  yhat_lm\n",
       "10782  0.240991 0.018764\n",
       "58461 -0.076852 0.039617\n",
       "33158  0.000090 0.019984\n",
       "50675  0.121391 0.047304\n",
       "65079 -0.062254 0.011338"
      ]
     },
     "execution_count": 40,
     "metadata": {},
     "output_type": "execute_result"
    }
   ],
   "source": [
    "## Here we're going to add a column that will make property value predictions using the linear model\n",
    "y_train['yhat_lm'] = lm.predict(lm_X_rfe)\n",
    "\n",
    "y_train.head()"
   ]
  },
  {
   "cell_type": "code",
   "execution_count": 41,
   "metadata": {},
   "outputs": [
    {
     "data": {
      "text/plain": [
       "0.16580804565435792"
      ]
     },
     "execution_count": 41,
     "metadata": {},
     "output_type": "execute_result"
    }
   ],
   "source": [
    "## Checking the mean squared error of the model\n",
    "RMSE_lm = np.sqrt(mean_squared_error(y_train.logerror, y_train.yhat_lm))\n",
    "RMSE_lm"
   ]
  },
  {
   "cell_type": "code",
   "execution_count": 42,
   "metadata": {},
   "outputs": [
    {
     "data": {
      "text/plain": [
       "0.002574653064620902"
      ]
     },
     "execution_count": 42,
     "metadata": {},
     "output_type": "execute_result"
    }
   ],
   "source": [
    "r2_lm = lm.score(lm_X_rfe, y_train.logerror)\n",
    "\n",
    "r2_lm"
   ]
  },
  {
   "cell_type": "code",
   "execution_count": 43,
   "metadata": {},
   "outputs": [
    {
     "data": {
      "text/plain": [
       "'logerror = 0.003959 + -0.23 * bathroomcnt + 0.263 * calculatedbathnbr'"
      ]
     },
     "execution_count": 43,
     "metadata": {},
     "output_type": "execute_result"
    }
   ],
   "source": [
    "output = \"{} = {:.4} + {:.2} * {} + {:.3} * {}\".format(\n",
    "    y_train.columns[0],\n",
    "    lm.intercept_[0],\n",
    "    lm.coef_[0][0],\n",
    "    rfe_features[0],\n",
    "    lm.coef_[0][1],\n",
    "    rfe_features[1],\n",
    ")\n",
    "output"
   ]
  },
  {
   "cell_type": "code",
   "execution_count": 44,
   "metadata": {},
   "outputs": [
    {
     "name": "stdout",
     "output_type": "stream",
     "text": [
      "0.16602203961632636\n",
      "0.0\n"
     ]
    },
    {
     "data": {
      "text/plain": [
       "<matplotlib.collections.PathCollection at 0x7fd79f147250>"
      ]
     },
     "execution_count": 44,
     "metadata": {},
     "output_type": "execute_result"
    },
    {
     "data": {
      "image/png": "[encoded data removed]",
      "text/plain": [
       "<Figure size 432x288 with 1 Axes>"
      ]
     },
     "metadata": {
      "needs_background": "light"
     },
     "output_type": "display_data"
    }
   ],
   "source": [
    "y_train['yhat_baseline'] = df['logerror'].mean()\n",
    "\n",
    "# compute the RMSE\n",
    "RMSE_bl = np.sqrt(mean_squared_error(y_train.logerror, y_train.yhat_baseline))\n",
    "print(RMSE_bl)\n",
    "\n",
    "# no need to compute R-2 because it will be a 0! But we will demonstrate here:\n",
    "evs = explained_variance_score(y_train.logerror, y_train.yhat_baseline)\n",
    "print(evs)\n",
    "plt.scatter(y_train.logerror, y_train.yhat_lm, label='Linear Regression Model Predictions', marker='o')\n",
    "plt.scatter(y_train.logerror, y_train.yhat_baseline, label='Baseline Predicitions', marker='o')"
   ]
  },
  {
   "cell_type": "code",
   "execution_count": 45,
   "metadata": {},
   "outputs": [
    {
     "data": {
      "text/plain": [
       "['1',\n",
       " 'x0',\n",
       " 'x1',\n",
       " 'x2',\n",
       " 'x3',\n",
       " 'x4',\n",
       " 'x5',\n",
       " 'x6',\n",
       " 'x0^2',\n",
       " 'x0 x1',\n",
       " 'x0 x2',\n",
       " 'x0 x3',\n",
       " 'x0 x4',\n",
       " 'x0 x5',\n",
       " 'x0 x6',\n",
       " 'x1^2',\n",
       " 'x1 x2',\n",
       " 'x1 x3',\n",
       " 'x1 x4',\n",
       " 'x1 x5',\n",
       " 'x1 x6',\n",
       " 'x2^2',\n",
       " 'x2 x3',\n",
       " 'x2 x4',\n",
       " 'x2 x5',\n",
       " 'x2 x6',\n",
       " 'x3^2',\n",
       " 'x3 x4',\n",
       " 'x3 x5',\n",
       " 'x3 x6',\n",
       " 'x4^2',\n",
       " 'x4 x5',\n",
       " 'x4 x6',\n",
       " 'x5^2',\n",
       " 'x5 x6',\n",
       " 'x6^2',\n",
       " 'x0^3',\n",
       " 'x0^2 x1',\n",
       " 'x0^2 x2',\n",
       " 'x0^2 x3',\n",
       " 'x0^2 x4',\n",
       " 'x0^2 x5',\n",
       " 'x0^2 x6',\n",
       " 'x0 x1^2',\n",
       " 'x0 x1 x2',\n",
       " 'x0 x1 x3',\n",
       " 'x0 x1 x4',\n",
       " 'x0 x1 x5',\n",
       " 'x0 x1 x6',\n",
       " 'x0 x2^2',\n",
       " 'x0 x2 x3',\n",
       " 'x0 x2 x4',\n",
       " 'x0 x2 x5',\n",
       " 'x0 x2 x6',\n",
       " 'x0 x3^2',\n",
       " 'x0 x3 x4',\n",
       " 'x0 x3 x5',\n",
       " 'x0 x3 x6',\n",
       " 'x0 x4^2',\n",
       " 'x0 x4 x5',\n",
       " 'x0 x4 x6',\n",
       " 'x0 x5^2',\n",
       " 'x0 x5 x6',\n",
       " 'x0 x6^2',\n",
       " 'x1^3',\n",
       " 'x1^2 x2',\n",
       " 'x1^2 x3',\n",
       " 'x1^2 x4',\n",
       " 'x1^2 x5',\n",
       " 'x1^2 x6',\n",
       " 'x1 x2^2',\n",
       " 'x1 x2 x3',\n",
       " 'x1 x2 x4',\n",
       " 'x1 x2 x5',\n",
       " 'x1 x2 x6',\n",
       " 'x1 x3^2',\n",
       " 'x1 x3 x4',\n",
       " 'x1 x3 x5',\n",
       " 'x1 x3 x6',\n",
       " 'x1 x4^2',\n",
       " 'x1 x4 x5',\n",
       " 'x1 x4 x6',\n",
       " 'x1 x5^2',\n",
       " 'x1 x5 x6',\n",
       " 'x1 x6^2',\n",
       " 'x2^3',\n",
       " 'x2^2 x3',\n",
       " 'x2^2 x4',\n",
       " 'x2^2 x5',\n",
       " 'x2^2 x6',\n",
       " 'x2 x3^2',\n",
       " 'x2 x3 x4',\n",
       " 'x2 x3 x5',\n",
       " 'x2 x3 x6',\n",
       " 'x2 x4^2',\n",
       " 'x2 x4 x5',\n",
       " 'x2 x4 x6',\n",
       " 'x2 x5^2',\n",
       " 'x2 x5 x6',\n",
       " 'x2 x6^2',\n",
       " 'x3^3',\n",
       " 'x3^2 x4',\n",
       " 'x3^2 x5',\n",
       " 'x3^2 x6',\n",
       " 'x3 x4^2',\n",
       " 'x3 x4 x5',\n",
       " 'x3 x4 x6',\n",
       " 'x3 x5^2',\n",
       " 'x3 x5 x6',\n",
       " 'x3 x6^2',\n",
       " 'x4^3',\n",
       " 'x4^2 x5',\n",
       " 'x4^2 x6',\n",
       " 'x4 x5^2',\n",
       " 'x4 x5 x6',\n",
       " 'x4 x6^2',\n",
       " 'x5^3',\n",
       " 'x5^2 x6',\n",
       " 'x5 x6^2',\n",
       " 'x6^3',\n",
       " 'x0^4',\n",
       " 'x0^3 x1',\n",
       " 'x0^3 x2',\n",
       " 'x0^3 x3',\n",
       " 'x0^3 x4',\n",
       " 'x0^3 x5',\n",
       " 'x0^3 x6',\n",
       " 'x0^2 x1^2',\n",
       " 'x0^2 x1 x2',\n",
       " 'x0^2 x1 x3',\n",
       " 'x0^2 x1 x4',\n",
       " 'x0^2 x1 x5',\n",
       " 'x0^2 x1 x6',\n",
       " 'x0^2 x2^2',\n",
       " 'x0^2 x2 x3',\n",
       " 'x0^2 x2 x4',\n",
       " 'x0^2 x2 x5',\n",
       " 'x0^2 x2 x6',\n",
       " 'x0^2 x3^2',\n",
       " 'x0^2 x3 x4',\n",
       " 'x0^2 x3 x5',\n",
       " 'x0^2 x3 x6',\n",
       " 'x0^2 x4^2',\n",
       " 'x0^2 x4 x5',\n",
       " 'x0^2 x4 x6',\n",
       " 'x0^2 x5^2',\n",
       " 'x0^2 x5 x6',\n",
       " 'x0^2 x6^2',\n",
       " 'x0 x1^3',\n",
       " 'x0 x1^2 x2',\n",
       " 'x0 x1^2 x3',\n",
       " 'x0 x1^2 x4',\n",
       " 'x0 x1^2 x5',\n",
       " 'x0 x1^2 x6',\n",
       " 'x0 x1 x2^2',\n",
       " 'x0 x1 x2 x3',\n",
       " 'x0 x1 x2 x4',\n",
       " 'x0 x1 x2 x5',\n",
       " 'x0 x1 x2 x6',\n",
       " 'x0 x1 x3^2',\n",
       " 'x0 x1 x3 x4',\n",
       " 'x0 x1 x3 x5',\n",
       " 'x0 x1 x3 x6',\n",
       " 'x0 x1 x4^2',\n",
       " 'x0 x1 x4 x5',\n",
       " 'x0 x1 x4 x6',\n",
       " 'x0 x1 x5^2',\n",
       " 'x0 x1 x5 x6',\n",
       " 'x0 x1 x6^2',\n",
       " 'x0 x2^3',\n",
       " 'x0 x2^2 x3',\n",
       " 'x0 x2^2 x4',\n",
       " 'x0 x2^2 x5',\n",
       " 'x0 x2^2 x6',\n",
       " 'x0 x2 x3^2',\n",
       " 'x0 x2 x3 x4',\n",
       " 'x0 x2 x3 x5',\n",
       " 'x0 x2 x3 x6',\n",
       " 'x0 x2 x4^2',\n",
       " 'x0 x2 x4 x5',\n",
       " 'x0 x2 x4 x6',\n",
       " 'x0 x2 x5^2',\n",
       " 'x0 x2 x5 x6',\n",
       " 'x0 x2 x6^2',\n",
       " 'x0 x3^3',\n",
       " 'x0 x3^2 x4',\n",
       " 'x0 x3^2 x5',\n",
       " 'x0 x3^2 x6',\n",
       " 'x0 x3 x4^2',\n",
       " 'x0 x3 x4 x5',\n",
       " 'x0 x3 x4 x6',\n",
       " 'x0 x3 x5^2',\n",
       " 'x0 x3 x5 x6',\n",
       " 'x0 x3 x6^2',\n",
       " 'x0 x4^3',\n",
       " 'x0 x4^2 x5',\n",
       " 'x0 x4^2 x6',\n",
       " 'x0 x4 x5^2',\n",
       " 'x0 x4 x5 x6',\n",
       " 'x0 x4 x6^2',\n",
       " 'x0 x5^3',\n",
       " 'x0 x5^2 x6',\n",
       " 'x0 x5 x6^2',\n",
       " 'x0 x6^3',\n",
       " 'x1^4',\n",
       " 'x1^3 x2',\n",
       " 'x1^3 x3',\n",
       " 'x1^3 x4',\n",
       " 'x1^3 x5',\n",
       " 'x1^3 x6',\n",
       " 'x1^2 x2^2',\n",
       " 'x1^2 x2 x3',\n",
       " 'x1^2 x2 x4',\n",
       " 'x1^2 x2 x5',\n",
       " 'x1^2 x2 x6',\n",
       " 'x1^2 x3^2',\n",
       " 'x1^2 x3 x4',\n",
       " 'x1^2 x3 x5',\n",
       " 'x1^2 x3 x6',\n",
       " 'x1^2 x4^2',\n",
       " 'x1^2 x4 x5',\n",
       " 'x1^2 x4 x6',\n",
       " 'x1^2 x5^2',\n",
       " 'x1^2 x5 x6',\n",
       " 'x1^2 x6^2',\n",
       " 'x1 x2^3',\n",
       " 'x1 x2^2 x3',\n",
       " 'x1 x2^2 x4',\n",
       " 'x1 x2^2 x5',\n",
       " 'x1 x2^2 x6',\n",
       " 'x1 x2 x3^2',\n",
       " 'x1 x2 x3 x4',\n",
       " 'x1 x2 x3 x5',\n",
       " 'x1 x2 x3 x6',\n",
       " 'x1 x2 x4^2',\n",
       " 'x1 x2 x4 x5',\n",
       " 'x1 x2 x4 x6',\n",
       " 'x1 x2 x5^2',\n",
       " 'x1 x2 x5 x6',\n",
       " 'x1 x2 x6^2',\n",
       " 'x1 x3^3',\n",
       " 'x1 x3^2 x4',\n",
       " 'x1 x3^2 x5',\n",
       " 'x1 x3^2 x6',\n",
       " 'x1 x3 x4^2',\n",
       " 'x1 x3 x4 x5',\n",
       " 'x1 x3 x4 x6',\n",
       " 'x1 x3 x5^2',\n",
       " 'x1 x3 x5 x6',\n",
       " 'x1 x3 x6^2',\n",
       " 'x1 x4^3',\n",
       " 'x1 x4^2 x5',\n",
       " 'x1 x4^2 x6',\n",
       " 'x1 x4 x5^2',\n",
       " 'x1 x4 x5 x6',\n",
       " 'x1 x4 x6^2',\n",
       " 'x1 x5^3',\n",
       " 'x1 x5^2 x6',\n",
       " 'x1 x5 x6^2',\n",
       " 'x1 x6^3',\n",
       " 'x2^4',\n",
       " 'x2^3 x3',\n",
       " 'x2^3 x4',\n",
       " 'x2^3 x5',\n",
       " 'x2^3 x6',\n",
       " 'x2^2 x3^2',\n",
       " 'x2^2 x3 x4',\n",
       " 'x2^2 x3 x5',\n",
       " 'x2^2 x3 x6',\n",
       " 'x2^2 x4^2',\n",
       " 'x2^2 x4 x5',\n",
       " 'x2^2 x4 x6',\n",
       " 'x2^2 x5^2',\n",
       " 'x2^2 x5 x6',\n",
       " 'x2^2 x6^2',\n",
       " 'x2 x3^3',\n",
       " 'x2 x3^2 x4',\n",
       " 'x2 x3^2 x5',\n",
       " 'x2 x3^2 x6',\n",
       " 'x2 x3 x4^2',\n",
       " 'x2 x3 x4 x5',\n",
       " 'x2 x3 x4 x6',\n",
       " 'x2 x3 x5^2',\n",
       " 'x2 x3 x5 x6',\n",
       " 'x2 x3 x6^2',\n",
       " 'x2 x4^3',\n",
       " 'x2 x4^2 x5',\n",
       " 'x2 x4^2 x6',\n",
       " 'x2 x4 x5^2',\n",
       " 'x2 x4 x5 x6',\n",
       " 'x2 x4 x6^2',\n",
       " 'x2 x5^3',\n",
       " 'x2 x5^2 x6',\n",
       " 'x2 x5 x6^2',\n",
       " 'x2 x6^3',\n",
       " 'x3^4',\n",
       " 'x3^3 x4',\n",
       " 'x3^3 x5',\n",
       " 'x3^3 x6',\n",
       " 'x3^2 x4^2',\n",
       " 'x3^2 x4 x5',\n",
       " 'x3^2 x4 x6',\n",
       " 'x3^2 x5^2',\n",
       " 'x3^2 x5 x6',\n",
       " 'x3^2 x6^2',\n",
       " 'x3 x4^3',\n",
       " 'x3 x4^2 x5',\n",
       " 'x3 x4^2 x6',\n",
       " 'x3 x4 x5^2',\n",
       " 'x3 x4 x5 x6',\n",
       " 'x3 x4 x6^2',\n",
       " 'x3 x5^3',\n",
       " 'x3 x5^2 x6',\n",
       " 'x3 x5 x6^2',\n",
       " 'x3 x6^3',\n",
       " 'x4^4',\n",
       " 'x4^3 x5',\n",
       " 'x4^3 x6',\n",
       " 'x4^2 x5^2',\n",
       " 'x4^2 x5 x6',\n",
       " 'x4^2 x6^2',\n",
       " 'x4 x5^3',\n",
       " 'x4 x5^2 x6',\n",
       " 'x4 x5 x6^2',\n",
       " 'x4 x6^3',\n",
       " 'x5^4',\n",
       " 'x5^3 x6',\n",
       " 'x5^2 x6^2',\n",
       " 'x5 x6^3',\n",
       " 'x6^4']"
      ]
     },
     "execution_count": 45,
     "metadata": {},
     "output_type": "execute_result"
    }
   ],
   "source": [
    "from sklearn.preprocessing import PolynomialFeatures\n",
    "\n",
    "poly_X_rfe = rfe.fit_transform(X_train,y_train)\n",
    "\n",
    "## We're starting with 4 degrees as a rough starting point\n",
    "poly = PolynomialFeatures(degree=4)\n",
    "X_poly = poly.fit_transform(poly_X_rfe)\n",
    "\n",
    "poly.get_feature_names()"
   ]
  },
  {
   "cell_type": "code",
   "execution_count": 46,
   "metadata": {},
   "outputs": [],
   "source": [
    "lm_poly = LinearRegression()\n",
    "lm_poly.fit(X_poly, y_train.logerror)\n",
    "y_train['yhat_poly_1'] = lm_poly.predict(X_poly)"
   ]
  },
  {
   "cell_type": "code",
   "execution_count": 47,
   "metadata": {},
   "outputs": [
    {
     "data": {
      "text/plain": [
       "0.04298788180990736"
      ]
     },
     "execution_count": 47,
     "metadata": {},
     "output_type": "execute_result"
    }
   ],
   "source": [
    "RMSE_poly = np.sqrt(mean_squared_error(y_train.logerror, y_train.yhat_poly_1))\n",
    "RMSE_poly"
   ]
  },
  {
   "cell_type": "code",
   "execution_count": 48,
   "metadata": {},
   "outputs": [
    {
     "data": {
      "text/html": [
       "<div>\n",
       "<style scoped>\n",
       "    .dataframe tbody tr th:only-of-type {\n",
       "        vertical-align: middle;\n",
       "    }\n",
       "\n",
       "    .dataframe tbody tr th {\n",
       "        vertical-align: top;\n",
       "    }\n",
       "\n",
       "    .dataframe thead th {\n",
       "        text-align: right;\n",
       "    }\n",
       "</style>\n",
       "<table border=\"1\" class=\"dataframe\">\n",
       "  <thead>\n",
       "    <tr style=\"text-align: right;\">\n",
       "      <th></th>\n",
       "      <th>logerror</th>\n",
       "      <th>yhat_lm</th>\n",
       "      <th>yhat_baseline</th>\n",
       "      <th>yhat_poly_1</th>\n",
       "    </tr>\n",
       "  </thead>\n",
       "  <tbody>\n",
       "    <tr>\n",
       "      <th>10782</th>\n",
       "      <td>0.240991</td>\n",
       "      <td>0.018764</td>\n",
       "      <td>0.016213</td>\n",
       "      <td>0.237529</td>\n",
       "    </tr>\n",
       "    <tr>\n",
       "      <th>58461</th>\n",
       "      <td>-0.076852</td>\n",
       "      <td>0.039617</td>\n",
       "      <td>0.016213</td>\n",
       "      <td>-0.134635</td>\n",
       "    </tr>\n",
       "    <tr>\n",
       "      <th>33158</th>\n",
       "      <td>0.000090</td>\n",
       "      <td>0.019984</td>\n",
       "      <td>0.016213</td>\n",
       "      <td>-0.015636</td>\n",
       "    </tr>\n",
       "    <tr>\n",
       "      <th>50675</th>\n",
       "      <td>0.121391</td>\n",
       "      <td>0.047304</td>\n",
       "      <td>0.016213</td>\n",
       "      <td>0.090993</td>\n",
       "    </tr>\n",
       "    <tr>\n",
       "      <th>65079</th>\n",
       "      <td>-0.062254</td>\n",
       "      <td>0.011338</td>\n",
       "      <td>0.016213</td>\n",
       "      <td>-0.062504</td>\n",
       "    </tr>\n",
       "  </tbody>\n",
       "</table>\n",
       "</div>"
      ],
      "text/plain": [
       "       logerror  yhat_lm  yhat_baseline  yhat_poly_1\n",
       "10782  0.240991 0.018764       0.016213     0.237529\n",
       "58461 -0.076852 0.039617       0.016213    -0.134635\n",
       "33158  0.000090 0.019984       0.016213    -0.015636\n",
       "50675  0.121391 0.047304       0.016213     0.090993\n",
       "65079 -0.062254 0.011338       0.016213    -0.062504"
      ]
     },
     "execution_count": 48,
     "metadata": {},
     "output_type": "execute_result"
    }
   ],
   "source": [
    "y_train.head()"
   ]
  },
  {
   "cell_type": "code",
   "execution_count": 49,
   "metadata": {},
   "outputs": [
    {
     "data": {
      "text/plain": [
       "<matplotlib.collections.PathCollection at 0x7fd7a30c6a00>"
      ]
     },
     "execution_count": 49,
     "metadata": {},
     "output_type": "execute_result"
    },
    {
     "data": {
      "image/png": "[encoded data removed]",
      "text/plain": [
       "<Figure size 648x648 with 1 Axes>"
      ]
     },
     "metadata": {
      "needs_background": "light"
     },
     "output_type": "display_data"
    }
   ],
   "source": [
    "plt.figure(figsize=(9, 9))\n",
    "\n",
    "plt.scatter(y_train.logerror, y_train.yhat_lm, label='Linear Regression Model Predictions', marker='o')\n",
    "plt.scatter(y_train.logerror, y_train.yhat_poly_1, label='Polynomial Regression Model Predictions', marker='o')\n",
    "plt.scatter(y_train.logerror, y_train.yhat_baseline, label='Baseline Predicitions', marker='o')"
   ]
  },
  {
   "cell_type": "code",
   "execution_count": 50,
   "metadata": {},
   "outputs": [
    {
     "data": {
      "text/plain": [
       "0.0004814244408983362"
      ]
     },
     "execution_count": 50,
     "metadata": {},
     "output_type": "execute_result"
    }
   ],
   "source": [
    "poly = PolynomialFeatures(degree=2)\n",
    "X_poly = poly.fit_transform(poly_X_rfe)\n",
    "lm_poly = LinearRegression()\n",
    "lm_poly.fit(X_poly, y_train.logerror)\n",
    "y_train['yhat_poly_2'] = lm_poly.predict(X_poly)\n",
    "RMSE_poly = np.sqrt(mean_squared_error(y_train.logerror, y_train.yhat_poly_2))\n",
    "RMSE_poly"
   ]
  },
  {
   "cell_type": "code",
   "execution_count": 51,
   "metadata": {},
   "outputs": [
    {
     "data": {
      "text/html": [
       "<div>\n",
       "<style scoped>\n",
       "    .dataframe tbody tr th:only-of-type {\n",
       "        vertical-align: middle;\n",
       "    }\n",
       "\n",
       "    .dataframe tbody tr th {\n",
       "        vertical-align: top;\n",
       "    }\n",
       "\n",
       "    .dataframe thead th {\n",
       "        text-align: right;\n",
       "    }\n",
       "</style>\n",
       "<table border=\"1\" class=\"dataframe\">\n",
       "  <thead>\n",
       "    <tr style=\"text-align: right;\">\n",
       "      <th></th>\n",
       "      <th>logerror</th>\n",
       "      <th>yhat_lm</th>\n",
       "      <th>yhat_baseline</th>\n",
       "      <th>yhat_poly_1</th>\n",
       "      <th>yhat_poly_2</th>\n",
       "    </tr>\n",
       "  </thead>\n",
       "  <tbody>\n",
       "    <tr>\n",
       "      <th>10782</th>\n",
       "      <td>0.240991</td>\n",
       "      <td>0.018764</td>\n",
       "      <td>0.016213</td>\n",
       "      <td>0.237529</td>\n",
       "      <td>0.240762</td>\n",
       "    </tr>\n",
       "    <tr>\n",
       "      <th>58461</th>\n",
       "      <td>-0.076852</td>\n",
       "      <td>0.039617</td>\n",
       "      <td>0.016213</td>\n",
       "      <td>-0.134635</td>\n",
       "      <td>-0.076958</td>\n",
       "    </tr>\n",
       "    <tr>\n",
       "      <th>33158</th>\n",
       "      <td>0.000090</td>\n",
       "      <td>0.019984</td>\n",
       "      <td>0.016213</td>\n",
       "      <td>-0.015636</td>\n",
       "      <td>0.000066</td>\n",
       "    </tr>\n",
       "    <tr>\n",
       "      <th>50675</th>\n",
       "      <td>0.121391</td>\n",
       "      <td>0.047304</td>\n",
       "      <td>0.016213</td>\n",
       "      <td>0.090993</td>\n",
       "      <td>0.121820</td>\n",
       "    </tr>\n",
       "    <tr>\n",
       "      <th>65079</th>\n",
       "      <td>-0.062254</td>\n",
       "      <td>0.011338</td>\n",
       "      <td>0.016213</td>\n",
       "      <td>-0.062504</td>\n",
       "      <td>-0.062690</td>\n",
       "    </tr>\n",
       "  </tbody>\n",
       "</table>\n",
       "</div>"
      ],
      "text/plain": [
       "       logerror  yhat_lm  yhat_baseline  yhat_poly_1  yhat_poly_2\n",
       "10782  0.240991 0.018764       0.016213     0.237529     0.240762\n",
       "58461 -0.076852 0.039617       0.016213    -0.134635    -0.076958\n",
       "33158  0.000090 0.019984       0.016213    -0.015636     0.000066\n",
       "50675  0.121391 0.047304       0.016213     0.090993     0.121820\n",
       "65079 -0.062254 0.011338       0.016213    -0.062504    -0.062690"
      ]
     },
     "execution_count": 51,
     "metadata": {},
     "output_type": "execute_result"
    }
   ],
   "source": [
    "y_train.head()"
   ]
  },
  {
   "cell_type": "code",
   "execution_count": 52,
   "metadata": {},
   "outputs": [
    {
     "data": {
      "text/plain": [
       "0.012053260899780606"
      ]
     },
     "execution_count": 52,
     "metadata": {},
     "output_type": "execute_result"
    }
   ],
   "source": [
    "poly = PolynomialFeatures(degree=3)\n",
    "X_poly = poly.fit_transform(poly_X_rfe)\n",
    "lm_poly = LinearRegression()\n",
    "lm_poly.fit(X_poly, y_train.logerror)\n",
    "y_train['yhat_poly_3'] = lm_poly.predict(X_poly)\n",
    "RMSE_poly = np.sqrt(mean_squared_error(y_train.logerror, y_train.yhat_poly_3))\n",
    "RMSE_poly"
   ]
  },
  {
   "cell_type": "code",
   "execution_count": 53,
   "metadata": {},
   "outputs": [
    {
     "data": {
      "text/plain": [
       "2530951.1419222415"
      ]
     },
     "execution_count": 53,
     "metadata": {},
     "output_type": "execute_result"
    }
   ],
   "source": [
    "y_train['base_perc_error'] = ((y_train.logerror - y_train.yhat_baseline) / y_train.logerror) * 100\n",
    "y_train.base_perc_error.sum()"
   ]
  },
  {
   "cell_type": "code",
   "execution_count": 54,
   "metadata": {},
   "outputs": [
    {
     "data": {
      "text/html": [
       "<div>\n",
       "<style scoped>\n",
       "    .dataframe tbody tr th:only-of-type {\n",
       "        vertical-align: middle;\n",
       "    }\n",
       "\n",
       "    .dataframe tbody tr th {\n",
       "        vertical-align: top;\n",
       "    }\n",
       "\n",
       "    .dataframe thead th {\n",
       "        text-align: right;\n",
       "    }\n",
       "</style>\n",
       "<table border=\"1\" class=\"dataframe\">\n",
       "  <thead>\n",
       "    <tr style=\"text-align: right;\">\n",
       "      <th></th>\n",
       "      <th>logerror</th>\n",
       "      <th>yhat_lm</th>\n",
       "      <th>yhat_baseline</th>\n",
       "      <th>yhat_poly_1</th>\n",
       "      <th>yhat_poly_2</th>\n",
       "      <th>yhat_poly_3</th>\n",
       "      <th>base_perc_error</th>\n",
       "    </tr>\n",
       "  </thead>\n",
       "  <tbody>\n",
       "    <tr>\n",
       "      <th>10782</th>\n",
       "      <td>0.240991</td>\n",
       "      <td>0.018764</td>\n",
       "      <td>0.016213</td>\n",
       "      <td>0.237529</td>\n",
       "      <td>0.240762</td>\n",
       "      <td>0.237759</td>\n",
       "      <td>93.272266</td>\n",
       "    </tr>\n",
       "    <tr>\n",
       "      <th>58461</th>\n",
       "      <td>-0.076852</td>\n",
       "      <td>0.039617</td>\n",
       "      <td>0.016213</td>\n",
       "      <td>-0.134635</td>\n",
       "      <td>-0.076958</td>\n",
       "      <td>-0.053170</td>\n",
       "      <td>121.096628</td>\n",
       "    </tr>\n",
       "    <tr>\n",
       "      <th>33158</th>\n",
       "      <td>0.000090</td>\n",
       "      <td>0.019984</td>\n",
       "      <td>0.016213</td>\n",
       "      <td>-0.015636</td>\n",
       "      <td>0.000066</td>\n",
       "      <td>-0.000664</td>\n",
       "      <td>-17856.886205</td>\n",
       "    </tr>\n",
       "    <tr>\n",
       "      <th>50675</th>\n",
       "      <td>0.121391</td>\n",
       "      <td>0.047304</td>\n",
       "      <td>0.016213</td>\n",
       "      <td>0.090993</td>\n",
       "      <td>0.121820</td>\n",
       "      <td>0.089689</td>\n",
       "      <td>86.643782</td>\n",
       "    </tr>\n",
       "    <tr>\n",
       "      <th>65079</th>\n",
       "      <td>-0.062254</td>\n",
       "      <td>0.011338</td>\n",
       "      <td>0.016213</td>\n",
       "      <td>-0.062504</td>\n",
       "      <td>-0.062690</td>\n",
       "      <td>-0.069864</td>\n",
       "      <td>126.043777</td>\n",
       "    </tr>\n",
       "  </tbody>\n",
       "</table>\n",
       "</div>"
      ],
      "text/plain": [
       "       logerror  yhat_lm  yhat_baseline  yhat_poly_1  yhat_poly_2  \\\n",
       "10782  0.240991 0.018764       0.016213     0.237529     0.240762   \n",
       "58461 -0.076852 0.039617       0.016213    -0.134635    -0.076958   \n",
       "33158  0.000090 0.019984       0.016213    -0.015636     0.000066   \n",
       "50675  0.121391 0.047304       0.016213     0.090993     0.121820   \n",
       "65079 -0.062254 0.011338       0.016213    -0.062504    -0.062690   \n",
       "\n",
       "       yhat_poly_3  base_perc_error  \n",
       "10782     0.237759        93.272266  \n",
       "58461    -0.053170       121.096628  \n",
       "33158    -0.000664    -17856.886205  \n",
       "50675     0.089689        86.643782  \n",
       "65079    -0.069864       126.043777  "
      ]
     },
     "execution_count": 54,
     "metadata": {},
     "output_type": "execute_result"
    }
   ],
   "source": [
    "y_train.head()"
   ]
  },
  {
   "cell_type": "code",
   "execution_count": 55,
   "metadata": {},
   "outputs": [
    {
     "data": {
      "text/plain": [
       "<matplotlib.collections.PathCollection at 0x7fd7a3c58d60>"
      ]
     },
     "execution_count": 55,
     "metadata": {},
     "output_type": "execute_result"
    },
    {
     "data": {
      "image/png": "[encoded data removed]",
      "text/plain": [
       "<Figure size 648x648 with 1 Axes>"
      ]
     },
     "metadata": {
      "needs_background": "light"
     },
     "output_type": "display_data"
    }
   ],
   "source": [
    "plt.figure(figsize=(9, 9))\n",
    "\n",
    "plt.scatter(y_train.logerror, y_train.yhat_lm, label='Linear Regression Model Predictions', marker='o')\n",
    "plt.scatter(y_train.logerror, y_train.yhat_poly_1, label='Polynomial Regression Model Predictions', marker='o')\n",
    "plt.scatter(y_train.logerror, y_train.yhat_baseline, label='Baseline Predicitions', marker='o')"
   ]
  },
  {
   "cell_type": "code",
   "execution_count": null,
   "metadata": {},
   "outputs": [],
   "source": []
  },
  {
   "cell_type": "code",
   "execution_count": 56,
   "metadata": {},
   "outputs": [],
   "source": [
    "val_poly_X_rfe = rfe.fit_transform(X_validate,y_validate)"
   ]
  },
  {
   "cell_type": "code",
   "execution_count": 72,
   "metadata": {},
   "outputs": [
    {
     "name": "stdout",
     "output_type": "stream",
     "text": [
      "0.00000000000000017767\n"
     ]
    }
   ],
   "source": [
    "poly = PolynomialFeatures(degree=3)\n",
    "X_poly = poly.fit_transform(val_poly_X_rfe)\n",
    "lm_poly = LinearRegression()\n",
    "lm_poly.fit(X_poly, y_validate.logerror)\n",
    "y_validate['yhat_poly_1'] = lm_poly.predict(X_poly)\n",
    "RMSE_poly = np.sqrt(mean_squared_error(y_validate.logerror, y_validate.yhat_poly_1))\n",
    "RMSE_poly\n",
    "print('{:.20f}'.format(RMSE_poly))"
   ]
  },
  {
   "cell_type": "code",
   "execution_count": 58,
   "metadata": {},
   "outputs": [
    {
     "data": {
      "text/html": [
       "<div>\n",
       "<style scoped>\n",
       "    .dataframe tbody tr th:only-of-type {\n",
       "        vertical-align: middle;\n",
       "    }\n",
       "\n",
       "    .dataframe tbody tr th {\n",
       "        vertical-align: top;\n",
       "    }\n",
       "\n",
       "    .dataframe thead th {\n",
       "        text-align: right;\n",
       "    }\n",
       "</style>\n",
       "<table border=\"1\" class=\"dataframe\">\n",
       "  <thead>\n",
       "    <tr style=\"text-align: right;\">\n",
       "      <th></th>\n",
       "      <th>logerror</th>\n",
       "      <th>yhat_poly_1</th>\n",
       "    </tr>\n",
       "  </thead>\n",
       "  <tbody>\n",
       "    <tr>\n",
       "      <th>15680</th>\n",
       "      <td>0.054257</td>\n",
       "      <td>0.054257</td>\n",
       "    </tr>\n",
       "    <tr>\n",
       "      <th>65289</th>\n",
       "      <td>0.138552</td>\n",
       "      <td>0.138552</td>\n",
       "    </tr>\n",
       "    <tr>\n",
       "      <th>5275</th>\n",
       "      <td>-0.006489</td>\n",
       "      <td>-0.006489</td>\n",
       "    </tr>\n",
       "    <tr>\n",
       "      <th>60465</th>\n",
       "      <td>-0.109411</td>\n",
       "      <td>-0.109411</td>\n",
       "    </tr>\n",
       "    <tr>\n",
       "      <th>51437</th>\n",
       "      <td>0.000075</td>\n",
       "      <td>0.000075</td>\n",
       "    </tr>\n",
       "  </tbody>\n",
       "</table>\n",
       "</div>"
      ],
      "text/plain": [
       "       logerror  yhat_poly_1\n",
       "15680  0.054257     0.054257\n",
       "65289  0.138552     0.138552\n",
       "5275  -0.006489    -0.006489\n",
       "60465 -0.109411    -0.109411\n",
       "51437  0.000075     0.000075"
      ]
     },
     "execution_count": 58,
     "metadata": {},
     "output_type": "execute_result"
    }
   ],
   "source": [
    "y_validate.head()"
   ]
  },
  {
   "cell_type": "code",
   "execution_count": 71,
   "metadata": {},
   "outputs": [
    {
     "name": "stdout",
     "output_type": "stream",
     "text": [
      "0.00000000000003129622\n"
     ]
    }
   ],
   "source": [
    "poly = PolynomialFeatures(degree=4)\n",
    "X_poly = poly.fit_transform(val_poly_X_rfe)\n",
    "lm_poly = LinearRegression()\n",
    "lm_poly.fit(X_poly, y_validate.logerror)\n",
    "y_validate['yhat_poly_2'] = lm_poly.predict(X_poly)\n",
    "RMSE_poly = np.sqrt(mean_squared_error(y_validate.logerror, y_validate.yhat_poly_2))\n",
    "print('{:.20f}'.format(RMSE_poly))"
   ]
  },
  {
   "cell_type": "code",
   "execution_count": 60,
   "metadata": {},
   "outputs": [
    {
     "data": {
      "text/html": [
       "<div>\n",
       "<style scoped>\n",
       "    .dataframe tbody tr th:only-of-type {\n",
       "        vertical-align: middle;\n",
       "    }\n",
       "\n",
       "    .dataframe tbody tr th {\n",
       "        vertical-align: top;\n",
       "    }\n",
       "\n",
       "    .dataframe thead th {\n",
       "        text-align: right;\n",
       "    }\n",
       "</style>\n",
       "<table border=\"1\" class=\"dataframe\">\n",
       "  <thead>\n",
       "    <tr style=\"text-align: right;\">\n",
       "      <th></th>\n",
       "      <th>logerror</th>\n",
       "      <th>yhat_poly_1</th>\n",
       "      <th>yhat_poly_2</th>\n",
       "    </tr>\n",
       "  </thead>\n",
       "  <tbody>\n",
       "    <tr>\n",
       "      <th>15680</th>\n",
       "      <td>0.054257</td>\n",
       "      <td>0.054257</td>\n",
       "      <td>0.054257</td>\n",
       "    </tr>\n",
       "    <tr>\n",
       "      <th>65289</th>\n",
       "      <td>0.138552</td>\n",
       "      <td>0.138552</td>\n",
       "      <td>0.138552</td>\n",
       "    </tr>\n",
       "    <tr>\n",
       "      <th>5275</th>\n",
       "      <td>-0.006489</td>\n",
       "      <td>-0.006489</td>\n",
       "      <td>-0.006489</td>\n",
       "    </tr>\n",
       "    <tr>\n",
       "      <th>60465</th>\n",
       "      <td>-0.109411</td>\n",
       "      <td>-0.109411</td>\n",
       "      <td>-0.109411</td>\n",
       "    </tr>\n",
       "    <tr>\n",
       "      <th>51437</th>\n",
       "      <td>0.000075</td>\n",
       "      <td>0.000075</td>\n",
       "      <td>0.000075</td>\n",
       "    </tr>\n",
       "  </tbody>\n",
       "</table>\n",
       "</div>"
      ],
      "text/plain": [
       "       logerror  yhat_poly_1  yhat_poly_2\n",
       "15680  0.054257     0.054257     0.054257\n",
       "65289  0.138552     0.138552     0.138552\n",
       "5275  -0.006489    -0.006489    -0.006489\n",
       "60465 -0.109411    -0.109411    -0.109411\n",
       "51437  0.000075     0.000075     0.000075"
      ]
     },
     "execution_count": 60,
     "metadata": {},
     "output_type": "execute_result"
    }
   ],
   "source": [
    "y_validate.head()"
   ]
  },
  {
   "cell_type": "code",
   "execution_count": 73,
   "metadata": {},
   "outputs": [
    {
     "name": "stdout",
     "output_type": "stream",
     "text": [
      "0.00000000000000008748\n"
     ]
    }
   ],
   "source": [
    "poly = PolynomialFeatures(degree=2)\n",
    "X_poly = poly.fit_transform(val_poly_X_rfe)\n",
    "lm_poly = LinearRegression()\n",
    "lm_poly.fit(X_poly, y_validate.logerror)\n",
    "y_validate['yhat_poly_3'] = lm_poly.predict(X_poly)\n",
    "RMSE_poly = np.sqrt(mean_squared_error(y_validate.logerror, y_validate.yhat_poly_3))\n",
    "RMSE_poly\n",
    "print('{:.20f}'.format(RMSE_poly))"
   ]
  },
  {
   "cell_type": "code",
   "execution_count": 62,
   "metadata": {},
   "outputs": [
    {
     "data": {
      "text/html": [
       "<div>\n",
       "<style scoped>\n",
       "    .dataframe tbody tr th:only-of-type {\n",
       "        vertical-align: middle;\n",
       "    }\n",
       "\n",
       "    .dataframe tbody tr th {\n",
       "        vertical-align: top;\n",
       "    }\n",
       "\n",
       "    .dataframe thead th {\n",
       "        text-align: right;\n",
       "    }\n",
       "</style>\n",
       "<table border=\"1\" class=\"dataframe\">\n",
       "  <thead>\n",
       "    <tr style=\"text-align: right;\">\n",
       "      <th></th>\n",
       "      <th>logerror</th>\n",
       "      <th>yhat_poly_1</th>\n",
       "      <th>yhat_poly_2</th>\n",
       "      <th>yhat_poly_3</th>\n",
       "    </tr>\n",
       "  </thead>\n",
       "  <tbody>\n",
       "    <tr>\n",
       "      <th>15680</th>\n",
       "      <td>0.054257</td>\n",
       "      <td>0.054257</td>\n",
       "      <td>0.054257</td>\n",
       "      <td>0.054257</td>\n",
       "    </tr>\n",
       "    <tr>\n",
       "      <th>65289</th>\n",
       "      <td>0.138552</td>\n",
       "      <td>0.138552</td>\n",
       "      <td>0.138552</td>\n",
       "      <td>0.138552</td>\n",
       "    </tr>\n",
       "    <tr>\n",
       "      <th>5275</th>\n",
       "      <td>-0.006489</td>\n",
       "      <td>-0.006489</td>\n",
       "      <td>-0.006489</td>\n",
       "      <td>-0.006489</td>\n",
       "    </tr>\n",
       "    <tr>\n",
       "      <th>60465</th>\n",
       "      <td>-0.109411</td>\n",
       "      <td>-0.109411</td>\n",
       "      <td>-0.109411</td>\n",
       "      <td>-0.109411</td>\n",
       "    </tr>\n",
       "    <tr>\n",
       "      <th>51437</th>\n",
       "      <td>0.000075</td>\n",
       "      <td>0.000075</td>\n",
       "      <td>0.000075</td>\n",
       "      <td>0.000075</td>\n",
       "    </tr>\n",
       "  </tbody>\n",
       "</table>\n",
       "</div>"
      ],
      "text/plain": [
       "       logerror  yhat_poly_1  yhat_poly_2  yhat_poly_3\n",
       "15680  0.054257     0.054257     0.054257     0.054257\n",
       "65289  0.138552     0.138552     0.138552     0.138552\n",
       "5275  -0.006489    -0.006489    -0.006489    -0.006489\n",
       "60465 -0.109411    -0.109411    -0.109411    -0.109411\n",
       "51437  0.000075     0.000075     0.000075     0.000075"
      ]
     },
     "execution_count": 62,
     "metadata": {},
     "output_type": "execute_result"
    }
   ],
   "source": [
    "y_validate.head()"
   ]
  },
  {
   "cell_type": "code",
   "execution_count": 76,
   "metadata": {},
   "outputs": [
    {
     "data": {
      "text/plain": [
       "<matplotlib.collections.PathCollection at 0x7fd7a0d280d0>"
      ]
     },
     "execution_count": 76,
     "metadata": {},
     "output_type": "execute_result"
    },
    {
     "data": {
      "image/png": "[encoded data removed]",
      "text/plain": [
       "<Figure size 648x648 with 1 Axes>"
      ]
     },
     "metadata": {
      "needs_background": "light"
     },
     "output_type": "display_data"
    }
   ],
   "source": [
    "plt.figure(figsize=(9, 9))\n",
    "plt.scatter(y_validate.logerror, y_validate.yhat_poly_1, label='Polynomial Regression Model Predictions', marker='o')\n",
    "plt.scatter(y_validate.logerror, y_validate.yhat_poly_2, label='Polynomial Regression Model Predictions', marker='o')\n",
    "plt.scatter(y_validate.logerror, y_validate.yhat_poly_3, label='Polynomial Regression Model Predictions', marker='o')\n",
    "plt.scatter(y_train.logerror, y_train.yhat_baseline, label='Baseline Predicitions', marker='o')"
   ]
  },
  {
   "cell_type": "code",
   "execution_count": null,
   "metadata": {},
   "outputs": [],
   "source": []
  }
 ],
 "metadata": {
  "kernelspec": {
   "display_name": "Python 3",
   "language": "python",
   "name": "python3"
  },
  "language_info": {
   "codemirror_mode": {
    "name": "ipython",
    "version": 3
   },
   "file_extension": ".py",
   "mimetype": "text/x-python",
   "name": "python",
   "nbconvert_exporter": "python",
   "pygments_lexer": "ipython3",
   "version": "3.8.3"
  }
 },
 "nbformat": 4,
 "nbformat_minor": 4
}
